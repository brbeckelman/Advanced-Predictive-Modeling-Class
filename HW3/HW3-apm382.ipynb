{
 "cells": [
  {
   "cell_type": "markdown",
   "metadata": {},
   "source": [
    "### Brooks Beckelman, Dallas Griffin"
   ]
  },
  {
   "cell_type": "markdown",
   "metadata": {},
   "source": [
    "# <p style=\"text-align: center;\">MIS 382N: Advanced Predictive Modeling</p>\n",
    "# <p style=\"text-align: center;\">Assignment 3</p>\n",
    "## <p style=\"text-align: center;\">Total points: 80 </p>\n",
    "## <p style=\"text-align: center;\">Due: Mon, October 24, by 11:59pm</p>\n",
    "\n",
    "\n",
    "Your homework should be written in a **Jupyter notebook**. Please submit **only one** ipynb file from each group, and include the names of all the group members. Also, please make sure your code runs and the graphics (and anything else) are displayed in your notebook before submitting."
   ]
  },
  {
   "cell_type": "code",
   "execution_count": 1,
   "metadata": {
    "collapsed": false
   },
   "outputs": [
    {
     "name": "stdout",
     "output_type": "stream",
     "text": [
      "Populating the interactive namespace from numpy and matplotlib\n"
     ]
    }
   ],
   "source": [
    "import pandas as pd\n",
    "from pandas import Series, DataFrame\n",
    "import numpy as np\n",
    "%pylab inline\n",
    "import seaborn as sns"
   ]
  },
  {
   "cell_type": "markdown",
   "metadata": {},
   "source": [
    "# Question 1 - Stochastic Gradient Descent (10pts)\n",
    "\n",
    "1. Using stochastic gradient descent, derive the coefficent updates for all 4 coefficients of the model: $$ y = w_0 + w_1*x_1 + w_2*x_1^2 + w_3*x_2 $$ Hint: start from the cost function (Assume sum of squared error). If you write the math by hand, submit that as a separate file and make a reference to it in your notebook or include the image in your notebook.\n",
    "2. Write Python code for an SGD solution to the non-linear model $$ y = w_0 + w_1*x_1 + w_2*x_1^2 + w_3*x_2$$ Try to format similarly to scikit-learn's models. There should be a _fit_ function that takes parameters X, y, learning rate, and number of iterations, and a _predict_ function that takes an X value (optionally, an array of values). Use your new gradient descent regression to predict the data given in 'samples.csv', for 10 epochs, using learning rates: [.0001, .001, .01] . Plot MSE and the $w$ parameters as a function of epoch count."
   ]
  },
  {
   "cell_type": "markdown",
   "metadata": {},
   "source": [
    "## 1. Derive coefficient updates\n",
    "\n",
    "For the purpose of this derivation, I will use the following cost function:\n",
    "\n",
    "$$ cost(w, (x^{(i)}, y^{(i)})) = \\frac{1}{2} * (\\hat{y}^{(i)} - y^{(i)})^2 $$\n",
    "\n",
    "where $i$ represents one sample from the data set, and $\\hat{y}$ is represented by the following equation:\n",
    "\n",
    "$$ \\hat{y} = w_0 + w_1*x_1 + w_2*x_1^2 + w_3*x_2 $$\n",
    "\n",
    "Thus, the cost function can be written as:\n",
    "\n",
    "$$ cost(w, (x^{(i)}, y^{(i)})) = \\frac{1}{2} * (w_0 + w_1*x_1^{(i)} + w_2*x_1^{(i)^2} + w_3*x_2^{(i)} - y^{(i)})^2 $$\n",
    "\n",
    "The coefficient update for each $w$ is defined as:\n",
    "\n",
    "$$ w_j = w_j - \\alpha * \\frac{\\partial}{\\partial w_j}cost(w,(x^{(i)},y^{(i)}) $$\n",
    "\n",
    "for $ j = 0, 1, 2, 3 $ where $\\alpha$ is the learning rate.\n",
    "\n",
    "The derivates of the cost function with respect to each coefficient are:\n",
    "\n",
    "$$ \\frac{\\partial}{\\partial w_0}cost(w_0,(x^{(i)},y^{(i)})) = (w_0 + w_1*x_1^{(i)} + w_2*x_1^{(i)^2} + w_3*x_2^{(i)} - y^{(i)}) $$\n",
    "\n",
    "$$ \\frac{\\partial}{\\partial w_1}cost(w_1,(x^{(i)},y^{(i)})) = x_1^{(i)}*(w_0 + w_1*x_1^{(i)} + w_2*x_1^{(i)^2} + w_3*x_2^{(i)} - y^{(i)}) $$\n",
    "\n",
    "$$ \\frac{\\partial}{\\partial w_2}cost(w_2,(x^{(i)},y^{(i)})) = x_1^{(i^2)}*(w_0 + w_1*x_1^{(i)} + w_2*x_1^{(i)^2} + w_3*x_2^{(i)} - y^{(i)}) $$\n",
    "\n",
    "$$ \\frac{\\partial}{\\partial w_3}cost(w_3,(x^{(i)},y^{(i)})) = x_2^{(i)}*(w_0 + w_1*x_1^{(i)} + w_2*x_1^{(i)^2} + w_3*x_2^{(i)} - y^{(i)}) $$\n",
    "\n",
    "Therefore, the coefficient updates for all 4 coefficients of the model are:\n",
    "\n",
    "$$ w_0 = w_0 - \\alpha * (w_0 + w_1*x_1^{(i)} + w_2*x_1^{(i)^2} + w_3*x_2^{(i)} - y^{(i)}) $$\n",
    "\n",
    "$$ w_1 = w_1 - \\alpha * x_1^{(i)}*(w_0 + w_1*x_1^{(i)} + w_2*x_1^{(i)^2} + w_3*x_2^{(i)} - y^{(i)}) $$\n",
    "\n",
    "$$ w_2 = w_2 - \\alpha * x_1^{(i)^2}*(w_0 + w_1*x_1^{(i)} + w_2*x_1^{(i)^2} + w_3*x_2^{(i)} - y^{(i)}) $$\n",
    "\n",
    "$$ w_3 = w_3 - \\alpha * x_2^{(i)}*(w_0 + w_1*x_1^{(i)} + w_2*x_1^{(i)^2} + w_3*x_2^{(i)} - y^{(i)}) $$\n",
    "\n",
    "where $\\alpha$ is the learning rate and $i$ represents one sample from the data set. For stochastic gradient descent, the algorithm will iterate through each sample in the data set, updating the coefficients each time."
   ]
  },
  {
   "cell_type": "markdown",
   "metadata": {},
   "source": [
    "## 2. SGD Model"
   ]
  },
  {
   "cell_type": "markdown",
   "metadata": {},
   "source": [
    "### Build class to perform stochastic gradient descent:"
   ]
  },
  {
   "cell_type": "code",
   "execution_count": 2,
   "metadata": {
    "collapsed": true
   },
   "outputs": [],
   "source": [
    "from sklearn.utils import shuffle\n",
    "\n",
    "class StochasticGradientDescent:\n",
    "    \n",
    "    def __init__(self, learning_rate, num_iters):\n",
    "        '''Allows user to import the desired learning rate and number of iterations/epochs'''\n",
    "        self.learning_rate = learning_rate\n",
    "        self.num_iters = num_iters\n",
    "    \n",
    "    def fit(self, X, y):\n",
    "        '''Takes an array of x values, an array of the corresponding y values, a learning rate, and the number of iterations and \n",
    "            outputs a list of weights that have been optimized using stochastic gradient descent'''\n",
    "\n",
    "        # Initialize coefficients\n",
    "        weights = np.array([0]*4)\n",
    "        w0 = weights[0]\n",
    "        w1 = weights[1]\n",
    "        w2 = weights[2]\n",
    "        w3 = weights[3]\n",
    "        \n",
    "        # Iterate through data set the number of times specified in input\n",
    "        for epoch in range(self.num_iters):\n",
    "            \n",
    "            # Randomize order of data points before each epoch\n",
    "            X_train, y_train = shuffle(X,y)\n",
    "            \n",
    "            # Iterate through each data point, updating the coefficients each time\n",
    "            for i in range(len(X)):\n",
    "                temp_x1 = X_train[i][0]\n",
    "                temp_x2 = X_train[i][1]\n",
    "                temp_y = y_train[i]\n",
    "                alpha = self.learning_rate\n",
    "                \n",
    "                # Update coefficients\n",
    "                temp_yhat = w0 + (w1*temp_x1) + (w2*temp_x1**2) + (w3*temp_x2)\n",
    "                w0 = w0 - (temp_yhat - temp_y)*alpha\n",
    "                w1 = w1 - (temp_yhat - temp_y)*temp_x1*alpha\n",
    "                w2 = w2 - (temp_yhat - temp_y)*(temp_x1**2)*alpha\n",
    "                w3 = w3 - (temp_yhat - temp_y)*temp_x2*alpha\n",
    "                weights = [w0, w1, w2, w3]\n",
    "        \n",
    "        self.weights = weights\n",
    "\n",
    "    def predict(self, X):\n",
    "        '''Uses fitted SGD model to predict values of y for a given X array'''\n",
    "\n",
    "        # Retrieve weights from fit\n",
    "        weights = self.weights\n",
    "        w0 = weights[0]\n",
    "        w1 = weights[1]\n",
    "        w2 = weights[2]\n",
    "        w3 = weights[3]\n",
    "        \n",
    "        y_pred = []\n",
    "        # Make prediction for each sample in X\n",
    "        for line in X:\n",
    "            temp_x1 = float(line[0])\n",
    "            temp_x2 = float(line[1])\n",
    "            temp_yhat = w0 + (w1*temp_x1) + (w2*temp_x1**2) + (w3*temp_x2)\n",
    "            # Add prediction to list of predictions\n",
    "            y_pred.append(temp_yhat)\n",
    "        \n",
    "        self.y_pred = y_pred\n",
    "        return y_pred"
   ]
  },
  {
   "cell_type": "markdown",
   "metadata": {},
   "source": [
    "### Use gradient descent class to predict data given in 'samples.csv':"
   ]
  },
  {
   "cell_type": "code",
   "execution_count": 3,
   "metadata": {
    "collapsed": false
   },
   "outputs": [],
   "source": [
    "# Read in data\n",
    "samples = pd.read_csv('samples.csv')[['x1', 'x2', 'y']]\n",
    "\n",
    "# Separate data into an X array and y array to input in SGD class\n",
    "X, y = np.array(samples[['x1', 'x2']]), np.array(samples['y'])"
   ]
  },
  {
   "cell_type": "code",
   "execution_count": 4,
   "metadata": {
    "collapsed": false
   },
   "outputs": [],
   "source": [
    "from sklearn.metrics import mean_squared_error as MSE\n",
    "\n",
    "# Define paramaters to be examined\n",
    "## Learning rate\n",
    "alphas = [0.0001, 0.001, 0.01]\n",
    "## Number of epochs\n",
    "num_iters = range(1,11)\n",
    "\n",
    "# Initialize lists to store MSE and weights after each iteration\n",
    "## MSE\n",
    "MSE0001_list = []\n",
    "MSE001_list = []\n",
    "MSE01_list = []\n",
    "## Weights\n",
    "weights0001_list = []\n",
    "weights001_list = []\n",
    "weights01_list = []\n",
    "\n",
    "# Iterate through epochs, fit SGD, and make predictions for X\n",
    "for itera in num_iters:\n",
    "    # Learning rate of 0.0001\n",
    "    fit0001 = StochasticGradientDescent(alphas[0], itera)\n",
    "    fit0001.fit(X, y)\n",
    "    predict0001 = fit0001.predict(X)\n",
    "    \n",
    "    # Learning rate of 0.001\n",
    "    fit001 = StochasticGradientDescent(alphas[1], itera) \n",
    "    fit001.fit(X, y)\n",
    "    predict001 = fit001.predict(X)\n",
    "    \n",
    "    # Learning rate of 0.01\n",
    "    fit01 = StochasticGradientDescent(alphas[2], itera) \n",
    "    fit01.fit(X, y)\n",
    "    predict01 = fit01.predict(X)\n",
    "    \n",
    "    # Append weights for each model to lists\n",
    "    weights0001_list.append(fit0001.weights)\n",
    "    weights001_list.append(fit001.weights)\n",
    "    weights01_list.append(fit01.weights)\n",
    "    \n",
    "    # Calculate MSE for each model and append to lists\n",
    "    MSE0001_list.append(MSE(y, predict0001))\n",
    "    MSE001_list.append(MSE(y, predict001))\n",
    "    MSE01_list.append(MSE(y, predict01))\n",
    "\n",
    "# Convert weights lists to arrays\n",
    "weights0001_array = np.array(weights0001_list)\n",
    "weights001_array = np.array(weights001_list)\n",
    "weights01_array = np.array(weights01_list)"
   ]
  },
  {
   "cell_type": "code",
   "execution_count": 5,
   "metadata": {
    "collapsed": false
   },
   "outputs": [
    {
     "data": {
      "text/plain": [
       "<matplotlib.text.Text at 0xb483748>"
      ]
     },
     "execution_count": 5,
     "metadata": {},
     "output_type": "execute_result"
    },
    {
     "data": {
      "image/png": "[encoded data removed]",
      "text/plain": [
       "<matplotlib.figure.Figure at 0xb1c61d0>"
      ]
     },
     "metadata": {},
     "output_type": "display_data"
    }
   ],
   "source": [
    "# Plot MSE as a function of epoch count for each model \n",
    "figure(figsize=(14,4))\n",
    "\n",
    "subplot(131)\n",
    "scatter(num_iters, MSE0001_list)\n",
    "title('Learning Rate: 0.0001')\n",
    "xlabel('Epoch Count')\n",
    "ylabel('MSE')\n",
    "\n",
    "subplot(132)\n",
    "scatter(num_iters, MSE001_list)\n",
    "title('Learning Rate: 0.001')\n",
    "xlabel('Epoch Count')\n",
    "ylabel('MSE')\n",
    "\n",
    "subplot(133)\n",
    "scatter(num_iters, MSE01_list)\n",
    "title('Learning Rate: 0.01')\n",
    "xlabel('Epoch Count')\n",
    "ylabel('MSE')"
   ]
  },
  {
   "cell_type": "code",
   "execution_count": 6,
   "metadata": {
    "collapsed": false
   },
   "outputs": [],
   "source": [
    "# Create dataframes out weight arrays for easier plotting \n",
    "df_weights0001 = DataFrame(weights0001_array)\n",
    "df_weights0001.columns = ['w0', 'w1', 'w2', 'w3']\n",
    "\n",
    "df_weights001 = DataFrame(weights001_array)\n",
    "df_weights001.columns = ['w0', 'w1', 'w2', 'w3']\n",
    "\n",
    "df_weights01 = DataFrame(weights01_array)\n",
    "df_weights01.columns = ['w0', 'w1', 'w2', 'w3']"
   ]
  },
  {
   "cell_type": "code",
   "execution_count": 7,
   "metadata": {
    "collapsed": false
   },
   "outputs": [
    {
     "data": {
      "text/plain": [
       "<matplotlib.legend.Legend at 0xcd7b668>"
      ]
     },
     "execution_count": 7,
     "metadata": {},
     "output_type": "execute_result"
    },
    {
     "data": {
      "image/png": "[encoded data removed]",
      "text/plain": [
       "<matplotlib.figure.Figure at 0xc84dd68>"
      ]
     },
     "metadata": {},
     "output_type": "display_data"
    }
   ],
   "source": [
    "epochs = range(1,11)\n",
    "\n",
    "# Plot weights as a function of epoch count for each model\n",
    "figure(figsize=(14,4))\n",
    "\n",
    "subplot(131)\n",
    "plot(epochs, df_weights0001['w0'])\n",
    "plot(epochs, df_weights0001['w1'])\n",
    "plot(epochs, df_weights0001['w2'])\n",
    "plot(epochs, df_weights0001['w3'])\n",
    "xlabel('Epoch Count')\n",
    "ylabel('Weights')\n",
    "title('Learning Rate: 0.0001')\n",
    "legend(loc = 'best')\n",
    "\n",
    "subplot(132)\n",
    "plot(epochs, df_weights001['w0'])\n",
    "plot(epochs, df_weights001['w1'])\n",
    "plot(epochs, df_weights001['w2'])\n",
    "plot(epochs, df_weights001['w3'])\n",
    "xlabel('Epoch Count')\n",
    "ylabel('Weights')\n",
    "title('Learning Rate: 0.0001')\n",
    "legend(loc = 'best')\n",
    "\n",
    "subplot(133)\n",
    "plot(epochs, df_weights01['w0'])\n",
    "plot(epochs, df_weights01['w1'])\n",
    "plot(epochs, df_weights01['w2'])\n",
    "plot(epochs, df_weights01['w3'])\n",
    "xlabel('Epoch Count')\n",
    "ylabel('Weights')\n",
    "title('Learning Rate: 0.0001')\n",
    "legend(loc = 'best')"
   ]
  },
  {
   "cell_type": "markdown",
   "metadata": {},
   "source": [
    "# Question 2: Gradient Descent (5 pts)\n",
    "\n",
    "Suppose we are trying to use gradient descent to minimize a cost function y = f(w) as shown in the figure below. This function is linearly decreasing between A and B, constant between B and C, quadratic between C and D and constant between D and E. Assume that we have 10000 data points in our training set. If we choose the starting point between B and C, will we be able to find the local minima? Explain your answer. If your answer is \"Yes\", can you give a bound on the number of iterations required to get to the local minima?\n",
    "\n",
    "<img src=\"sgd.png\">"
   ]
  },
  {
   "cell_type": "markdown",
   "metadata": {},
   "source": [
    "If we are using batch gradient descent and the starting point is between B and C, then we will not be able to find the local minima in this instance. Batch gradient descent works by iterating through an entire data set and updating the coefficients of some function to minimize the associated cost function after each iteration. The formula that is used to update the coefficient $w$ is shown below:\n",
    "\n",
    "$$ w = w - \\alpha*\\frac{\\partial}{\\partial w}J(w) $$\n",
    "\n",
    "In this formula, $w$ represents the coefficient that is being updated, $\\alpha$ represents the learning rate, and $J(w)$ represents the cost function. The change in the coefficient is directly proportional to the derivative of the cost function with respect to the coefficient. If we start between B and C, the derivative of the cost function with respect to $w$ is zero. Therefore, the second term in the above function is zero, and $w$ remains unchanged regardless of how many iterations are performed.\n",
    "\n",
    "However, if we are using stochastic gradient descent, the coefficients are updated after each data point rather than after each epoch. In this case, it would be possible for us to approach the local minima because the data points are randomized and the starting point does not matter to a large degree. "
   ]
  },
  {
   "cell_type": "markdown",
   "metadata": {},
   "source": [
    "# Question 3: Multi-layer Perceptron regressor (15 points)\n",
    "\n",
    "In this question, you will explore the application of Multi-layer Perceptron (MLP) regression using sklearn package in Python. We will use the same dataset used in HW2 Q5: Hitters.csv [here](https://rdrr.io/cran/ISLR/man/Hitters.html). \n",
    "\n",
    "Following code will load and split the data into training and test set using [train_test_split](http://scikit-learn.org/stable/modules/generated/sklearn.model_selection.train_test_split.html) with **random state 42** and **test_size = 0.33**:"
   ]
  },
  {
   "cell_type": "code",
   "execution_count": 8,
   "metadata": {
    "collapsed": false
   },
   "outputs": [
    {
     "name": "stdout",
     "output_type": "stream",
     "text": [
      "(263, 16)\n"
     ]
    }
   ],
   "source": [
    "import pandas as pd\n",
    "import numpy as np\n",
    "from sklearn.model_selection import (train_test_split,KFold)\n",
    "from sklearn.metrics import mean_squared_error\n",
    "from sklearn.neural_network import MLPRegressor\n",
    "from sklearn.preprocessing import StandardScaler\n",
    "import matplotlib.pyplot as plt\n",
    "%matplotlib inline\n",
    "\n",
    "data = pd.read_csv('Hitters.csv')\n",
    "label_name = 'Salary'\n",
    "y = data[label_name]\n",
    "X = data.drop(label_name,axis=1)\n",
    "print X.shape\n",
    "\n",
    "X_train, X_test, y_train, y_test = train_test_split(X,y,test_size = 0.33, random_state=42)"
   ]
  },
  {
   "cell_type": "markdown",
   "metadata": {},
   "source": [
    "One more thing to use in this problem is [StandardScaler](http://scikit-learn.org/stable/modules/generated/sklearn.preprocessing.StandardScaler.html). Instead of fitting a model on original data, use StandardScaler to make each feature centered ([Example](http://scikit-learn.org/stable/auto_examples/applications/plot_prediction_latency.html#sphx-glr-auto-examples-applications-plot-prediction-latency-py)). Whenever you have training and test data, fit a scaler on training data and use this scaler on test data. Here, scale only features (independent variables), not target variable y."
   ]
  },
  {
   "cell_type": "markdown",
   "metadata": {},
   "source": [
    "1) Use [sklearn.neural_nework.MLPRegressor](http://scikit-learn.org/stable/modules/generated/sklearn.neural_network.MLPRegressor.html#sklearn.neural_network.MLPRegressor) to do a 5-fold cross validation using sklearn's [KFold](http://scikit-learn.org/stable/modules/generated/sklearn.model_selection.KFold.html#sklearn.model_selection.KFold). The cross validation must be performed on the **training data**. Use following parameter settings for MLPRegressor:\n",
    "\n",
    "    activation = 'tanh', solver = 'sgd', learning_rate='constant', random_state=42,\n",
    "    batch_size=40, learning_rate_init = 0.001\n",
    "    \n",
    "Now, consider two different settings for the number of hidden units:\n",
    "    \n",
    "   (a) *hidden_layer_sizes = (2,)* (b) *hidden_layer_sizes = (15,)*\n",
    "    \n",
    "   Report the average Root Mean Squared Error (RMSE) value based on your 5-fold cross validation for each model: (a) and (b) (6pts)\n",
    "   \n",
    "   \n",
    "2) Now, using the same parameters used in part 1), train MLPRegressor models on whole training data and report RMSE score for both Train and Test set (Again, use StandardScaler). Which model works better, (a) or (b)? Briefly analyze the result in terms of the number of hidden units. (5pts)\n",
    "\n",
    "\n",
    "3) MLPRegressor has a built-in attribute *loss\\_curve\\_* which returns the loss at each iteration. For example, if your model is named as *my_model* you can call it as *my\\_model.loss\\_curve\\_* ([example](http://scikit-learn.org/stable/auto_examples/neural_networks/plot_mlp_training_curves.html#sphx-glr-auto-examples-neural-networks-plot-mlp-training-curves-py)). Plot two curves for model (a) and (b) in one figure, where *X-axis* is iteration number and *Y-axis* is squared root of *loss\\_curve\\_* value. (4pts)"
   ]
  },
  {
   "cell_type": "code",
   "execution_count": 9,
   "metadata": {
    "collapsed": false
   },
   "outputs": [],
   "source": [
    "# Scale and center features\n",
    "X_scaler = StandardScaler()\n",
    "\n",
    "X_train = X_scaler.fit_transform(X_train)\n",
    "X_train = DataFrame(X_train)\n",
    "\n",
    "X_test = X_scaler.transform(X_test)\n",
    "X_test = DataFrame(X_test)"
   ]
  },
  {
   "cell_type": "markdown",
   "metadata": {},
   "source": [
    "## 1) 5-Fold Cross Validation"
   ]
  },
  {
   "cell_type": "code",
   "execution_count": 10,
   "metadata": {
    "collapsed": false
   },
   "outputs": [],
   "source": [
    "# Define parameters for each model\n",
    "\n",
    "## hidden_layer_sizes = (2,)\n",
    "mlp2 = MLPRegressor(hidden_layer_sizes=(2,), activation='tanh', solver='sgd', learning_rate='constant', random_state=42, \n",
    "                   batch_size=40, learning_rate_init=0.001)\n",
    "\n",
    "## hidden_layer_sizes = (15,)\n",
    "mlp15 = MLPRegressor(hidden_layer_sizes=(15,), activation='tanh', solver='sgd', learning_rate='constant', random_state=42,\n",
    "                    batch_size=40, learning_rate_init=0.001)"
   ]
  },
  {
   "cell_type": "code",
   "execution_count": 11,
   "metadata": {
    "collapsed": false
   },
   "outputs": [],
   "source": [
    "kf = KFold(n_splits=5, random_state=42)\n",
    "kf.get_n_splits(X_train)\n",
    "\n",
    "RMSE2 = []\n",
    "RMSE15 = []\n",
    "\n",
    "for train, test in kf.split(X_train):\n",
    "    # Fit models\n",
    "    mlp2.fit(X_train.iloc[train], y_train.iloc[train])\n",
    "    mlp15.fit(X_train.iloc[train], y_train.iloc[train])\n",
    "    \n",
    "    y2_predict = mlp2.predict(X_train.iloc[test])\n",
    "    y2_true = y_train.iloc[test]\n",
    "    y15_predict = mlp15.predict(X_train.iloc[test])\n",
    "    y15_true = y_train.iloc[test]\n",
    "    \n",
    "    MSE2 = mean_squared_error(y2_true, y2_predict)\n",
    "    MSE15 = mean_squared_error(y15_true, y15_predict)\n",
    "    \n",
    "    RMSE2.append(MSE2**.5)\n",
    "    RMSE15.append(MSE15**.5)"
   ]
  },
  {
   "cell_type": "code",
   "execution_count": 12,
   "metadata": {
    "collapsed": false
   },
   "outputs": [
    {
     "name": "stdout",
     "output_type": "stream",
     "text": [
      "Average Root Mean Squared Error (RMSE) from 5-Fold Cross Validation\n",
      "\n",
      "Hidden layers = 2\t:\t409.788162201\n",
      "Hidden layers = 15\t:\t310.867520821\n"
     ]
    }
   ],
   "source": [
    "print 'Average Root Mean Squared Error (RMSE) from 5-Fold Cross Validation'\n",
    "print \n",
    "print 'Hidden layers = 2\\t:\\t{}'.format(np.mean(RMSE2))\n",
    "print 'Hidden layers = 15\\t:\\t{}'.format(np.mean(RMSE15))"
   ]
  },
  {
   "cell_type": "markdown",
   "metadata": {},
   "source": [
    "## 2) Train regressor on whole training set"
   ]
  },
  {
   "cell_type": "code",
   "execution_count": 13,
   "metadata": {
    "collapsed": false
   },
   "outputs": [
    {
     "name": "stdout",
     "output_type": "stream",
     "text": [
      "HIDDEN LAYERS = 2\n",
      "Train RMSE\t:\t364.368091219\n",
      "Test RMSE\t:\t486.722986238\n",
      "\n",
      "HIDDEN LAYERS = 15\n",
      "Train RMSE\t:\t300.095370331\n",
      "Test RMSE\t:\t412.637972754\n"
     ]
    }
   ],
   "source": [
    "mlp2.fit(X_train, y_train)\n",
    "mlp15.fit(X_train, y_train)\n",
    "\n",
    "predict2_train = mlp2.predict(X_train)\n",
    "predict2_test = mlp2.predict(X_test)\n",
    "\n",
    "predict15_train = mlp15.predict(X_train)\n",
    "predict15_test = mlp15.predict(X_test)\n",
    "\n",
    "rmse2_train = mean_squared_error(y_train, predict2_train)**.5\n",
    "rmse2_test = mean_squared_error(y_test, predict2_test)**.5\n",
    "\n",
    "rmse15_train = mean_squared_error(y_train, predict15_train)**.5\n",
    "rmse15_test = mean_squared_error(y_test, predict15_test)**.5\n",
    "\n",
    "print 'HIDDEN LAYERS = 2'\n",
    "print 'Train RMSE\\t:\\t{}'.format(rmse2_train)\n",
    "print 'Test RMSE\\t:\\t{}'.format(rmse2_test)\n",
    "print \n",
    "print 'HIDDEN LAYERS = 15'\n",
    "print 'Train RMSE\\t:\\t{}'.format(rmse15_train)\n",
    "print 'Test RMSE\\t:\\t{}'.format(rmse15_test)"
   ]
  },
  {
   "cell_type": "markdown",
   "metadata": {},
   "source": [
    "Just as we saw from the 5-fold cross validation, the model with 15 hidden layers performed better than the model with 2 hidden layers. The model with 15 layers resulted in a better predictive accuracy for both the training set and the test set. The addition of the extra hidden layers allows the model to learn the complexity of the training data better. This also clearly does not result in overfitting the training data as the model with more hidden layers has better predictive accuracy on the test set."
   ]
  },
  {
   "cell_type": "markdown",
   "metadata": {},
   "source": [
    "## 3) Plot loss curves"
   ]
  },
  {
   "cell_type": "code",
   "execution_count": 14,
   "metadata": {
    "collapsed": false
   },
   "outputs": [
    {
     "data": {
      "text/plain": [
       "<matplotlib.text.Text at 0xd443908>"
      ]
     },
     "execution_count": 14,
     "metadata": {},
     "output_type": "execute_result"
    },
    {
     "data": {
      "image/png": "[encoded data removed]",
      "text/plain": [
       "<matplotlib.figure.Figure at 0xd268d30>"
      ]
     },
     "metadata": {},
     "output_type": "display_data"
    }
   ],
   "source": [
    "figure(figsize = (16,5))\n",
    "\n",
    "subplot(121)\n",
    "plot(np.sqrt(mlp2.loss_curve_))\n",
    "title('Hidden Layers = 2')\n",
    "xlabel('Iteration')\n",
    "ylabel('Square Root of Loss')\n",
    "\n",
    "subplot(122)\n",
    "plot(np.sqrt(mlp15.loss_curve_))\n",
    "title('Hidden Layers = 15')\n",
    "xlabel('Iteration')\n",
    "ylabel('Square Root of Loss')"
   ]
  },
  {
   "cell_type": "markdown",
   "metadata": {},
   "source": [
    "# Question 4 - Bayesian Classifiers (10 pts)\n",
    "\n",
    "Download the Smarket dataset from Canvas. This contains about four years worth of daily prices for one stock. The goal is to predict whether or not the stock price will go up or down, and the features are the stock prices of the last five days.  \n",
    "The code below loads the dataset and all necessary sklearn modules (not that you can't use more if you feel like it). Look up any module on the scikit-learn website for a full description.\n",
    "\n",
    "1. The last 50 points will be the test dataset. For training, use the 1000 points prior to these 50 test points.\n",
    "2. Train Linear Discriminant Analysis, Quadratic Discriminant Analysis, and (Gaussian) Naive Bayes. Extract the probability of the stock price going up for each row in the test set.\n",
    "3. Plot the receiver operating characteristic (ROC) curve of each model, using the extracted probabilities and the true values for the test set. (3 pts)\n",
    "4. Report the area under the ROC curve (AUC) for each model. (2 pts)\n",
    "6. Justify the performance of each model, relative to the others. (1 pts)\n",
    "7. Repeat steps 1-6, only using the prior 100 points for training. Explain the changes in model performance. (4 pts)"
   ]
  },
  {
   "cell_type": "code",
   "execution_count": 29,
   "metadata": {
    "collapsed": true
   },
   "outputs": [],
   "source": [
    "import pandas as pd\n",
    "from sklearn.model_selection import train_test_split\n",
    "from sklearn.metrics import roc_curve, roc_auc_score\n",
    "from sklearn.naive_bayes import GaussianNB\n",
    "from sklearn.discriminant_analysis import LinearDiscriminantAnalysis as LDA\n",
    "from sklearn.discriminant_analysis import QuadraticDiscriminantAnalysis as QDA\n",
    "data = pd.read_csv('Smarket.csv', usecols=['Lag1','Lag2','Lag3','Lag4','Lag5','Direction'])"
   ]
  },
  {
   "cell_type": "markdown",
   "metadata": {},
   "source": [
    "## 1. Split data into training and test set"
   ]
  },
  {
   "cell_type": "code",
   "execution_count": 30,
   "metadata": {
    "collapsed": false
   },
   "outputs": [],
   "source": [
    "train = data[-1050:-50]\n",
    "X_train = train.drop('Direction', axis=1)\n",
    "y_train = train['Direction']\n",
    "\n",
    "test = data[-50:]\n",
    "X_test = test.drop('Direction', axis=1)\n",
    "y_test = test['Direction']"
   ]
  },
  {
   "cell_type": "markdown",
   "metadata": {},
   "source": [
    "## 2. Train LDA, QDA, and Naive Bayes"
   ]
  },
  {
   "cell_type": "code",
   "execution_count": 31,
   "metadata": {
    "collapsed": false
   },
   "outputs": [],
   "source": [
    "# Train LDA model \n",
    "LDA_model = LDA()\n",
    "LDA_model.fit(X_train, y_train)\n",
    "LDA_probs = LDA_model.predict_proba(X_test)\n",
    "\n",
    "# Train QDA model\n",
    "QDA_model = QDA()\n",
    "QDA_model.fit(X_train, y_train)\n",
    "QDA_probs = QDA_model.predict_proba(X_test)\n",
    "\n",
    "# Traine Naive Bayes model\n",
    "NB_model = GaussianNB()\n",
    "NB_model.fit(X_train, y_train)\n",
    "NB_probs = NB_model.predict_proba(X_test)"
   ]
  },
  {
   "cell_type": "code",
   "execution_count": 32,
   "metadata": {
    "collapsed": true
   },
   "outputs": [],
   "source": [
    "def extract_probs(probs_array):\n",
    "    probs_down = []\n",
    "    probs_up = []\n",
    "    for row in probs_array:\n",
    "        probs_down.append(row[0])\n",
    "        probs_up.append(row[1])\n",
    "    \n",
    "    return probs_up, probs_down"
   ]
  },
  {
   "cell_type": "code",
   "execution_count": 33,
   "metadata": {
    "collapsed": false
   },
   "outputs": [
    {
     "data": {
      "text/plain": [
       "[0.50495138668713124,\n",
       " 0.53888530608011342,\n",
       " 0.54603080014781469,\n",
       " 0.48018947654562905,\n",
       " 0.50410137409817912]"
      ]
     },
     "execution_count": 33,
     "metadata": {},
     "output_type": "execute_result"
    }
   ],
   "source": [
    "LDA_probsUp, LDA_probsDown = extract_probs(LDA_probs)\n",
    "QDA_probsUp, QDA_probsDown = extract_probs(QDA_probs)\n",
    "NB_probsUp, NB_probsDown = extract_probs(NB_probs)\n",
    "\n",
    "LDA_probsUp[:5]"
   ]
  },
  {
   "cell_type": "markdown",
   "metadata": {},
   "source": [
    "## 3. Receiver operating characteristic (ROC) curves"
   ]
  },
  {
   "cell_type": "code",
   "execution_count": 34,
   "metadata": {
    "collapsed": false
   },
   "outputs": [],
   "source": [
    "LDA_fpr, LDA_tpr, LDA_thresholds = roc_curve(y_test, LDA_probsUp, pos_label='Up')\n",
    "QDA_fpr, QDA_tpr, QDA_thresholds = roc_curve(y_test, QDA_probsUp, pos_label='Up')\n",
    "NB_fpr, NB_tpr, NB_thresholds = roc_curve(y_test, NB_probsUp, pos_label='Up')"
   ]
  },
  {
   "cell_type": "code",
   "execution_count": 35,
   "metadata": {
    "collapsed": false
   },
   "outputs": [
    {
     "data": {
      "text/plain": [
       "<matplotlib.text.Text at 0x118ab978>"
      ]
     },
     "execution_count": 35,
     "metadata": {},
     "output_type": "execute_result"
    },
    {
     "data": {
      "image/png": "[encoded data removed]",
      "text/plain": [
       "<matplotlib.figure.Figure at 0x10f76fd0>"
      ]
     },
     "metadata": {},
     "output_type": "display_data"
    }
   ],
   "source": [
    "x = [0,1]\n",
    "y = [0,1]\n",
    "\n",
    "figure(figsize=(14,4))\n",
    "\n",
    "subplot(131)\n",
    "plot(LDA_fpr, LDA_tpr)\n",
    "plot(x,y, ls='--')\n",
    "title('LDA ROC Curve')\n",
    "xlabel('False Positive Rate')\n",
    "ylabel('True Positive Rate')\n",
    "\n",
    "subplot(132)\n",
    "plot(QDA_fpr, QDA_tpr)\n",
    "plot(x,y, ls='--')\n",
    "title('QDA ROC Curve')\n",
    "xlabel('False Positive Rate')\n",
    "ylabel('True Positive Rate')\n",
    "\n",
    "subplot(133)\n",
    "plot(NB_fpr, NB_tpr)\n",
    "plot(x,y, ls='--')\n",
    "title('Naive Bayes ROC Curve')\n",
    "xlabel('False Positive Rate')\n",
    "ylabel('True Positive Rate')"
   ]
  },
  {
   "cell_type": "markdown",
   "metadata": {},
   "source": [
    "## 4. Area under ROC curves"
   ]
  },
  {
   "cell_type": "code",
   "execution_count": 36,
   "metadata": {
    "collapsed": false
   },
   "outputs": [],
   "source": [
    "y_test_bin = []\n",
    "for y in y_test:\n",
    "    if y == 'Up':\n",
    "        y_test_bin.append(1)\n",
    "    else:\n",
    "        y_test_bin.append(0)"
   ]
  },
  {
   "cell_type": "code",
   "execution_count": 37,
   "metadata": {
    "collapsed": true
   },
   "outputs": [],
   "source": [
    "LDA_auc = roc_auc_score(y_test_bin, LDA_probsUp)\n",
    "QDA_auc = roc_auc_score(y_test_bin, QDA_probsUp)\n",
    "NB_auc = roc_auc_score(y_test_bin, NB_probsUp)"
   ]
  },
  {
   "cell_type": "code",
   "execution_count": 38,
   "metadata": {
    "collapsed": false
   },
   "outputs": [
    {
     "name": "stdout",
     "output_type": "stream",
     "text": [
      "Area Under ROC Curve\n",
      "\n",
      "LDA\t\t:\t0.520000\n",
      "QDA\t\t:\t0.628333\n",
      "Naive Bayes\t:\t0.521667\n"
     ]
    }
   ],
   "source": [
    "print 'Area Under ROC Curve'\n",
    "print\n",
    "print 'LDA\\t\\t:\\t%f' % (LDA_auc)\n",
    "print 'QDA\\t\\t:\\t%f' % (QDA_auc)\n",
    "print 'Naive Bayes\\t:\\t%f' % (NB_auc)"
   ]
  },
  {
   "cell_type": "markdown",
   "metadata": {},
   "source": [
    "## 5. Justify performance of each model"
   ]
  },
  {
   "cell_type": "markdown",
   "metadata": {},
   "source": [
    "The Quadratic Discriminant Analysis clearly outperformed the other two models. The Linear Discriminant Analysis and Naive Bayes models both produced ROC curves with an AUC of about 0.52. This is only slightly better than you would theoretically get by flipping a coin. QDA performed much better, with an area under the curve of about 0.63.\n",
    "\n",
    "The fact that QDA outperforms LDA in this case likely indicates that there is not a clear linear boundary separating the two classes in the dimensional space. QDA has the ability to learn quadratic boundaries where LDA does not, so it is more flexible and can find a more appropriate non-linear boundary in this case. Naive Bayes does not perform well because it is not able to gain much information from the likelihood values, and is thus forced to rely heavily on the priors to estimate the posterior probabilities."
   ]
  },
  {
   "cell_type": "markdown",
   "metadata": {},
   "source": [
    "## 6. Use prior 100 points for training"
   ]
  },
  {
   "cell_type": "code",
   "execution_count": 39,
   "metadata": {
    "collapsed": true
   },
   "outputs": [],
   "source": [
    "train = data[-150:-50]\n",
    "X_train = train.drop('Direction', axis=1)\n",
    "y_train = train['Direction']\n",
    "\n",
    "test = data[-50:]\n",
    "X_test = test.drop('Direction', axis=1)\n",
    "y_test = test['Direction']"
   ]
  },
  {
   "cell_type": "code",
   "execution_count": 40,
   "metadata": {
    "collapsed": true
   },
   "outputs": [],
   "source": [
    "# Train LDA model \n",
    "LDA_model = LDA()\n",
    "LDA_model.fit(X_train, y_train)\n",
    "LDA_probs = LDA_model.predict_proba(X_test)\n",
    "\n",
    "# Train QDA model\n",
    "QDA_model = QDA()\n",
    "QDA_model.fit(X_train, y_train)\n",
    "QDA_probs = QDA_model.predict_proba(X_test)\n",
    "\n",
    "# Traine Naive Bayes model\n",
    "NB_model = GaussianNB()\n",
    "NB_model.fit(X_train, y_train)\n",
    "NB_probs = NB_model.predict_proba(X_test)\n",
    "\n",
    "# Extract probabilities\n",
    "LDA_probsUp, LDA_probsDown = extract_probs(LDA_probs)\n",
    "QDA_probsUp, QDA_probsDown = extract_probs(QDA_probs)\n",
    "NB_probsUp, NB_probsDown = extract_probs(NB_probs)"
   ]
  },
  {
   "cell_type": "code",
   "execution_count": 41,
   "metadata": {
    "collapsed": false
   },
   "outputs": [
    {
     "data": {
      "text/plain": [
       "<matplotlib.text.Text at 0x11aa1438>"
      ]
     },
     "execution_count": 41,
     "metadata": {},
     "output_type": "execute_result"
    },
    {
     "data": {
      "image/png": "[encoded data removed]",
      "text/plain": [
       "<matplotlib.figure.Figure at 0x10484080>"
      ]
     },
     "metadata": {},
     "output_type": "display_data"
    }
   ],
   "source": [
    "LDA_fpr, LDA_tpr, LDA_thresholds = roc_curve(y_test, LDA_probsUp, pos_label='Up')\n",
    "QDA_fpr, QDA_tpr, QDA_thresholds = roc_curve(y_test, QDA_probsUp, pos_label='Up')\n",
    "NB_fpr, NB_tpr, NB_thresholds = roc_curve(y_test, NB_probsUp, pos_label='Up')\n",
    "\n",
    "x = [0,1]\n",
    "y = [0,1]\n",
    "\n",
    "figure(figsize=(14,4))\n",
    "\n",
    "subplot(131)\n",
    "plot(LDA_fpr, LDA_tpr)\n",
    "plot(x,y, ls='--')\n",
    "title('LDA ROC Curve')\n",
    "xlabel('False Positive Rate')\n",
    "ylabel('True Positive Rate')\n",
    "\n",
    "subplot(132)\n",
    "plot(QDA_fpr, QDA_tpr)\n",
    "plot(x,y, ls='--')\n",
    "title('QDA ROC Curve')\n",
    "xlabel('False Positive Rate')\n",
    "ylabel('True Positive Rate')\n",
    "\n",
    "subplot(133)\n",
    "plot(NB_fpr, NB_tpr)\n",
    "plot(x,y, ls='--')\n",
    "title('Naive Bayes ROC Curve')\n",
    "xlabel('False Positive Rate')\n",
    "ylabel('True Positive Rate')"
   ]
  },
  {
   "cell_type": "code",
   "execution_count": 42,
   "metadata": {
    "collapsed": false
   },
   "outputs": [
    {
     "name": "stdout",
     "output_type": "stream",
     "text": [
      "Area Under ROC Curve\n",
      "\n",
      "LDA\t\t:\t0.421667\n",
      "QDA\t\t:\t0.508333\n",
      "Naive Bayes\t:\t0.508333\n"
     ]
    }
   ],
   "source": [
    "LDA_auc = roc_auc_score(y_test_bin, LDA_probsUp)\n",
    "QDA_auc = roc_auc_score(y_test_bin, QDA_probsUp)\n",
    "NB_auc = roc_auc_score(y_test_bin, NB_probsUp)\n",
    "\n",
    "print 'Area Under ROC Curve'\n",
    "print\n",
    "print 'LDA\\t\\t:\\t%f' % (LDA_auc)\n",
    "print 'QDA\\t\\t:\\t%f' % (QDA_auc)\n",
    "print 'Naive Bayes\\t:\\t%f' % (NB_auc)"
   ]
  },
  {
   "cell_type": "markdown",
   "metadata": {},
   "source": [
    "### Changes in Model Performance:\n",
    "\n",
    "All three models (LDA, QDA, Naive Bayes) performed worse when using only the prior 100 points than they did when using the prior 1,000 points. Quadratic Discriminant Analysis and Naive Bayes both performed only about as well as flipping a coin, and Linear Discriminant Analysis actually performed much worse. As one would expect, using fewer data points to train the models resulted in poorer performance. For LDA and QDA, having an order of magnitude fewer points in a large dimensional space makes it increasingly difficult to discern an accurate boundary for splitting the two classes. Since we saw earlier that a much larger sample did not even have a clear linear boundary, this makes things exceptionally difficult for the LDA classifier.\n",
    "\n",
    "For Naive Bayes, the model performs only slightly worse with 100 data points in the training set than it does with 1,000 points. This is likely because the model was already not performing very well and with viewer data points, there are fewer priors to train off of. "
   ]
  },
  {
   "cell_type": "markdown",
   "metadata": {},
   "source": [
    "# Question 5 - Logistic Regression (15pts)\n",
    "\n",
    "In this question we will be predicting mile per gallon (mpg) for Auto data set. ('Auto.csv' in Canvas)\n",
    "1. Convert mpg to a binary variable mpg01 which is 1 if had an mpg is greater than median mpg and zero otherwise\n",
    "2. Split the data into training and test. Use 42 as random seed and use 1/3rd of the data for testing. Our y variable is mpg01 and X matrix includes all the other variables except mpg01.\n",
    "3. Train a logistic regression with almost no regularization (pass l2 (ridge) to penalty and 1,000,000 to the C parameter which is the inverse of regularization strength lambda. This essentially does l2 regularization but applies very little weight to the penalty term) and report the [confusion matrix](http://scikit-learn.org/stable/modules/generated/sklearn.metrics.confusion_matrix.html) on the test data. Also report the accuracy for the \"mpg01 = 0\" class, the \"mpg01 = 1\" class, and the average per-class accuracy on the test data. Average per-class accuracy is described in this [post](http://rasbt.github.io/mlxtend/user_guide/evaluate/scoring/). You can use your confusion matrix to calculate this.\n",
    "4. Repeat step 3 except use l2 penalty with Cs of [0.001,0.01, 0.1, 1, 10 ,100, 1000]. You will want to use k-fold cross validation to select the best parameter. To evaluate which parameter is best, maximize the average per-class accuracy. To help with this task, check out [GridSearchCV](http://scikit-learn.org/stable/modules/generated/sklearn.model_selection.GridSearchCV.html#sklearn.model_selection.GridSearchCV) and how to make your own [custom scorer](http://scikit-learn.org/stable/modules/model_evaluation.html).\n",
    "5. Repeat question 4 except use l1 instead of l2 as the penalty type, use Cs of  [0.001, 0.01, ..., 1000]\n",
    "6. Which model produces the best average per-class accuracy? Why do you think this is the case? How do the models handle the different classes, and why is this so?"
   ]
  },
  {
   "cell_type": "markdown",
   "metadata": {},
   "source": [
    "Following code will load and clean the dataset and load some useful functions"
   ]
  },
  {
   "cell_type": "code",
   "execution_count": 43,
   "metadata": {
    "collapsed": false
   },
   "outputs": [
    {
     "name": "stderr",
     "output_type": "stream",
     "text": [
      "C:\\Users\\Dallas\\Anaconda2\\lib\\site-packages\\sklearn\\cross_validation.py:44: DeprecationWarning: This module was deprecated in version 0.18 in favor of the model_selection module into which all the refactored classes and functions are moved. Also note that the interface of the new CV iterators are different from that of this module. This module will be removed in 0.20.\n",
      "  \"This module will be removed in 0.20.\", DeprecationWarning)\n",
      "C:\\Users\\Dallas\\Anaconda2\\lib\\site-packages\\sklearn\\grid_search.py:43: DeprecationWarning: This module was deprecated in version 0.18 in favor of the model_selection module into which all the refactored classes and functions are moved. This module will be removed in 0.20.\n",
      "  DeprecationWarning)\n"
     ]
    },
    {
     "data": {
      "text/html": [
       "<div>\n",
       "<table border=\"1\" class=\"dataframe\">\n",
       "  <thead>\n",
       "    <tr style=\"text-align: right;\">\n",
       "      <th></th>\n",
       "      <th>mpg</th>\n",
       "      <th>cylinders</th>\n",
       "      <th>displacement</th>\n",
       "      <th>horsepower</th>\n",
       "      <th>weight</th>\n",
       "      <th>acceleration</th>\n",
       "      <th>year</th>\n",
       "      <th>origin</th>\n",
       "    </tr>\n",
       "  </thead>\n",
       "  <tbody>\n",
       "    <tr>\n",
       "      <th>0</th>\n",
       "      <td>18.0</td>\n",
       "      <td>8</td>\n",
       "      <td>307.0</td>\n",
       "      <td>130.0</td>\n",
       "      <td>3504</td>\n",
       "      <td>12.0</td>\n",
       "      <td>70</td>\n",
       "      <td>1</td>\n",
       "    </tr>\n",
       "    <tr>\n",
       "      <th>1</th>\n",
       "      <td>15.0</td>\n",
       "      <td>8</td>\n",
       "      <td>350.0</td>\n",
       "      <td>165.0</td>\n",
       "      <td>3693</td>\n",
       "      <td>11.5</td>\n",
       "      <td>70</td>\n",
       "      <td>1</td>\n",
       "    </tr>\n",
       "    <tr>\n",
       "      <th>2</th>\n",
       "      <td>18.0</td>\n",
       "      <td>8</td>\n",
       "      <td>318.0</td>\n",
       "      <td>150.0</td>\n",
       "      <td>3436</td>\n",
       "      <td>11.0</td>\n",
       "      <td>70</td>\n",
       "      <td>1</td>\n",
       "    </tr>\n",
       "    <tr>\n",
       "      <th>3</th>\n",
       "      <td>16.0</td>\n",
       "      <td>8</td>\n",
       "      <td>304.0</td>\n",
       "      <td>150.0</td>\n",
       "      <td>3433</td>\n",
       "      <td>12.0</td>\n",
       "      <td>70</td>\n",
       "      <td>1</td>\n",
       "    </tr>\n",
       "    <tr>\n",
       "      <th>4</th>\n",
       "      <td>17.0</td>\n",
       "      <td>8</td>\n",
       "      <td>302.0</td>\n",
       "      <td>140.0</td>\n",
       "      <td>3449</td>\n",
       "      <td>10.5</td>\n",
       "      <td>70</td>\n",
       "      <td>1</td>\n",
       "    </tr>\n",
       "  </tbody>\n",
       "</table>\n",
       "</div>"
      ],
      "text/plain": [
       "    mpg  cylinders  displacement  horsepower  weight  acceleration  year  \\\n",
       "0  18.0          8         307.0       130.0    3504          12.0    70   \n",
       "1  15.0          8         350.0       165.0    3693          11.5    70   \n",
       "2  18.0          8         318.0       150.0    3436          11.0    70   \n",
       "3  16.0          8         304.0       150.0    3433          12.0    70   \n",
       "4  17.0          8         302.0       140.0    3449          10.5    70   \n",
       "\n",
       "   origin  \n",
       "0       1  \n",
       "1       1  \n",
       "2       1  \n",
       "3       1  \n",
       "4       1  "
      ]
     },
     "execution_count": 43,
     "metadata": {},
     "output_type": "execute_result"
    }
   ],
   "source": [
    "import pandas as pd\n",
    "import numpy as np\n",
    "\n",
    "from sklearn import model_selection\n",
    "# from sklearn import model_selection # Use model_selection instead of cross_validation in sklearn version >=0.18\n",
    "from sklearn.linear_model import LogisticRegression\n",
    "from sklearn.metrics import mean_squared_error, confusion_matrix, make_scorer\n",
    "from sklearn.grid_search import GridSearchCV\n",
    "\n",
    "Auto = pd.read_csv('Auto.csv', na_values='?').drop('name',axis = 1).dropna()\n",
    "Auto.head(5)"
   ]
  },
  {
   "cell_type": "markdown",
   "metadata": {},
   "source": [
    "## 1. Convert mpg to binary variable"
   ]
  },
  {
   "cell_type": "code",
   "execution_count": 44,
   "metadata": {
    "collapsed": false
   },
   "outputs": [
    {
     "data": {
      "text/html": [
       "<div>\n",
       "<table border=\"1\" class=\"dataframe\">\n",
       "  <thead>\n",
       "    <tr style=\"text-align: right;\">\n",
       "      <th></th>\n",
       "      <th>cylinders</th>\n",
       "      <th>displacement</th>\n",
       "      <th>horsepower</th>\n",
       "      <th>weight</th>\n",
       "      <th>acceleration</th>\n",
       "      <th>year</th>\n",
       "      <th>origin</th>\n",
       "      <th>mpg01</th>\n",
       "    </tr>\n",
       "  </thead>\n",
       "  <tbody>\n",
       "    <tr>\n",
       "      <th>0</th>\n",
       "      <td>8</td>\n",
       "      <td>307.0</td>\n",
       "      <td>130.0</td>\n",
       "      <td>3504</td>\n",
       "      <td>12.0</td>\n",
       "      <td>70</td>\n",
       "      <td>1</td>\n",
       "      <td>0</td>\n",
       "    </tr>\n",
       "  </tbody>\n",
       "</table>\n",
       "</div>"
      ],
      "text/plain": [
       "   cylinders  displacement  horsepower  weight  acceleration  year  origin  \\\n",
       "0          8         307.0       130.0    3504          12.0    70       1   \n",
       "\n",
       "   mpg01  \n",
       "0      0  "
      ]
     },
     "execution_count": 44,
     "metadata": {},
     "output_type": "execute_result"
    }
   ],
   "source": [
    "Auto['mpg01'] = np.where(Auto['mpg'] > Auto['mpg'].median(), 1, 0)\n",
    "Auto = Auto.drop('mpg', axis=1)\n",
    "Auto.head(1)"
   ]
  },
  {
   "cell_type": "markdown",
   "metadata": {},
   "source": [
    "## 2. Split data into training and test set"
   ]
  },
  {
   "cell_type": "code",
   "execution_count": 45,
   "metadata": {
    "collapsed": false
   },
   "outputs": [],
   "source": [
    "# Split data into training and test sets\n",
    "train, test = model_selection.train_test_split(Auto, test_size = 0.33, random_state = 42)\n",
    " \n",
    "X_train = train.drop('mpg01', axis=1)\n",
    "y_train = train['mpg01']\n",
    "\n",
    "X_test = test.drop('mpg01', axis=1)\n",
    "y_test = test['mpg01']"
   ]
  },
  {
   "cell_type": "markdown",
   "metadata": {},
   "source": [
    "## 3. Logistic regression with almost no regularization"
   ]
  },
  {
   "cell_type": "code",
   "execution_count": 46,
   "metadata": {
    "collapsed": false
   },
   "outputs": [],
   "source": [
    "# Fit logistic regression classifier to training set\n",
    "logreg = LogisticRegression(penalty='l2', C=1e6)\n",
    "logreg.fit(X_train, y_train)\n",
    "\n",
    "# Use classifier to predict test set\n",
    "logreg_predict = logreg.predict(X_test)"
   ]
  },
  {
   "cell_type": "code",
   "execution_count": 47,
   "metadata": {
    "collapsed": false
   },
   "outputs": [
    {
     "data": {
      "text/plain": [
       "<matplotlib.text.Text at 0x11f58b00>"
      ]
     },
     "execution_count": 47,
     "metadata": {},
     "output_type": "execute_result"
    },
    {
     "data": {
      "image/png": "[encoded data removed]",
      "text/plain": [
       "<matplotlib.figure.Figure at 0x11bd6588>"
      ]
     },
     "metadata": {},
     "output_type": "display_data"
    }
   ],
   "source": [
    "# Confustion matrix on test data\n",
    "conf_mat = confusion_matrix(y_test, logreg_predict)\n",
    "sns.heatmap(conf_mat, square=True, annot=True, fmt='d', cbar=True, \n",
    "            xticklabels=unique(y_test), yticklabels=unique(logreg_predict))\n",
    "plt.xlabel('Predicted mpg01')\n",
    "plt.ylabel('True mpg01')\n",
    "plt.title('Logistic Regression')"
   ]
  },
  {
   "cell_type": "code",
   "execution_count": 48,
   "metadata": {
    "collapsed": false
   },
   "outputs": [],
   "source": [
    "true_mpg0 = float(conf_mat[0][0])\n",
    "false_mpg0 = float(conf_mat[1][0])\n",
    "true_mpg1 = float(conf_mat[1][1])\n",
    "false_mpg1 = float(conf_mat[0][1])\n",
    "\n",
    "accuracy_mpg0 = true_mpg0 / (true_mpg0 + false_mpg1)\n",
    "accuracy_mpg1 = true_mpg1 / (true_mpg1 + false_mpg0)\n",
    "\n",
    "avgAcc_perClass = (accuracy_mpg1 + accuracy_mpg0)/2"
   ]
  },
  {
   "cell_type": "code",
   "execution_count": 49,
   "metadata": {
    "collapsed": false
   },
   "outputs": [
    {
     "name": "stdout",
     "output_type": "stream",
     "text": [
      "Class Accuracy\n",
      "\n",
      "mpg01 = 0\t:\t0.785714\n",
      "mpg01 = 1\t:\t0.966667\n",
      "Average\t\t:\t0.876190\n"
     ]
    }
   ],
   "source": [
    "print 'Class Accuracy'\n",
    "print\n",
    "print 'mpg01 = 0\\t:\\t%f' % (accuracy_mpg0)\n",
    "print 'mpg01 = 1\\t:\\t%f' % (accuracy_mpg1)\n",
    "print 'Average\\t\\t:\\t%f' % (avgAcc_perClass)"
   ]
  },
  {
   "cell_type": "markdown",
   "metadata": {},
   "source": [
    "## 4. l2 penalty, Cs of [0.001, 0.01, 0.1, 1, 10, 100, 1000]"
   ]
  },
  {
   "cell_type": "code",
   "execution_count": 50,
   "metadata": {
    "collapsed": true
   },
   "outputs": [],
   "source": [
    "def custom_scorer(y_true, y_predict):\n",
    "    '''Takes true values of y and predicted values of y and returns average per class accuracy'''\n",
    "    conf_mat = confusion_matrix(y_true, y_predict)\n",
    "    \n",
    "    true_neg = float(conf_mat[0][0])\n",
    "    false_neg = float(conf_mat[1][0])\n",
    "    true_pos = float(conf_mat[1][1])\n",
    "    false_pos = float(conf_mat[0][1])\n",
    "    \n",
    "    accuracy_neg = true_neg / (true_neg + false_pos)\n",
    "    accuracy_pos = true_pos / (true_pos + false_neg)\n",
    "    \n",
    "    avg_accuracy_perClass = (accuracy_pos + accuracy_neg)/2\n",
    "    return avg_accuracy_perClass"
   ]
  },
  {
   "cell_type": "code",
   "execution_count": 51,
   "metadata": {
    "collapsed": false
   },
   "outputs": [
    {
     "data": {
      "text/plain": [
       "GridSearchCV(cv=5, error_score='raise',\n",
       "       estimator=LogisticRegression(C=1.0, class_weight=None, dual=False, fit_intercept=True,\n",
       "          intercept_scaling=1, max_iter=100, multi_class='ovr', n_jobs=1,\n",
       "          penalty='l2', random_state=None, solver='liblinear', tol=0.0001,\n",
       "          verbose=0, warm_start=False),\n",
       "       fit_params={}, iid=True, n_jobs=1,\n",
       "       param_grid={'C': [0.001, 0.01, 0.1, 1, 10, 100, 1000]},\n",
       "       pre_dispatch='2*n_jobs', refit=True,\n",
       "       scoring=make_scorer(custom_scorer), verbose=0)"
      ]
     },
     "execution_count": 51,
     "metadata": {},
     "output_type": "execute_result"
    }
   ],
   "source": [
    "# Define scoring function\n",
    "score = make_scorer(custom_scorer, greater_is_better=True)\n",
    "\n",
    "# Define parameter grid\n",
    "parameters = {'C': [0.001,0.01, 0.1, 1, 10 ,100, 1000]}\n",
    "\n",
    "# Fit logistic regression model with different parameters\n",
    "cv_l2 = GridSearchCV(LogisticRegression(penalty='l2'), parameters,cv=5, scoring=score)\n",
    "cv_l2.fit(X_train, y_train)"
   ]
  },
  {
   "cell_type": "code",
   "execution_count": 52,
   "metadata": {
    "collapsed": false
   },
   "outputs": [
    {
     "name": "stdout",
     "output_type": "stream",
     "text": [
      "The logistic regression model performed best with C = 0.01.\n",
      "This model produced an average per class accuracy of 0.922975.\n"
     ]
    }
   ],
   "source": [
    "bestScore_l2 = cv_l2.best_score_\n",
    "bestParams_l2 = cv_l2.best_params_\n",
    "\n",
    "print 'The logistic regression model performed best with C = %.2f.' % (bestParams_l2['C'])\n",
    "print 'This model produced an average per class accuracy of %f.' % (bestScore_l2)"
   ]
  },
  {
   "cell_type": "markdown",
   "metadata": {},
   "source": [
    "## 5. l1 penalty, Cs of [0.001, 0.01, 0.1, 1, 10, 100, 1000]"
   ]
  },
  {
   "cell_type": "code",
   "execution_count": 53,
   "metadata": {
    "collapsed": false
   },
   "outputs": [
    {
     "data": {
      "text/plain": [
       "GridSearchCV(cv=5, error_score='raise',\n",
       "       estimator=LogisticRegression(C=1.0, class_weight=None, dual=False, fit_intercept=True,\n",
       "          intercept_scaling=1, max_iter=100, multi_class='ovr', n_jobs=1,\n",
       "          penalty='l1', random_state=None, solver='liblinear', tol=0.0001,\n",
       "          verbose=0, warm_start=False),\n",
       "       fit_params={}, iid=True, n_jobs=1,\n",
       "       param_grid={'C': [0.001, 0.01, 0.1, 1, 10, 100, 1000]},\n",
       "       pre_dispatch='2*n_jobs', refit=True,\n",
       "       scoring=make_scorer(custom_scorer), verbose=0)"
      ]
     },
     "execution_count": 53,
     "metadata": {},
     "output_type": "execute_result"
    }
   ],
   "source": [
    "# Fit logistic regression model with different parameters\n",
    "cv_l1 = GridSearchCV(LogisticRegression(penalty='l1'), parameters, cv=5, scoring=score)\n",
    "cv_l1.fit(X_train, y_train)"
   ]
  },
  {
   "cell_type": "code",
   "execution_count": 54,
   "metadata": {
    "collapsed": false
   },
   "outputs": [
    {
     "name": "stdout",
     "output_type": "stream",
     "text": [
      "The logistic regression model performed best with C = 10.\n",
      "This model produced an average per class accuracy of 0.926944.\n"
     ]
    }
   ],
   "source": [
    "bestScore_l1 = cv_l1.best_score_\n",
    "bestParams_l1 = cv_l1.best_params_\n",
    "\n",
    "print 'The logistic regression model performed best with C = %i.' % (bestParams_l1['C'])\n",
    "print 'This model produced an average per class accuracy of %f.' % (bestScore_l1)"
   ]
  },
  {
   "cell_type": "markdown",
   "metadata": {},
   "source": [
    "## 6. Compare models"
   ]
  },
  {
   "cell_type": "markdown",
   "metadata": {
    "collapsed": true
   },
   "source": [
    "The model that produced the best average per class accuracy was the logistic regression with an 'l1' penalty type and C = 10. A higher C-value indicates less regularization, which means a greater chance that your model will overfit. Our original model (C = 1,000,000) was probably overfitting significantly. By lowering C to 10, this new model does not overfit and is able to more accurately classify the out-of-sample set. Furthermore, using lasso (l1) rather than ridge (l2) shrinks some parameter coefficients to zero to further reduce overfitting. \n",
    "\n",
    "However, you do not want to do too much regularization because, at some point, you may be losing information that is actually powerful in predicting out-of-sample. This is likely why C = 10 performed better than the lower C-values when 'l1' penalty was used. Lasso shrinks some coefficients much quicker than ridge does. Therefore, a lower regularization strength may yield better results because it prevents lasso from shrinking important parameter coefficients to zero. In this case, C = 10 seems to be the sweet spot between overfitting with too many parameters and underfitting by removing too many parameters."
   ]
  },
  {
   "cell_type": "markdown",
   "metadata": {
    "collapsed": true
   },
   "source": [
    "# Question 6: House Prices (kaggle competition) (25 pts)\n",
    "\n",
    "In this problem, we are going to explore a kaggle competition: [House Prices](https://www.kaggle.com/c/house-prices-advanced-regression-techniques). Your goal is to obtain the best score you can in this competition. This is an ongoing competition, and you have the opportunity to win the prize money! \n",
    "\n",
    "The first step is to make a Kaggle account. Then find the House Prices competition and read the competition details and the description of the dataset. You may find this [article](https://ww2.amstat.org/publications/jse/v19n3/decock.pdf) useful.\n",
    "\n",
    "Your work should meet the following requirements:\n",
    "\n",
    "1. Data Preprocessing. \n",
    " * Conduct some data preprocessing. (Hint: see if there is any skewed features and consider applying suitable transformation techniques to make them more \"normal\").\n",
    " * Impute the missing values (if any).\n",
    "2. Predictive Models. \n",
    " * You have to create at least three models: simple linear regression, Lasso and Ridge regression and multilayer perceptron. You may consider creating an ensemble of these models as well (optional). For Lasso and Ridge regression, optimize the alphas using cross validation. You may try other predictive models to get better scores (optional).\n",
    "3. Evaluation: submit your model to kaggle submission site and report the public score.\n",
    "\n",
    "Briefly describe your work on each of these steps. Explain (very briefly) what approaches you tried, what worked and what did not work. Mention your team's kaggle name and include a screen shot of your public submission score. Finally, try your best to win this competition!"
   ]
  },
  {
   "cell_type": "code",
   "execution_count": 55,
   "metadata": {
    "collapsed": false
   },
   "outputs": [
    {
     "name": "stderr",
     "output_type": "stream",
     "text": [
      "C:\\Users\\Dallas\\Anaconda2\\lib\\site-packages\\numpy\\lib\\function_base.py:3834: RuntimeWarning: Invalid value encountered in percentile\n",
      "  RuntimeWarning)\n"
     ]
    },
    {
     "data": {
      "text/html": [
       "<div>\n",
       "<table border=\"1\" class=\"dataframe\">\n",
       "  <thead>\n",
       "    <tr style=\"text-align: right;\">\n",
       "      <th></th>\n",
       "      <th>MSSubClass</th>\n",
       "      <th>LotFrontage</th>\n",
       "      <th>LotArea</th>\n",
       "      <th>OverallQual</th>\n",
       "      <th>OverallCond</th>\n",
       "      <th>YearBuilt</th>\n",
       "      <th>YearRemodAdd</th>\n",
       "      <th>MasVnrArea</th>\n",
       "      <th>BsmtFinSF1</th>\n",
       "      <th>BsmtFinSF2</th>\n",
       "      <th>...</th>\n",
       "      <th>GarageArea</th>\n",
       "      <th>WoodDeckSF</th>\n",
       "      <th>OpenPorchSF</th>\n",
       "      <th>EnclosedPorch</th>\n",
       "      <th>3SsnPorch</th>\n",
       "      <th>ScreenPorch</th>\n",
       "      <th>PoolArea</th>\n",
       "      <th>MiscVal</th>\n",
       "      <th>MoSold</th>\n",
       "      <th>YrSold</th>\n",
       "    </tr>\n",
       "  </thead>\n",
       "  <tbody>\n",
       "    <tr>\n",
       "      <th>count</th>\n",
       "      <td>2919.000000</td>\n",
       "      <td>2433.000000</td>\n",
       "      <td>2919.000000</td>\n",
       "      <td>2919.000000</td>\n",
       "      <td>2919.000000</td>\n",
       "      <td>2919.000000</td>\n",
       "      <td>2919.000000</td>\n",
       "      <td>2896.000000</td>\n",
       "      <td>2918.000000</td>\n",
       "      <td>2918.000000</td>\n",
       "      <td>...</td>\n",
       "      <td>2918.000000</td>\n",
       "      <td>2919.000000</td>\n",
       "      <td>2919.000000</td>\n",
       "      <td>2919.000000</td>\n",
       "      <td>2919.000000</td>\n",
       "      <td>2919.000000</td>\n",
       "      <td>2919.000000</td>\n",
       "      <td>2919.000000</td>\n",
       "      <td>2919.000000</td>\n",
       "      <td>2919.000000</td>\n",
       "    </tr>\n",
       "    <tr>\n",
       "      <th>mean</th>\n",
       "      <td>57.137718</td>\n",
       "      <td>69.305795</td>\n",
       "      <td>10168.114080</td>\n",
       "      <td>6.089072</td>\n",
       "      <td>5.564577</td>\n",
       "      <td>1971.312778</td>\n",
       "      <td>1984.264474</td>\n",
       "      <td>102.201312</td>\n",
       "      <td>441.423235</td>\n",
       "      <td>49.582248</td>\n",
       "      <td>...</td>\n",
       "      <td>472.874572</td>\n",
       "      <td>93.709832</td>\n",
       "      <td>47.486811</td>\n",
       "      <td>23.098321</td>\n",
       "      <td>2.602261</td>\n",
       "      <td>16.062350</td>\n",
       "      <td>2.251799</td>\n",
       "      <td>50.825968</td>\n",
       "      <td>6.213087</td>\n",
       "      <td>2007.792737</td>\n",
       "    </tr>\n",
       "    <tr>\n",
       "      <th>std</th>\n",
       "      <td>42.517628</td>\n",
       "      <td>23.344905</td>\n",
       "      <td>7886.996359</td>\n",
       "      <td>1.409947</td>\n",
       "      <td>1.113131</td>\n",
       "      <td>30.291442</td>\n",
       "      <td>20.894344</td>\n",
       "      <td>179.334253</td>\n",
       "      <td>455.610826</td>\n",
       "      <td>169.205611</td>\n",
       "      <td>...</td>\n",
       "      <td>215.394815</td>\n",
       "      <td>126.526589</td>\n",
       "      <td>67.575493</td>\n",
       "      <td>64.244246</td>\n",
       "      <td>25.188169</td>\n",
       "      <td>56.184365</td>\n",
       "      <td>35.663946</td>\n",
       "      <td>567.402211</td>\n",
       "      <td>2.714762</td>\n",
       "      <td>1.314964</td>\n",
       "    </tr>\n",
       "    <tr>\n",
       "      <th>min</th>\n",
       "      <td>20.000000</td>\n",
       "      <td>21.000000</td>\n",
       "      <td>1300.000000</td>\n",
       "      <td>1.000000</td>\n",
       "      <td>1.000000</td>\n",
       "      <td>1872.000000</td>\n",
       "      <td>1950.000000</td>\n",
       "      <td>0.000000</td>\n",
       "      <td>0.000000</td>\n",
       "      <td>0.000000</td>\n",
       "      <td>...</td>\n",
       "      <td>0.000000</td>\n",
       "      <td>0.000000</td>\n",
       "      <td>0.000000</td>\n",
       "      <td>0.000000</td>\n",
       "      <td>0.000000</td>\n",
       "      <td>0.000000</td>\n",
       "      <td>0.000000</td>\n",
       "      <td>0.000000</td>\n",
       "      <td>1.000000</td>\n",
       "      <td>2006.000000</td>\n",
       "    </tr>\n",
       "    <tr>\n",
       "      <th>25%</th>\n",
       "      <td>20.000000</td>\n",
       "      <td>NaN</td>\n",
       "      <td>7478.000000</td>\n",
       "      <td>5.000000</td>\n",
       "      <td>5.000000</td>\n",
       "      <td>1953.500000</td>\n",
       "      <td>1965.000000</td>\n",
       "      <td>NaN</td>\n",
       "      <td>NaN</td>\n",
       "      <td>NaN</td>\n",
       "      <td>...</td>\n",
       "      <td>NaN</td>\n",
       "      <td>0.000000</td>\n",
       "      <td>0.000000</td>\n",
       "      <td>0.000000</td>\n",
       "      <td>0.000000</td>\n",
       "      <td>0.000000</td>\n",
       "      <td>0.000000</td>\n",
       "      <td>0.000000</td>\n",
       "      <td>4.000000</td>\n",
       "      <td>2007.000000</td>\n",
       "    </tr>\n",
       "    <tr>\n",
       "      <th>50%</th>\n",
       "      <td>50.000000</td>\n",
       "      <td>NaN</td>\n",
       "      <td>9453.000000</td>\n",
       "      <td>6.000000</td>\n",
       "      <td>5.000000</td>\n",
       "      <td>1973.000000</td>\n",
       "      <td>1993.000000</td>\n",
       "      <td>NaN</td>\n",
       "      <td>NaN</td>\n",
       "      <td>NaN</td>\n",
       "      <td>...</td>\n",
       "      <td>NaN</td>\n",
       "      <td>0.000000</td>\n",
       "      <td>26.000000</td>\n",
       "      <td>0.000000</td>\n",
       "      <td>0.000000</td>\n",
       "      <td>0.000000</td>\n",
       "      <td>0.000000</td>\n",
       "      <td>0.000000</td>\n",
       "      <td>6.000000</td>\n",
       "      <td>2008.000000</td>\n",
       "    </tr>\n",
       "    <tr>\n",
       "      <th>75%</th>\n",
       "      <td>70.000000</td>\n",
       "      <td>NaN</td>\n",
       "      <td>11570.000000</td>\n",
       "      <td>7.000000</td>\n",
       "      <td>6.000000</td>\n",
       "      <td>2001.000000</td>\n",
       "      <td>2004.000000</td>\n",
       "      <td>NaN</td>\n",
       "      <td>NaN</td>\n",
       "      <td>NaN</td>\n",
       "      <td>...</td>\n",
       "      <td>NaN</td>\n",
       "      <td>168.000000</td>\n",
       "      <td>70.000000</td>\n",
       "      <td>0.000000</td>\n",
       "      <td>0.000000</td>\n",
       "      <td>0.000000</td>\n",
       "      <td>0.000000</td>\n",
       "      <td>0.000000</td>\n",
       "      <td>8.000000</td>\n",
       "      <td>2009.000000</td>\n",
       "    </tr>\n",
       "    <tr>\n",
       "      <th>max</th>\n",
       "      <td>190.000000</td>\n",
       "      <td>313.000000</td>\n",
       "      <td>215245.000000</td>\n",
       "      <td>10.000000</td>\n",
       "      <td>9.000000</td>\n",
       "      <td>2010.000000</td>\n",
       "      <td>2010.000000</td>\n",
       "      <td>1600.000000</td>\n",
       "      <td>5644.000000</td>\n",
       "      <td>1526.000000</td>\n",
       "      <td>...</td>\n",
       "      <td>1488.000000</td>\n",
       "      <td>1424.000000</td>\n",
       "      <td>742.000000</td>\n",
       "      <td>1012.000000</td>\n",
       "      <td>508.000000</td>\n",
       "      <td>576.000000</td>\n",
       "      <td>800.000000</td>\n",
       "      <td>17000.000000</td>\n",
       "      <td>12.000000</td>\n",
       "      <td>2010.000000</td>\n",
       "    </tr>\n",
       "  </tbody>\n",
       "</table>\n",
       "<p>8 rows × 36 columns</p>\n",
       "</div>"
      ],
      "text/plain": [
       "        MSSubClass  LotFrontage        LotArea  OverallQual  OverallCond  \\\n",
       "count  2919.000000  2433.000000    2919.000000  2919.000000  2919.000000   \n",
       "mean     57.137718    69.305795   10168.114080     6.089072     5.564577   \n",
       "std      42.517628    23.344905    7886.996359     1.409947     1.113131   \n",
       "min      20.000000    21.000000    1300.000000     1.000000     1.000000   \n",
       "25%      20.000000          NaN    7478.000000     5.000000     5.000000   \n",
       "50%      50.000000          NaN    9453.000000     6.000000     5.000000   \n",
       "75%      70.000000          NaN   11570.000000     7.000000     6.000000   \n",
       "max     190.000000   313.000000  215245.000000    10.000000     9.000000   \n",
       "\n",
       "         YearBuilt  YearRemodAdd   MasVnrArea   BsmtFinSF1   BsmtFinSF2  \\\n",
       "count  2919.000000   2919.000000  2896.000000  2918.000000  2918.000000   \n",
       "mean   1971.312778   1984.264474   102.201312   441.423235    49.582248   \n",
       "std      30.291442     20.894344   179.334253   455.610826   169.205611   \n",
       "min    1872.000000   1950.000000     0.000000     0.000000     0.000000   \n",
       "25%    1953.500000   1965.000000          NaN          NaN          NaN   \n",
       "50%    1973.000000   1993.000000          NaN          NaN          NaN   \n",
       "75%    2001.000000   2004.000000          NaN          NaN          NaN   \n",
       "max    2010.000000   2010.000000  1600.000000  5644.000000  1526.000000   \n",
       "\n",
       "          ...        GarageArea   WoodDeckSF  OpenPorchSF  EnclosedPorch  \\\n",
       "count     ...       2918.000000  2919.000000  2919.000000    2919.000000   \n",
       "mean      ...        472.874572    93.709832    47.486811      23.098321   \n",
       "std       ...        215.394815   126.526589    67.575493      64.244246   \n",
       "min       ...          0.000000     0.000000     0.000000       0.000000   \n",
       "25%       ...               NaN     0.000000     0.000000       0.000000   \n",
       "50%       ...               NaN     0.000000    26.000000       0.000000   \n",
       "75%       ...               NaN   168.000000    70.000000       0.000000   \n",
       "max       ...       1488.000000  1424.000000   742.000000    1012.000000   \n",
       "\n",
       "         3SsnPorch  ScreenPorch     PoolArea       MiscVal       MoSold  \\\n",
       "count  2919.000000  2919.000000  2919.000000   2919.000000  2919.000000   \n",
       "mean      2.602261    16.062350     2.251799     50.825968     6.213087   \n",
       "std      25.188169    56.184365    35.663946    567.402211     2.714762   \n",
       "min       0.000000     0.000000     0.000000      0.000000     1.000000   \n",
       "25%       0.000000     0.000000     0.000000      0.000000     4.000000   \n",
       "50%       0.000000     0.000000     0.000000      0.000000     6.000000   \n",
       "75%       0.000000     0.000000     0.000000      0.000000     8.000000   \n",
       "max     508.000000   576.000000   800.000000  17000.000000    12.000000   \n",
       "\n",
       "            YrSold  \n",
       "count  2919.000000  \n",
       "mean   2007.792737  \n",
       "std       1.314964  \n",
       "min    2006.000000  \n",
       "25%    2007.000000  \n",
       "50%    2008.000000  \n",
       "75%    2009.000000  \n",
       "max    2010.000000  \n",
       "\n",
       "[8 rows x 36 columns]"
      ]
     },
     "execution_count": 55,
     "metadata": {},
     "output_type": "execute_result"
    }
   ],
   "source": [
    "housedata_train = pd.read_csv('kaggle_train.csv')\n",
    "housedata_train = housedata_train.set_index('Id')\n",
    "\n",
    "housedata_test = pd.read_csv(\"kaggle_test.csv\")\n",
    "housedata_test = housedata_test.set_index('Id')\n",
    "\n",
    "#Describe raw dataset\n",
    "housedata_train.describe(include='all')\n",
    "\n",
    "#Combine datasets\n",
    "housedata_allx = pd.concat((housedata_train.loc[:,'MSSubClass':'SaleCondition'],\n",
    "                      housedata_test.loc[:,'MSSubClass':'SaleCondition']))\n",
    "\n",
    "#Describe raw dataset\n",
    "housedata_allx.describe()"
   ]
  },
  {
   "cell_type": "markdown",
   "metadata": {},
   "source": [
    "### Data Pre-Processing"
   ]
  },
  {
   "cell_type": "code",
   "execution_count": 57,
   "metadata": {
    "collapsed": false
   },
   "outputs": [
    {
     "data": {
      "text/plain": [
       "<matplotlib.axes._subplots.AxesSubplot at 0x10eed668>"
      ]
     },
     "execution_count": 57,
     "metadata": {},
     "output_type": "execute_result"
    },
    {
     "data": {
      "image/png": "[encoded data removed]",
      "text/plain": [
       "<matplotlib.figure.Figure at 0x118d7390>"
      ]
     },
     "metadata": {},
     "output_type": "display_data"
    }
   ],
   "source": [
    "#House price is skewed (long tail), so transform to log(price) so higher sale prices more accurately predicted\n",
    "housedata_train['SalePrice'] = np.log(housedata_train['SalePrice'])\n",
    "housedata_train['SalePrice'].hist()"
   ]
  },
  {
   "cell_type": "code",
   "execution_count": 58,
   "metadata": {
    "collapsed": false
   },
   "outputs": [
    {
     "data": {
      "text/html": [
       "<div>\n",
       "<table border=\"1\" class=\"dataframe\">\n",
       "  <thead>\n",
       "    <tr style=\"text-align: right;\">\n",
       "      <th></th>\n",
       "      <th>MSSubClass</th>\n",
       "      <th>LotFrontage</th>\n",
       "      <th>LotArea</th>\n",
       "      <th>OverallQual</th>\n",
       "      <th>OverallCond</th>\n",
       "      <th>YearBuilt</th>\n",
       "      <th>YearRemodAdd</th>\n",
       "      <th>MasVnrArea</th>\n",
       "      <th>BsmtFinSF1</th>\n",
       "      <th>BsmtFinSF2</th>\n",
       "      <th>...</th>\n",
       "      <th>SaleType_ConLw</th>\n",
       "      <th>SaleType_New</th>\n",
       "      <th>SaleType_Oth</th>\n",
       "      <th>SaleType_WD</th>\n",
       "      <th>SaleCondition_Abnorml</th>\n",
       "      <th>SaleCondition_AdjLand</th>\n",
       "      <th>SaleCondition_Alloca</th>\n",
       "      <th>SaleCondition_Family</th>\n",
       "      <th>SaleCondition_Normal</th>\n",
       "      <th>SaleCondition_Partial</th>\n",
       "    </tr>\n",
       "  </thead>\n",
       "  <tbody>\n",
       "    <tr>\n",
       "      <th>count</th>\n",
       "      <td>2919.000000</td>\n",
       "      <td>2919.000000</td>\n",
       "      <td>2919.000000</td>\n",
       "      <td>2919.000000</td>\n",
       "      <td>2919.000000</td>\n",
       "      <td>2919.000000</td>\n",
       "      <td>2919.000000</td>\n",
       "      <td>2919.000000</td>\n",
       "      <td>2919.000000</td>\n",
       "      <td>2919.000000</td>\n",
       "      <td>...</td>\n",
       "      <td>2919.000000</td>\n",
       "      <td>2919.000000</td>\n",
       "      <td>2919.000000</td>\n",
       "      <td>2919.000000</td>\n",
       "      <td>2919.000000</td>\n",
       "      <td>2919.000000</td>\n",
       "      <td>2919.000000</td>\n",
       "      <td>2919.000000</td>\n",
       "      <td>2919.000000</td>\n",
       "      <td>2919.000000</td>\n",
       "    </tr>\n",
       "    <tr>\n",
       "      <th>mean</th>\n",
       "      <td>57.137718</td>\n",
       "      <td>69.088386</td>\n",
       "      <td>10168.114080</td>\n",
       "      <td>6.089072</td>\n",
       "      <td>5.564577</td>\n",
       "      <td>1971.312778</td>\n",
       "      <td>1984.264474</td>\n",
       "      <td>101.396026</td>\n",
       "      <td>441.398253</td>\n",
       "      <td>49.565262</td>\n",
       "      <td>...</td>\n",
       "      <td>0.002741</td>\n",
       "      <td>0.081877</td>\n",
       "      <td>0.002398</td>\n",
       "      <td>0.865022</td>\n",
       "      <td>0.065091</td>\n",
       "      <td>0.004111</td>\n",
       "      <td>0.008222</td>\n",
       "      <td>0.015759</td>\n",
       "      <td>0.822885</td>\n",
       "      <td>0.083933</td>\n",
       "    </tr>\n",
       "    <tr>\n",
       "      <th>std</th>\n",
       "      <td>42.517628</td>\n",
       "      <td>21.317898</td>\n",
       "      <td>7886.996359</td>\n",
       "      <td>1.409947</td>\n",
       "      <td>1.113131</td>\n",
       "      <td>30.291442</td>\n",
       "      <td>20.894344</td>\n",
       "      <td>178.854579</td>\n",
       "      <td>455.534750</td>\n",
       "      <td>169.179104</td>\n",
       "      <td>...</td>\n",
       "      <td>0.052289</td>\n",
       "      <td>0.274225</td>\n",
       "      <td>0.048920</td>\n",
       "      <td>0.341758</td>\n",
       "      <td>0.246728</td>\n",
       "      <td>0.063996</td>\n",
       "      <td>0.090317</td>\n",
       "      <td>0.124562</td>\n",
       "      <td>0.381832</td>\n",
       "      <td>0.277335</td>\n",
       "    </tr>\n",
       "    <tr>\n",
       "      <th>min</th>\n",
       "      <td>20.000000</td>\n",
       "      <td>21.000000</td>\n",
       "      <td>1300.000000</td>\n",
       "      <td>1.000000</td>\n",
       "      <td>1.000000</td>\n",
       "      <td>1872.000000</td>\n",
       "      <td>1950.000000</td>\n",
       "      <td>0.000000</td>\n",
       "      <td>0.000000</td>\n",
       "      <td>0.000000</td>\n",
       "      <td>...</td>\n",
       "      <td>0.000000</td>\n",
       "      <td>0.000000</td>\n",
       "      <td>0.000000</td>\n",
       "      <td>0.000000</td>\n",
       "      <td>0.000000</td>\n",
       "      <td>0.000000</td>\n",
       "      <td>0.000000</td>\n",
       "      <td>0.000000</td>\n",
       "      <td>0.000000</td>\n",
       "      <td>0.000000</td>\n",
       "    </tr>\n",
       "    <tr>\n",
       "      <th>25%</th>\n",
       "      <td>20.000000</td>\n",
       "      <td>60.000000</td>\n",
       "      <td>7478.000000</td>\n",
       "      <td>5.000000</td>\n",
       "      <td>5.000000</td>\n",
       "      <td>1953.500000</td>\n",
       "      <td>1965.000000</td>\n",
       "      <td>0.000000</td>\n",
       "      <td>0.000000</td>\n",
       "      <td>0.000000</td>\n",
       "      <td>...</td>\n",
       "      <td>0.000000</td>\n",
       "      <td>0.000000</td>\n",
       "      <td>0.000000</td>\n",
       "      <td>1.000000</td>\n",
       "      <td>0.000000</td>\n",
       "      <td>0.000000</td>\n",
       "      <td>0.000000</td>\n",
       "      <td>0.000000</td>\n",
       "      <td>1.000000</td>\n",
       "      <td>0.000000</td>\n",
       "    </tr>\n",
       "    <tr>\n",
       "      <th>50%</th>\n",
       "      <td>50.000000</td>\n",
       "      <td>68.000000</td>\n",
       "      <td>9453.000000</td>\n",
       "      <td>6.000000</td>\n",
       "      <td>5.000000</td>\n",
       "      <td>1973.000000</td>\n",
       "      <td>1993.000000</td>\n",
       "      <td>0.000000</td>\n",
       "      <td>368.500000</td>\n",
       "      <td>0.000000</td>\n",
       "      <td>...</td>\n",
       "      <td>0.000000</td>\n",
       "      <td>0.000000</td>\n",
       "      <td>0.000000</td>\n",
       "      <td>1.000000</td>\n",
       "      <td>0.000000</td>\n",
       "      <td>0.000000</td>\n",
       "      <td>0.000000</td>\n",
       "      <td>0.000000</td>\n",
       "      <td>1.000000</td>\n",
       "      <td>0.000000</td>\n",
       "    </tr>\n",
       "    <tr>\n",
       "      <th>75%</th>\n",
       "      <td>70.000000</td>\n",
       "      <td>78.000000</td>\n",
       "      <td>11570.000000</td>\n",
       "      <td>7.000000</td>\n",
       "      <td>6.000000</td>\n",
       "      <td>2001.000000</td>\n",
       "      <td>2004.000000</td>\n",
       "      <td>163.500000</td>\n",
       "      <td>733.000000</td>\n",
       "      <td>0.000000</td>\n",
       "      <td>...</td>\n",
       "      <td>0.000000</td>\n",
       "      <td>0.000000</td>\n",
       "      <td>0.000000</td>\n",
       "      <td>1.000000</td>\n",
       "      <td>0.000000</td>\n",
       "      <td>0.000000</td>\n",
       "      <td>0.000000</td>\n",
       "      <td>0.000000</td>\n",
       "      <td>1.000000</td>\n",
       "      <td>0.000000</td>\n",
       "    </tr>\n",
       "    <tr>\n",
       "      <th>max</th>\n",
       "      <td>190.000000</td>\n",
       "      <td>313.000000</td>\n",
       "      <td>215245.000000</td>\n",
       "      <td>10.000000</td>\n",
       "      <td>9.000000</td>\n",
       "      <td>2010.000000</td>\n",
       "      <td>2010.000000</td>\n",
       "      <td>1600.000000</td>\n",
       "      <td>5644.000000</td>\n",
       "      <td>1526.000000</td>\n",
       "      <td>...</td>\n",
       "      <td>1.000000</td>\n",
       "      <td>1.000000</td>\n",
       "      <td>1.000000</td>\n",
       "      <td>1.000000</td>\n",
       "      <td>1.000000</td>\n",
       "      <td>1.000000</td>\n",
       "      <td>1.000000</td>\n",
       "      <td>1.000000</td>\n",
       "      <td>1.000000</td>\n",
       "      <td>1.000000</td>\n",
       "    </tr>\n",
       "  </tbody>\n",
       "</table>\n",
       "<p>8 rows × 264 columns</p>\n",
       "</div>"
      ],
      "text/plain": [
       "        MSSubClass  LotFrontage        LotArea  OverallQual  OverallCond  \\\n",
       "count  2919.000000  2919.000000    2919.000000  2919.000000  2919.000000   \n",
       "mean     57.137718    69.088386   10168.114080     6.089072     5.564577   \n",
       "std      42.517628    21.317898    7886.996359     1.409947     1.113131   \n",
       "min      20.000000    21.000000    1300.000000     1.000000     1.000000   \n",
       "25%      20.000000    60.000000    7478.000000     5.000000     5.000000   \n",
       "50%      50.000000    68.000000    9453.000000     6.000000     5.000000   \n",
       "75%      70.000000    78.000000   11570.000000     7.000000     6.000000   \n",
       "max     190.000000   313.000000  215245.000000    10.000000     9.000000   \n",
       "\n",
       "         YearBuilt  YearRemodAdd   MasVnrArea   BsmtFinSF1   BsmtFinSF2  \\\n",
       "count  2919.000000   2919.000000  2919.000000  2919.000000  2919.000000   \n",
       "mean   1971.312778   1984.264474   101.396026   441.398253    49.565262   \n",
       "std      30.291442     20.894344   178.854579   455.534750   169.179104   \n",
       "min    1872.000000   1950.000000     0.000000     0.000000     0.000000   \n",
       "25%    1953.500000   1965.000000     0.000000     0.000000     0.000000   \n",
       "50%    1973.000000   1993.000000     0.000000   368.500000     0.000000   \n",
       "75%    2001.000000   2004.000000   163.500000   733.000000     0.000000   \n",
       "max    2010.000000   2010.000000  1600.000000  5644.000000  1526.000000   \n",
       "\n",
       "               ...            SaleType_ConLw  SaleType_New  SaleType_Oth  \\\n",
       "count          ...               2919.000000   2919.000000   2919.000000   \n",
       "mean           ...                  0.002741      0.081877      0.002398   \n",
       "std            ...                  0.052289      0.274225      0.048920   \n",
       "min            ...                  0.000000      0.000000      0.000000   \n",
       "25%            ...                  0.000000      0.000000      0.000000   \n",
       "50%            ...                  0.000000      0.000000      0.000000   \n",
       "75%            ...                  0.000000      0.000000      0.000000   \n",
       "max            ...                  1.000000      1.000000      1.000000   \n",
       "\n",
       "       SaleType_WD  SaleCondition_Abnorml  SaleCondition_AdjLand  \\\n",
       "count  2919.000000            2919.000000            2919.000000   \n",
       "mean      0.865022               0.065091               0.004111   \n",
       "std       0.341758               0.246728               0.063996   \n",
       "min       0.000000               0.000000               0.000000   \n",
       "25%       1.000000               0.000000               0.000000   \n",
       "50%       1.000000               0.000000               0.000000   \n",
       "75%       1.000000               0.000000               0.000000   \n",
       "max       1.000000               1.000000               1.000000   \n",
       "\n",
       "       SaleCondition_Alloca  SaleCondition_Family  SaleCondition_Normal  \\\n",
       "count           2919.000000           2919.000000           2919.000000   \n",
       "mean               0.008222              0.015759              0.822885   \n",
       "std                0.090317              0.124562              0.381832   \n",
       "min                0.000000              0.000000              0.000000   \n",
       "25%                0.000000              0.000000              1.000000   \n",
       "50%                0.000000              0.000000              1.000000   \n",
       "75%                0.000000              0.000000              1.000000   \n",
       "max                1.000000              1.000000              1.000000   \n",
       "\n",
       "       SaleCondition_Partial  \n",
       "count            2919.000000  \n",
       "mean                0.083933  \n",
       "std                 0.277335  \n",
       "min                 0.000000  \n",
       "25%                 0.000000  \n",
       "50%                 0.000000  \n",
       "75%                 0.000000  \n",
       "max                 1.000000  \n",
       "\n",
       "[8 rows x 264 columns]"
      ]
     },
     "execution_count": 58,
     "metadata": {},
     "output_type": "execute_result"
    }
   ],
   "source": [
    "from sklearn.preprocessing import Imputer\n",
    "\n",
    "#Drop ID Column\n",
    "#Drop columns because not enough data= 'PoolQC','MiscFeature','Alley'\n",
    "#Drop columns because few distinct classes = Street, Condition2, RooftMatl, Heating, Utilities\n",
    "housedata_allx = housedata_allx.drop(['PoolQC','MiscFeature','Alley','Street','Condition2','RoofMatl','Heating','Utilities'], 1)\n",
    "\n",
    "#Convert MoSold to categorical\n",
    "housedata_allx[\"MoSold\"] = housedata_allx['MoSold'].astype(object)\n",
    "\n",
    "#Convert PoolArea to binary due to low # and low sqft variation \n",
    "housedata_allx[\"Pool\"] = np.where(housedata_allx['PoolArea'] > 0, 1, 0)\n",
    "housedata_allx = housedata_allx.drop('PoolArea',1)\n",
    "\n",
    "#Identify numeric features for imputation - for categorical there will simply be a seperate class for NaN\n",
    "numeric_feats = housedata_allx.dtypes[housedata_allx.dtypes != \"object\"].index\n",
    "\n",
    "#Impute values for numerical features (using median value)\n",
    "imp = Imputer(missing_values='NaN', strategy='median', axis=0)\n",
    "imp.fit(housedata_allx[numeric_feats])\n",
    "housedata_allx[numeric_feats] = imp.transform(housedata_allx[numeric_feats])\n",
    "\n",
    "#Get dummies for categorical data\n",
    "housedata_allx = pd.get_dummies(housedata_allx)\n",
    "\n",
    "#Describe processed dataframe\n",
    "housedata_allx.describe(include='all')"
   ]
  },
  {
   "cell_type": "code",
   "execution_count": 60,
   "metadata": {
    "collapsed": true
   },
   "outputs": [],
   "source": [
    "#Partition dataset into Kaggle training & test sets\n",
    "x_full = housedata_allx[:housedata_train.shape[0]].values\n",
    "x_kaggle = housedata_allx[housedata_train.shape[0]:].values\n",
    "\n",
    "logy_full = housedata_train.SalePrice.values\n",
    "\n",
    "#Partition dataset into model training & test sets\n",
    "x_train, x_test, logy_train, logy_test = train_test_split(x_full, logy_full, test_size=0.33, random_state=42)\n",
    "\n",
    "#Normal scale house prices for ease of interpretation of model evaluation:\n",
    "y_full = np.exp(logy_full)\n",
    "y_train = np.exp(logy_train)\n",
    "y_test = np.exp(logy_test)"
   ]
  },
  {
   "cell_type": "markdown",
   "metadata": {},
   "source": [
    "### Predictive Models\n",
    "\n",
    "#### OLS Regression"
   ]
  },
  {
   "cell_type": "code",
   "execution_count": 62,
   "metadata": {
    "collapsed": false
   },
   "outputs": [
    {
     "name": "stdout",
     "output_type": "stream",
     "text": [
      "OLS Regression RMSE - Train:  21707.9905432\n",
      "OLS Regression RMSE - Test:  32746.0192024\n"
     ]
    }
   ],
   "source": [
    "from sklearn.linear_model import LinearRegression\n",
    "from sklearn.metrics import mean_squared_error\n",
    "from math import sqrt\n",
    "\n",
    "# Fit MLR on training set\n",
    "mlr = LinearRegression()\n",
    "mlr_house = mlr.fit(x_train, logy_train)\n",
    "\n",
    "# Prediction based on training & test sets\n",
    "mlr_house_pred_train = mlr_house.predict(x_train)\n",
    "mlr_house_pred_test = mlr_house.predict(x_test)\n",
    "\n",
    "#Convert back to saleprice for evaluation\n",
    "mlr_house_pred_train = np.exp(mlr_house_pred_train)\n",
    "mlr_house_pred_test = np.exp(mlr_house_pred_test)\n",
    "\n",
    "# Evaluate in and out of sample performance\n",
    "MSE_train = mean_squared_error(y_train, mlr_house_pred_train)\n",
    "RMSE_train = sqrt(MSE_train)\n",
    "\n",
    "MSE_test = mean_squared_error(y_test, mlr_house_pred_test)\n",
    "RMSE_test = sqrt(MSE_test)\n",
    "\n",
    "print 'OLS Regression RMSE - Train: ', RMSE_train\n",
    "print 'OLS Regression RMSE - Test: ', RMSE_test"
   ]
  },
  {
   "cell_type": "markdown",
   "metadata": {},
   "source": [
    "#### Ridge & Lasso Regression"
   ]
  },
  {
   "cell_type": "code",
   "execution_count": 63,
   "metadata": {
    "collapsed": false
   },
   "outputs": [
    {
     "name": "stderr",
     "output_type": "stream",
     "text": [
      "C:\\Users\\Dallas\\Anaconda2\\lib\\site-packages\\sklearn\\linear_model\\coordinate_descent.py:479: ConvergenceWarning: Objective did not converge. You might want to increase the number of iterations. Fitting data with very small alpha may cause precision problems.\n",
      "  ConvergenceWarning)\n"
     ]
    }
   ],
   "source": [
    "from sklearn.linear_model import Lasso\n",
    "from sklearn.linear_model import Ridge\n",
    "from sklearn.cross_validation import cross_val_score\n",
    "\n",
    "# Set range of values for alpha (regularization paramater)\n",
    "alphas = 10**np.linspace(10,-5,100)*0.5\n",
    "\n",
    "# Initialize regression models\n",
    "lasso = Lasso()\n",
    "ridge = Ridge()\n",
    "\n",
    "# Set number of cross-validation folds\n",
    "n_folds = 5\n",
    "\n",
    "# Create empty lists to store mean-squared errors and standard deviations for each alpha value\n",
    "lasso_scores = list()\n",
    "lasso_std = list()\n",
    "ridge_scores = list()\n",
    "ridge_std = list()\n",
    "# Fill lists with average mean-squared error for each cross validation\n",
    "for alpha in alphas:\n",
    "    lasso.alpha = alpha\n",
    "    ridge.alpha = alpha\n",
    "    lasso_score = cross_val_score(lasso, x_train, logy_train, cv=n_folds, scoring='neg_mean_squared_error')\n",
    "    ridge_score = cross_val_score(ridge, x_train, logy_train, cv=n_folds, scoring='neg_mean_squared_error')\n",
    "    lasso_scores.append(np.mean(lasso_score))\n",
    "    lasso_std.append(np.std(lasso_score))\n",
    "    ridge_scores.append(np.mean(ridge_score))\n",
    "    ridge_std.append(np.std(ridge_score))\n",
    "\n",
    "lasso_scores, lasso_std = np.array(lasso_scores)*-1, np.array(lasso_std)*-1\n",
    "ridge_scores, ridge_std = np.array(ridge_scores)*-1, np.array(ridge_std)*-1"
   ]
  },
  {
   "cell_type": "code",
   "execution_count": 64,
   "metadata": {
    "collapsed": false
   },
   "outputs": [
    {
     "name": "stdout",
     "output_type": "stream",
     "text": [
      "Best Lambdas\n",
      "Lasso Regression : 0.000660970574233\n",
      "Ridge Regression : 8.1487541731\n"
     ]
    },
    {
     "data": {
      "image/png": "[encoded data removed]",
      "text/plain": [
       "<matplotlib.figure.Figure at 0x12f060f0>"
      ]
     },
     "metadata": {},
     "output_type": "display_data"
    }
   ],
   "source": [
    "plt.figure(figsize=(14,4))\n",
    "\n",
    "# Plot MSE vs. alpha for lasso regression\n",
    "plt.subplot(121)\n",
    "plt.semilogx(alphas, lasso_scores)\n",
    "lasso_stdError = lasso_std / np.sqrt(n_folds)\n",
    "plt.semilogx(alphas, lasso_scores + lasso_stdError, 'b--')\n",
    "plt.semilogx(alphas, lasso_scores - lasso_stdError, 'b--')\n",
    "plt.fill_between(alphas, lasso_scores + lasso_stdError, lasso_scores - lasso_stdError, alpha=0.2)\n",
    "plt.axhline(np.min(lasso_scores), linestyle='--', color='.5')\n",
    "plt.xlim([alphas[-1], alphas[0]])\n",
    "xlabel('Regularization Parameter (alpha/lambda)')\n",
    "ylabel('Mean Squared Error +/- Standard Error')\n",
    "title('Lasso Regression')\n",
    "\n",
    "# Plot MSE vs. alpha for ridge regression\n",
    "plt.subplot(122)\n",
    "plt.semilogx(alphas, ridge_scores)\n",
    "ridge_stdError = ridge_std / np.sqrt(n_folds)\n",
    "plt.semilogx(alphas, ridge_scores + ridge_stdError, 'b--')\n",
    "plt.semilogx(alphas, ridge_scores - ridge_stdError, 'b--')\n",
    "plt.fill_between(alphas, ridge_scores + ridge_stdError, ridge_scores - ridge_stdError, alpha=0.2)\n",
    "plt.axhline(np.min(ridge_scores), linestyle='--', color='.5')\n",
    "plt.xlim([alphas[-1], alphas[0]])\n",
    "xlabel('Regularization Parameter (alpha/lambda)')\n",
    "ylabel('Mean Squared Error +/- Standard Error')\n",
    "title('Ridge Regression')\n",
    "\n",
    "lasso_alpha = alphas[np.argmin(lasso_scores)]\n",
    "ridge_alpha = alphas[np.argmin(ridge_scores)]\n",
    "print 'Best Lambdas'\n",
    "print 'Lasso Regression :', lasso_alpha\n",
    "print 'Ridge Regression :', ridge_alpha"
   ]
  },
  {
   "cell_type": "code",
   "execution_count": 67,
   "metadata": {
    "collapsed": false
   },
   "outputs": [
    {
     "name": "stdout",
     "output_type": "stream",
     "text": [
      "Lasso RMSE - Train:  24715.1666266\n",
      "Lasso RMSE - Test:  28119.2571359\n"
     ]
    }
   ],
   "source": [
    "# LASSO\n",
    "lasso_house = Lasso(alpha = lasso_alpha)\n",
    "#Fit on training set\n",
    "lasso_house.fit(x_train, logy_train)\n",
    "\n",
    "# Prediction based on training & test sets\n",
    "lasso_house_pred_train = lasso_house.predict(x_train)\n",
    "lasso_house_pred_test = lasso_house.predict(x_test)\n",
    "\n",
    "#Convert back to saleprice for evaluation\n",
    "lasso_house_pred_train = np.exp(lasso_house_pred_train)\n",
    "lasso_house_pred_test = np.exp(lasso_house_pred_test)\n",
    "\n",
    "# Evaluate in and out of sample performance\n",
    "lasso_MSE_train = mean_squared_error(y_train, lasso_house_pred_train)\n",
    "lasso_RMSE_train = sqrt(lasso_MSE_train)\n",
    "\n",
    "lasso_MSE_test = mean_squared_error(y_test, lasso_house_pred_test)\n",
    "lasso_RMSE_test = sqrt(lasso_MSE_test)\n",
    "\n",
    "print 'Lasso RMSE - Train: ', lasso_RMSE_train\n",
    "print 'Lasso RMSE - Test: ', lasso_RMSE_test"
   ]
  },
  {
   "cell_type": "code",
   "execution_count": 68,
   "metadata": {
    "collapsed": false,
    "scrolled": true
   },
   "outputs": [
    {
     "name": "stdout",
     "output_type": "stream",
     "text": [
      "Ridge RMSE - Train:  23358.1166497\n",
      "Ridge RMSE - Test:  28463.9676107\n"
     ]
    }
   ],
   "source": [
    "# RIDGE\n",
    "ridge_house = Ridge(alpha = ridge_alpha)\n",
    "#Fit on training set\n",
    "ridge_house.fit(x_train, logy_train)\n",
    "\n",
    "# Prediction based on training & test sets\n",
    "ridge_house_pred_train = ridge_house.predict(x_train)\n",
    "ridge_house_pred_test = ridge_house.predict(x_test)\n",
    "\n",
    "#Convert back to saleprice for evaluation\n",
    "ridge_house_pred_train = np.exp(ridge_house_pred_train)\n",
    "ridge_house_pred_test = np.exp(ridge_house_pred_test)\n",
    "\n",
    "# Evaluate in and out of sample performance\n",
    "ridge_MSE_train = mean_squared_error(y_train, ridge_house_pred_train)\n",
    "ridge_RMSE_train = sqrt(ridge_MSE_train)\n",
    "\n",
    "ridge_MSE_test = mean_squared_error(y_test, ridge_house_pred_test)\n",
    "ridge_RMSE_test = sqrt(ridge_MSE_test)\n",
    "\n",
    "print 'Ridge RMSE - Train: ', ridge_RMSE_train\n",
    "print 'Ridge RMSE - Test: ', ridge_RMSE_test"
   ]
  },
  {
   "cell_type": "markdown",
   "metadata": {},
   "source": [
    "#### Multilayer Perceptron"
   ]
  },
  {
   "cell_type": "code",
   "execution_count": 84,
   "metadata": {
    "collapsed": false
   },
   "outputs": [
    {
     "name": "stdout",
     "output_type": "stream",
     "text": [
      "Multilayer Perceptron RMSE - Train:  30857.9937967\n",
      "Multilayer Perceptron RMSE - Test:  56438.4488883\n"
     ]
    }
   ],
   "source": [
    "#Define model parameters - NOTE: parameters selected based on out of sample performance.\n",
    "mlp_house = MLPRegressor(hidden_layer_sizes=(500,), activation='tanh', solver='sgd', learning_rate='constant', random_state=42,\n",
    "                    learning_rate_init=0.001)\n",
    "\n",
    "#Scale Data\n",
    "scaler = StandardScaler()  \n",
    "scaler.fit(x_train)  \n",
    "x_train_scale = scaler.transform(x_train)\n",
    "x_test_scale = scaler.transform(x_test) \n",
    "\n",
    "mlp_house.fit(x_train_scale, y_train)\n",
    "\n",
    "# Prediction based on training & test sets\n",
    "mlp_house_pred_train = mlp_house.predict(x_train_scale)\n",
    "mlp_house_pred_test = mlp_house.predict(x_test_scale)\n",
    "\n",
    "# Evaluate in and out of sample performance\n",
    "mlp_MSE_train = mean_squared_error(y_train, mlp_house_pred_train)\n",
    "mlp_RMSE_train = sqrt(mlp_MSE_train)\n",
    "\n",
    "mlp_MSE_test = mean_squared_error(y_test, mlp_house_pred_test)\n",
    "mlp_RMSE_test = sqrt(mlp_MSE_test)\n",
    "\n",
    "print 'Multilayer Perceptron RMSE - Train: ', mlp_RMSE_train\n",
    "print 'Multilayer Perceptron RMSE - Test: ', mlp_RMSE_test"
   ]
  },
  {
   "cell_type": "code",
   "execution_count": 86,
   "metadata": {
    "collapsed": false
   },
   "outputs": [
    {
     "data": {
      "text/html": [
       "<iframe id=\"igraph\" scrolling=\"no\" style=\"border:none;\" seamless=\"seamless\" src=\"https://plot.ly/~dallasgriffin/8.embed\" height=\"525px\" width=\"100%\"></iframe>"
      ],
      "text/plain": [
       "<plotly.tools.PlotlyDisplay object>"
      ]
     },
     "execution_count": 86,
     "metadata": {},
     "output_type": "execute_result"
    }
   ],
   "source": [
    "import plotly\n",
    "import plotly.plotly as py\n",
    "import plotly.graph_objs as go\n",
    "plotly.tools.set_credentials_file(username='dallasgriffin', api_key='st4uv9sosb')\n",
    "\n",
    "# Create a trace\n",
    "trace1 = go.Scatter(\n",
    "    x = mlp_house_pred_train,\n",
    "    y = y_train,\n",
    "    mode = 'markers',\n",
    "    name='Training Data'\n",
    ")\n",
    "trace2 = go.Scatter(\n",
    "    x = mlp_house_pred_test,\n",
    "    y = y_test,\n",
    "    mode = 'markers',\n",
    "    name='Testing Data'\n",
    ")\n",
    "data = [trace1, trace2]\n",
    "\n",
    "layout = go.Layout(\n",
    "    title='Multilayer Perceptron Residual Plot',\n",
    "    hovermode=\"closest\",\n",
    "    xaxis=dict(\n",
    "        title='Predicted Home Price',\n",
    "        titlefont=dict(\n",
    "            family='Courier New, monospace',\n",
    "            size=18,\n",
    "            color='#7f7f7f'\n",
    "        )\n",
    "    ),\n",
    "    yaxis=dict(\n",
    "        title='Actual Home Price',\n",
    "        titlefont=dict(\n",
    "            family='Courier New, monospace',\n",
    "            size=18,\n",
    "            color='#7f7f7f'\n",
    "        )\n",
    "    )\n",
    ")\n",
    "\n",
    "fig = go.Figure(data=data, layout=layout)\n",
    "# Plot and embed in ipython notebook!\n",
    "py.iplot(fig, filename='kaggle-residplot-mlp')"
   ]
  },
  {
   "cell_type": "markdown",
   "metadata": {},
   "source": [
    "#### Ensemble Methods - Gradient Boosting Regression"
   ]
  },
  {
   "cell_type": "code",
   "execution_count": 87,
   "metadata": {
    "collapsed": false
   },
   "outputs": [
    {
     "name": "stdout",
     "output_type": "stream",
     "text": [
      "Gradient Boosting Regression RMSE - Train:  1230.26354214\n",
      "Gradient Boosting Regression RMSE - Test:  29673.4217137\n"
     ]
    }
   ],
   "source": [
    "from sklearn.ensemble import GradientBoostingRegressor\n",
    "\n",
    "gbr_house = GradientBoostingRegressor(n_estimators = 10000, max_depth = 4,learning_rate = 0.01, max_features = 'sqrt', random_state = 42)\n",
    "\n",
    "gbr_house.fit(x_train, logy_train)\n",
    "\n",
    "# Prediction based on training & test sets\n",
    "gbr_house_pred_train = gbr_house.predict(x_train)\n",
    "gbr_house_pred_test = gbr_house.predict(x_test)\n",
    "\n",
    "#Convert back to saleprice for evaluation\n",
    "gbr_house_pred_train = np.exp(gbr_house_pred_train)\n",
    "gbr_house_pred_test = np.exp(gbr_house_pred_test)\n",
    "\n",
    "# Evaluate in and out of sample performance\n",
    "gbr_MSE_train = mean_squared_error(y_train, gbr_house_pred_train)\n",
    "gbr_RMSE_train = sqrt(gbr_MSE_train)\n",
    "\n",
    "gbr_MSE_test = mean_squared_error(y_test, gbr_house_pred_test)\n",
    "gbr_RMSE_test = sqrt(gbr_MSE_test)\n",
    "\n",
    "print 'Gradient Boosting Regression RMSE - Train: ', gbr_RMSE_train\n",
    "print 'Gradient Boosting Regression RMSE - Test: ', gbr_RMSE_test"
   ]
  },
  {
   "cell_type": "code",
   "execution_count": 88,
   "metadata": {
    "collapsed": false
   },
   "outputs": [
    {
     "data": {
      "text/html": [
       "<iframe id=\"igraph\" scrolling=\"no\" style=\"border:none;\" seamless=\"seamless\" src=\"https://plot.ly/~dallasgriffin/4.embed\" height=\"525px\" width=\"100%\"></iframe>"
      ],
      "text/plain": [
       "<plotly.tools.PlotlyDisplay object>"
      ]
     },
     "execution_count": 88,
     "metadata": {},
     "output_type": "execute_result"
    }
   ],
   "source": [
    "# Create a trace\n",
    "trace1 = go.Scatter(\n",
    "    x = gbr_house_pred_train,\n",
    "    y = y_train,\n",
    "    mode = 'markers',\n",
    "    name='Training Data'\n",
    ")\n",
    "trace2 = go.Scatter(\n",
    "    x = gbr_house_pred_test,\n",
    "    y = y_test,\n",
    "    mode = 'markers',\n",
    "    name='Testing Data'\n",
    ")\n",
    "data = [trace1, trace2]\n",
    "#Define Layout\n",
    "layout = go.Layout(\n",
    "    title='Gradient Boosting Regression Residual Plot',\n",
    "    hovermode=\"closest\",\n",
    "    xaxis=dict(\n",
    "        title='Predicted Home Price',\n",
    "        titlefont=dict(\n",
    "            family='Courier New, monospace',\n",
    "            size=18,\n",
    "            color='#7f7f7f'\n",
    "        )\n",
    "    ),\n",
    "    yaxis=dict(\n",
    "        title='Actual Home Price',\n",
    "        titlefont=dict(\n",
    "            family='Courier New, monospace',\n",
    "            size=18,\n",
    "            color='#7f7f7f'\n",
    "        )\n",
    "    )\n",
    ")\n",
    "\n",
    "fig = go.Figure(data=data, layout=layout)\n",
    "# Plot and embed in ipython notebook!\n",
    "py.iplot(fig, filename='kaggle-residplot-gb')"
   ]
  },
  {
   "cell_type": "code",
   "execution_count": 89,
   "metadata": {
    "collapsed": false
   },
   "outputs": [
    {
     "data": {
      "image/png": "[encoded data removed]",
      "text/plain": [
       "<matplotlib.figure.Figure at 0x10f6ec50>"
      ]
     },
     "metadata": {},
     "output_type": "display_data"
    }
   ],
   "source": [
    "feature_importance = gbr_house.feature_importances_\n",
    "# make importances relative to max importance\n",
    "feature_importance = 100.0 * (feature_importance / feature_importance.max())\n",
    "sorted_idx = np.argsort(feature_importance)[-20:]\n",
    "pos = np.arange(sorted_idx.shape[0]) + .5\n",
    "\n",
    "plt.barh(pos, feature_importance[sorted_idx], align='center')\n",
    "plt.yticks(pos, housedata_allx.columns.values[sorted_idx])\n",
    "plt.xlabel('Relative Importance')\n",
    "plt.title('20 Most Important Features - GBR')\n",
    "plt.show()"
   ]
  },
  {
   "cell_type": "markdown",
   "metadata": {
    "collapsed": true
   },
   "source": [
    "#### Final Model - Aggregate Predictions"
   ]
  },
  {
   "cell_type": "code",
   "execution_count": 90,
   "metadata": {
    "collapsed": false
   },
   "outputs": [
    {
     "name": "stdout",
     "output_type": "stream",
     "text": [
      "Aggregate Model RMSE - Train:  12584.4195459\n",
      "Aggregate Model RMSE - Test:  27763.876791\n"
     ]
    }
   ],
   "source": [
    "#Final model is the aggregate of the best performing regression model (LASSO) and ensemble model (Gradient Boosted Trees)\n",
    "agg_pred_train = (lasso_house_pred_train + gbr_house_pred_train)/2\n",
    "agg_pred_test = (lasso_house_pred_test + gbr_house_pred_test)/2\n",
    "\n",
    "# Evaluate in and out of sample performance\n",
    "agg_MSE_train = mean_squared_error(y_train, agg_pred_train)\n",
    "agg_RMSE_train = sqrt(agg_MSE_train)\n",
    "\n",
    "agg_MSE_test = mean_squared_error(y_test, agg_pred_test)\n",
    "agg_RMSE_test = sqrt(agg_MSE_test)\n",
    "\n",
    "print 'Aggregate Model RMSE - Train: ', agg_RMSE_train\n",
    "print 'Aggregate Model RMSE - Test: ', agg_RMSE_test"
   ]
  },
  {
   "cell_type": "code",
   "execution_count": 91,
   "metadata": {
    "collapsed": false
   },
   "outputs": [
    {
     "data": {
      "text/html": [
       "<iframe id=\"igraph\" scrolling=\"no\" style=\"border:none;\" seamless=\"seamless\" src=\"https://plot.ly/~dallasgriffin/6.embed\" height=\"525px\" width=\"100%\"></iframe>"
      ],
      "text/plain": [
       "<plotly.tools.PlotlyDisplay object>"
      ]
     },
     "execution_count": 91,
     "metadata": {},
     "output_type": "execute_result"
    }
   ],
   "source": [
    "# Create a trace\n",
    "trace1 = go.Scatter(\n",
    "    x = agg_pred_train,\n",
    "    y = y_train,\n",
    "    mode = 'markers',\n",
    "    name='Training Data'\n",
    ")\n",
    "trace2 = go.Scatter(\n",
    "    x = agg_pred_test,\n",
    "    y = y_test,\n",
    "    mode = 'markers',\n",
    "    name='Testing Data'\n",
    ")\n",
    "data = [trace1, trace2]\n",
    "#Define Layout\n",
    "layout = go.Layout(\n",
    "    title='Aggregate Model Residual Plot',\n",
    "    hovermode=\"closest\",\n",
    "    xaxis=dict(\n",
    "        title='Predicted Home Price',\n",
    "        titlefont=dict(\n",
    "            family='Courier New, monospace',\n",
    "            size=18,\n",
    "            color='#7f7f7f'\n",
    "        )\n",
    "    ),\n",
    "    yaxis=dict(\n",
    "        title='Actual Home Price',\n",
    "        titlefont=dict(\n",
    "            family='Courier New, monospace',\n",
    "            size=18,\n",
    "            color='#7f7f7f'\n",
    "        )\n",
    "    )\n",
    ")\n",
    "\n",
    "fig = go.Figure(data=data, layout=layout)\n",
    "# Plot and embed in ipython notebook!\n",
    "py.iplot(fig, filename='kaggle-residplot-agg')"
   ]
  },
  {
   "cell_type": "markdown",
   "metadata": {},
   "source": [
    "### Kaggle Prediction Generation"
   ]
  },
  {
   "cell_type": "code",
   "execution_count": 92,
   "metadata": {
    "collapsed": true
   },
   "outputs": [
    {
     "data": {
      "text/plain": [
       "<bound method DataFrame.to_csv of           SalePrice\n",
       "Id                 \n",
       "1461  118986.375497\n",
       "1462  150374.748802\n",
       "1463  180608.991683\n",
       "1464  198033.296763\n",
       "1465  190728.093801\n",
       "1466  171805.002593\n",
       "1467  181239.000788\n",
       "1468  166743.961357\n",
       "1469  185591.840060\n",
       "1470  123251.940034\n",
       "1471  188125.493225\n",
       "1472   99839.665848\n",
       "1473   97917.342418\n",
       "1474  148922.602007\n",
       "1475  116607.803088\n",
       "1476  356800.622368\n",
       "1477  250158.142030\n",
       "1478  294644.699919\n",
       "1479  286795.340065\n",
       "1480  492655.220318\n",
       "1481  319673.552538\n",
       "1482  212391.714847\n",
       "1483  171474.800105\n",
       "1484  166979.668687\n",
       "1485  188737.765038\n",
       "1486  193930.057051\n",
       "1487  340238.279854\n",
       "1488  234935.020033\n",
       "1489  197416.634470\n",
       "1490  234280.941278\n",
       "...             ...\n",
       "2890   85805.042530\n",
       "2891  133226.163520\n",
       "2892   45172.307548\n",
       "2893   72737.404939\n",
       "2894   54712.429119\n",
       "2895  312328.839154\n",
       "2896  274792.597224\n",
       "2897  201806.744643\n",
       "2898  149347.415142\n",
       "2899  211914.760743\n",
       "2900  158876.016343\n",
       "2901  204260.579023\n",
       "2902  181643.331631\n",
       "2903  323269.382011\n",
       "2904  344714.843158\n",
       "2905   87291.299212\n",
       "2906  205761.813320\n",
       "2907  112408.844532\n",
       "2908  136339.219405\n",
       "2909  148170.796413\n",
       "2910   81665.670845\n",
       "2911   83584.798624\n",
       "2912  148930.972590\n",
       "2913   82350.654526\n",
       "2914   78228.739527\n",
       "2915   83799.000674\n",
       "2916   83345.159962\n",
       "2917  159259.397103\n",
       "2918  116919.448784\n",
       "2919  225168.091616\n",
       "\n",
       "[1459 rows x 1 columns]>"
      ]
     },
     "execution_count": 92,
     "metadata": {},
     "output_type": "execute_result"
    }
   ],
   "source": [
    "#Re-fit models on full training dataset\n",
    "lasso_house.fit(x_full, logy_full)\n",
    "gbr_house.fit(x_full, logy_full)\n",
    "\n",
    "#Generate log(predictions) for each models\n",
    "kaggle_pred_lasso = lasso_house.predict(x_kaggle)\n",
    "kaggle_pred_gbr = gbr_house.predict(x_kaggle)\n",
    "\n",
    "#Convert to saleprice\n",
    "kaggle_pred_lasso = np.exp(kaggle_pred_lasso)\n",
    "kaggle_pred_gbr = np.exp(kaggle_pred_gbr)\n",
    "\n",
    "#Aggregate underlying model predictions\n",
    "agg_pred_kaggle = (kaggle_pred_lasso + kaggle_pred_gbr)/2\n",
    "\n",
    "#Output predictions to XLS for uploading\n",
    "kaggle_pred_pd = pd.DataFrame(data=agg_pred_kaggle,index=housedata_test.index, columns = ['SalePrice'])\n",
    "kaggle_pred_pd.to_csv"
   ]
  },
  {
   "cell_type": "markdown",
   "metadata": {},
   "source": [
    "### Kaggle Prediction Performance\n",
    "\n",
    "<img src=\"KaggleCompScreenshot.png\">\n",
    "\n",
    "### Conclusion\n",
    "\"Simple\" models like OLS, Lasso & Ridge actually performed quite well on this data set - with RMSE's of ~$30,000. MLP, a much more \"advanced\" model, surprisngly performed very poorly. This is likely due to the large number of predictors (~250 including dummies). Overall, models with explicit regularization predictors (i.e. Lasso & Ridge) or implicit feature-selection(Gradient Boost) performed much better at predicting house prices. All the models benefited from predicting price in log-scale, though even our final model seemed to systematically misprice several high-end homes. By far the best performer was an aggregate model averaging LASSO regression & and gradient boosting regression. This model also did well against our Kaggle competitors, placing 219th (top 20 percent) after only 1 submission. That said, there are still many methods by which the model could be improved still further. For example, we could experiment with using LASSO just for feature selection and then feeding the predictors with non-zero coefficients into a neural network. We could also add another type of model - like KNN - to our aggregate model."
   ]
  },
  {
   "cell_type": "code",
   "execution_count": null,
   "metadata": {
    "collapsed": true
   },
   "outputs": [],
   "source": []
  }
 ],
 "metadata": {
  "kernelspec": {
   "display_name": "Python [Root]",
   "language": "python",
   "name": "Python [Root]"
  },
  "language_info": {
   "codemirror_mode": {
    "name": "ipython",
    "version": 2
   },
   "file_extension": ".py",
   "mimetype": "text/x-python",
   "name": "python",
   "nbconvert_exporter": "python",
   "pygments_lexer": "ipython2",
   "version": "2.7.12"
  }
 },
 "nbformat": 4,
 "nbformat_minor": 0
}
