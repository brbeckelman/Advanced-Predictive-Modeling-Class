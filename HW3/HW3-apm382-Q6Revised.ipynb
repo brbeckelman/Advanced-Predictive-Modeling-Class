{
 "cells": [
  {
   "cell_type": "markdown",
   "metadata": {},
   "source": [
    "# <p style=\"text-align: center;\">MIS 382N: Advanced Predictive Modeling</p>\n",
    "# <p style=\"text-align: center;\">Assignment 3</p>\n",
    "## <p style=\"text-align: center;\">Total points: 80 </p>\n",
    "## <p style=\"text-align: center;\">Due: Mon, October 24, by 11:59pm</p>\n",
    "\n",
    "\n",
    "Your homework should be written in a **Jupyter notebook**. Please submit **only one** ipynb file from each group, and include the names of all the group members. Also, please make sure your code runs and the graphics (and anything else) are displayed in your notebook before submitting."
   ]
  },
  {
   "cell_type": "code",
   "execution_count": 3,
   "metadata": {
    "collapsed": false
   },
   "outputs": [
    {
     "name": "stdout",
     "output_type": "stream",
     "text": [
      "Populating the interactive namespace from numpy and matplotlib\n"
     ]
    }
   ],
   "source": [
    "import pandas as pd\n",
    "from pandas import Series, DataFrame\n",
    "import numpy as np\n",
    "%pylab inline\n",
    "import seaborn as sns"
   ]
  },
  {
   "cell_type": "markdown",
   "metadata": {},
   "source": [
    "# Question 1 - Stochastic Gradient Descent (10pts)\n",
    "\n",
    "1. Using stochastic gradient descent, derive the coefficent updates for all 4 coefficients of the model: $$ y = w_0 + w_1*x_1 + w_2*x_1^2 + w_3*x_2 $$ Hint: start from the cost function (Assume sum of squared error). If you write the math by hand, submit that as a separate file and make a reference to it in your notebook or include the image in your notebook.\n",
    "2. Write Python code for an SGD solution to the non-linear model $$ y = w_0 + w_1*x_1 + w_2*x_1^2 + w_3*x_2$$ Try to format similarly to scikit-learn's models. There should be a _fit_ function that takes parameters X, y, learning rate, and number of iterations, and a _predict_ function that takes an X value (optionally, an array of values). Use your new gradient descent regression to predict the data given in 'samples.csv', for 10 epochs, using learning rates: [.0001, .001, .01] . Plot MSE and the $w$ parameters as a function of epoch count."
   ]
  },
  {
   "cell_type": "markdown",
   "metadata": {},
   "source": [
    "## 1.\n",
    "\n",
    "For the purpose of this derivation, I will use the following cost function:\n",
    "\n",
    "$$ cost(w, (x^{(i)}, y^{(i)})) = \\frac{1}{2} * (\\hat{y}^{(i)} - y^{(i)})^2 $$\n",
    "\n",
    "where $i$ represents one sample from the data set, and $\\hat{y}$ is represented by the following equation:\n",
    "\n",
    "$$ \\hat{y} = w_0 + w_1*x_1 + w_2*x_1^2 + w_3*x_2 $$\n",
    "\n",
    "Thus, the cost function can be written as:\n",
    "\n",
    "$$ cost(w, (x^{(i)}, y^{(i)})) = \\frac{1}{2} * (w_0 + w_1*x_1^{(i)} + w_2*x_1^{(i)^2} + w_3*x_2^{(i)} - y^{(i)})^2 $$\n",
    "\n",
    "The coefficient update for each $w$ is defined as:\n",
    "\n",
    "$$ w_j = w_j - \\alpha * \\frac{\\partial}{\\partial w_j}cost(w,(x^{(i)},y^{(i)}) $$\n",
    "\n",
    "for $ j = 0, 1, 2, 3 $ where $\\alpha$ is the learning rate.\n",
    "\n",
    "The derivates of the cost function with respect to each coefficient are:\n",
    "\n",
    "$$ \\frac{\\partial}{\\partial w_0}cost(w_0,(x^{(i)},y^{(i)})) = (w_0 + w_1*x_1^{(i)} + w_2*x_1^{(i)^2} + w_3*x_2^{(i)} - y^{(i)}) $$\n",
    "\n",
    "$$ \\frac{\\partial}{\\partial w_1}cost(w_1,(x^{(i)},y^{(i)})) = x_1^{(i)}*(w_0 + w_1*x_1^{(i)} + w_2*x_1^{(i)^2} + w_3*x_2^{(i)} - y^{(i)}) $$\n",
    "\n",
    "$$ \\frac{\\partial}{\\partial w_2}cost(w_2,(x^{(i)},y^{(i)})) = 2*x_1^{(i)}*(w_0 + w_1*x_1^{(i)} + w_2*x_1^{(i)^2} + w_3*x_2^{(i)} - y^{(i)}) $$\n",
    "\n",
    "$$ \\frac{\\partial}{\\partial w_3}cost(w_3,(x^{(i)},y^{(i)})) = x_2^{(i)}*(w_0 + w_1*x_1^{(i)} + w_2*x_1^{(i)^2} + w_3*x_2^{(i)} - y^{(i)}) $$\n",
    "\n",
    "Therefore, the coefficient updates for all 4 coefficients of the model are:\n",
    "\n",
    "$$ w_0 = w_0 - \\alpha * (w_0 + w_1*x_1^{(i)} + w_2*x_1^{(i)^2} + w_3*x_2^{(i)} - y^{(i)}) $$\n",
    "\n",
    "$$ w_1 = w_1 - \\alpha * x_1^{(i)}*(w_0 + w_1*x_1^{(i)} + w_2*x_1^{(i)^2} + w_3*x_2^{(i)} - y^{(i)}) $$\n",
    "\n",
    "$$ w_2 = w_2 - \\alpha * 2*x_1^{(i)}*(w_0 + w_1*x_1^{(i)} + w_2*x_1^{(i)^2} + w_3*x_2^{(i)} - y^{(i)}) $$\n",
    "\n",
    "$$ w_3 = w_3 - \\alpha * x_2^{(i)}*(w_0 + w_1*x_1^{(i)} + w_2*x_1^{(i)^2} + w_3*x_2^{(i)} - y^{(i)}) $$\n",
    "\n",
    "where $\\alpha$ is the learning rate and $i$ represents one sample from the data set. For stochastic gradient descent, the algorithm will iterate through each sample in the data set, updating the coefficients each time."
   ]
  },
  {
   "cell_type": "markdown",
   "metadata": {},
   "source": [
    "## 2."
   ]
  },
  {
   "cell_type": "code",
   "execution_count": 2,
   "metadata": {
    "collapsed": true
   },
   "outputs": [],
   "source": [
    "def sgd_fit(X, y, alpha, num_iters):\n",
    "    '''Takes an array of x values, a list of the corresponding y values, a learning rate, and the number of iterations and \n",
    "    outputs a list of weights that have been optimized using stochastic gradient descent'''\n",
    "    \n",
    "    # Separate X array into a list of x1 values and a list of x2 values\n",
    "    x1 = []\n",
    "    x2 = []\n",
    "    for row in X:\n",
    "        x1.append(row[0])\n",
    "        x2.append(row[1])\n",
    "        \n",
    "    # Initialize coefficients\n",
    "    w = [0,0,0,0]\n",
    "    \n",
    "    # Iterate through data set number of times specified in input\n",
    "    for iters in range(num_iters):\n",
    "        # Iterate through each sample in data set, updating coefficients each time\n",
    "        for i in range(len(X)):\n",
    "            y_hat = w[0] + w[1]*x1[i] + w[2]*(x1[i]**2) + w[3]*x2[i]\n",
    "            temp0 = w[0] - alpha*(y_hat - y[i])\n",
    "            temp1 = w[1] - alpha*x1[i]*(y_hat - y[i])\n",
    "            temp2 = w[2] - alpha*2*x1[i]*(y_hat - y[i])\n",
    "            temp3 = w[3] - alpha*x2[i]*(y_hat - y[i])\n",
    "            w = [temp0, temp1, temp2, temp3]\n",
    "    \n",
    "    weights = list(w)\n",
    "    return weights"
   ]
  },
  {
   "cell_type": "code",
   "execution_count": 3,
   "metadata": {
    "collapsed": true
   },
   "outputs": [],
   "source": [
    "def sgd_predict(weights, X):\n",
    "    '''Takes a set of coefficients from sgd_fit and an array of x values and returns the predicted values of y'''\n",
    "    \n",
    "    # Separate X array into a list of x1 values and a list of x2 values\n",
    "    x1 = []\n",
    "    x2 = []\n",
    "    for row in X:\n",
    "        x1.append(row[0])\n",
    "        x2.append(row[1])\n",
    "    \n",
    "    # Make predictions based on weights from sgd_fit\n",
    "    y_predict = []\n",
    "    for i in range(len(X)):\n",
    "        y_hat = weights[0] + weights[1]*x1[i] + weights[2]*x1[i]**2 + weights[3]*x2[i]\n",
    "        y_predict.append(y_hat)\n",
    "    return y_predict"
   ]
  },
  {
   "cell_type": "code",
   "execution_count": 4,
   "metadata": {
    "collapsed": false
   },
   "outputs": [],
   "source": [
    "samples = pd.read_csv('samples.csv').drop('Unnamed: 0', axis=1)\n",
    "X = np.array(samples[['x1', 'x2']])\n",
    "y = list(samples['y'])"
   ]
  },
  {
   "cell_type": "code",
   "execution_count": 5,
   "metadata": {
    "collapsed": false
   },
   "outputs": [],
   "source": [
    "alphas = [0.0001, 0.001, 0.01]\n",
    "num_iters = range(1,11)\n",
    "\n",
    "MSE1_list = []\n",
    "MSE2_list = []\n",
    "MSE3_list = []\n",
    "weights1 = np.zeros(shape=(10,4))\n",
    "weights2 = np.zeros(shape=(10,4))\n",
    "weights3 = np.zeros(shape=(10,4))\n",
    "for iters in num_iters:\n",
    "    fit1 = sgd_fit(X, y, alphas[0], iters)\n",
    "    fit2 = sgd_fit(X, y, alphas[1], iters)\n",
    "    fit3 = sgd_fit(X, y, alphas[2], iters)\n",
    "    \n",
    "    weights1[iters-1] = fit1\n",
    "    weights2[iters-1] = fit2\n",
    "    weights3[iters-1] = fit3\n",
    "    \n",
    "    predict1 = sgd_predict(fit1, X)\n",
    "    predict2 = sgd_predict(fit2, X)\n",
    "    predict3 = sgd_predict(fit3, X)\n",
    "        \n",
    "    SSE = [0,0,0]\n",
    "    for i in range(len(y)):\n",
    "        SSE[0] += (y[i] - predict1[i])**2\n",
    "        SSE[1] += (y[i] - predict2[i])**2\n",
    "        SSE[2] += (y[i] - predict3[i])**2\n",
    "    \n",
    "    MSE1_list.append(SSE[0]/len(y))\n",
    "    MSE2_list.append(SSE[1]/len(y))\n",
    "    MSE3_list.append(SSE[2]/len(y))"
   ]
  },
  {
   "cell_type": "code",
   "execution_count": 6,
   "metadata": {
    "collapsed": false
   },
   "outputs": [
    {
     "data": {
      "text/plain": [
       "<matplotlib.text.Text at 0xad79e80>"
      ]
     },
     "execution_count": 6,
     "metadata": {},
     "output_type": "execute_result"
    },
    {
     "data": {
      "image/png": "[encoded data removed]",
      "text/plain": [
       "<matplotlib.figure.Figure at 0xab6c278>"
      ]
     },
     "metadata": {},
     "output_type": "display_data"
    }
   ],
   "source": [
    "figure(figsize=(14,4))\n",
    "\n",
    "subplot(131)\n",
    "scatter(num_iters, MSE1_list)\n",
    "title('Learning Rate: 0.0001')\n",
    "xlabel('Epoch Iteration')\n",
    "ylabel('MSE')\n",
    "\n",
    "subplot(132)\n",
    "scatter(num_iters, MSE2_list)\n",
    "title('Learning Rate: 0.001')\n",
    "xlabel('Epoch Iteration')\n",
    "ylabel('MSE')\n",
    "\n",
    "subplot(133)\n",
    "scatter(num_iters, MSE3_list)\n",
    "title('Learning Rate: 0.01')\n",
    "xlabel('Epoch Iteration')\n",
    "ylabel('MSE')"
   ]
  },
  {
   "cell_type": "code",
   "execution_count": 7,
   "metadata": {
    "collapsed": false
   },
   "outputs": [],
   "source": [
    "df_weights1 = DataFrame(weights1)\n",
    "df_weights1.columns = ['w0', 'w1', 'w2', 'w3']\n",
    "\n",
    "df_weights2 = DataFrame(weights2)\n",
    "df_weights2.columns = ['w0', 'w1', 'w2', 'w3']\n",
    "\n",
    "df_weights3 = DataFrame(weights3)\n",
    "df_weights3.columns = ['w0', 'w1', 'w2', 'w3']"
   ]
  },
  {
   "cell_type": "code",
   "execution_count": 8,
   "metadata": {
    "collapsed": false
   },
   "outputs": [
    {
     "data": {
      "text/plain": [
       "<matplotlib.axes._subplots.AxesSubplot at 0xab32a58>"
      ]
     },
     "execution_count": 8,
     "metadata": {},
     "output_type": "execute_result"
    },
    {
     "data": {
      "image/png": "[encoded data removed]",
      "text/plain": [
       "<matplotlib.figure.Figure at 0xab17cf8>"
      ]
     },
     "metadata": {},
     "output_type": "display_data"
    }
   ],
   "source": [
    "df_weights1.plot()"
   ]
  },
  {
   "cell_type": "markdown",
   "metadata": {},
   "source": [
    "# Question 2: Gradient Descent (5 pts)\n",
    "\n",
    "Suppose we are trying to use gradient descent to minimize a cost function y = f(w) as shown in the figure below. This function is linearly decreasing between A and B, constant between B and C, quadratic between C and D and constant between D and E. Assume that we have 10000 data points in our training set. If we choose the starting point between B and C, will we be able to find the local minima? Explain your answer. If your answer is \"Yes\", can you give a bound on the number of iterations required to get to the local minima?\n",
    "\n",
    "<img src=\"sgd.png\">"
   ]
  },
  {
   "cell_type": "markdown",
   "metadata": {},
   "source": [
    "If we are using gradient descent and the starting point is between B and C, then we will not be able to find the local minima in this instance. Gradient descent works by iteratively updating the coefficients of some function to minimize the associated cost function. The formula that is used to update the coefficient $w$ is shown below:\n",
    "\n",
    "$$ w = w - \\alpha*\\frac{\\partial}{\\partial w}J(w) $$\n",
    "\n",
    "In this formula, $w$ represents the coefficient that is being updated, $\\alpha$ represents the learning rate, and $J(w)$ represents the cost function. The change in the coefficient is directly proportional to the derivative of the cost function with respect to the coefficient. If we start between B and C, the derivative of the cost function with respect to $w$ is zero. Therefore, the second term in the above function is zero, and $w$ remains unchanged regardless of how many iterations are performed."
   ]
  },
  {
   "cell_type": "markdown",
   "metadata": {},
   "source": [
    "# Question 3: Multi-layer Perceptron regressor (15 points)\n",
    "\n",
    "In this question, you will explore the application of Multi-layer Perceptron (MLP) regression using sklearn package in Python. We will use the same dataset used in HW2 Q5: Hitters.csv [here](https://rdrr.io/cran/ISLR/man/Hitters.html). \n",
    "\n",
    "Following code will load and split the data into training and test set using [train_test_split](http://scikit-learn.org/stable/modules/generated/sklearn.model_selection.train_test_split.html) with **random state 42** and **test_size = 0.33**:"
   ]
  },
  {
   "cell_type": "code",
   "execution_count": 22,
   "metadata": {
    "collapsed": false
   },
   "outputs": [
    {
     "name": "stdout",
     "output_type": "stream",
     "text": [
      "(263, 16)\n"
     ]
    }
   ],
   "source": [
    "import pandas as pd\n",
    "import numpy as np\n",
    "from sklearn.model_selection import (train_test_split,KFold)\n",
    "from sklearn.metrics import mean_squared_error\n",
    "from sklearn.neural_network import MLPRegressor\n",
    "from sklearn.preprocessing import StandardScaler\n",
    "import matplotlib.pyplot as plt\n",
    "%matplotlib inline\n",
    "\n",
    "data = pd.read_csv('Hitters.csv')\n",
    "label_name = 'Salary'\n",
    "y = data[label_name]\n",
    "X = data.drop(label_name,axis=1)\n",
    "print X.shape\n",
    "\n",
    "X_train, X_test, y_train, y_test = train_test_split(X,y,test_size = 0.33, random_state=42)"
   ]
  },
  {
   "cell_type": "markdown",
   "metadata": {},
   "source": [
    "One more thing to use in this problem is [StandardScaler](http://scikit-learn.org/stable/modules/generated/sklearn.preprocessing.StandardScaler.html). Instead of fitting a model on original data, use StandardScaler to make each feature centered ([Example](http://scikit-learn.org/stable/auto_examples/applications/plot_prediction_latency.html#sphx-glr-auto-examples-applications-plot-prediction-latency-py)). Whenever you have training and test data, fit a scaler on training data and use this scaler on test data. Here, scale only features (independent variables), not target variable y."
   ]
  },
  {
   "cell_type": "markdown",
   "metadata": {},
   "source": [
    "1) Use [sklearn.neural_nework.MLPRegressor](http://scikit-learn.org/stable/modules/generated/sklearn.neural_network.MLPRegressor.html#sklearn.neural_network.MLPRegressor) to do a 5-fold cross validation using sklearn's [KFold](http://scikit-learn.org/stable/modules/generated/sklearn.model_selection.KFold.html#sklearn.model_selection.KFold). The cross validation must be performed on the **training data**. Use following parameter settings for MLPRegressor:\n",
    "\n",
    "    activation = 'tanh', solver = 'sgd', learning_rate='constant', random_state=42,\n",
    "    batch_size=40, learning_rate_init = 0.001\n",
    "    \n",
    "Now, consider two different settings for the number of hidden units:\n",
    "    \n",
    "   (a) *hidden_layer_sizes = (2,)* (b) *hidden_layer_sizes = (15,)*\n",
    "    \n",
    "   Report the average Root Mean Squared Error (RMSE) value based on your 5-fold cross validation for each model: (a) and (b) (6pts)\n",
    "   \n",
    "   \n",
    "2) Now, using the same parameters used in part 1), train MLPRegressor models on whole training data and report RMSE score for both Train and Test set (Again, use StandardScaler). Which model works better, (a) or (b)? Briefly analyze the result in terms of the number of hidden units. (5pts)\n",
    "\n",
    "\n",
    "3) MLPRegressor has a built-in attribute *loss\\_curve\\_* which returns the loss at each iteration. For example, if your model is named as *my_model* you can call it as *my\\_model.loss\\_curve\\_* ([example](http://scikit-learn.org/stable/auto_examples/neural_networks/plot_mlp_training_curves.html#sphx-glr-auto-examples-neural-networks-plot-mlp-training-curves-py)). Plot two curves for model (a) and (b) in one figure, where *X-axis* is iteration number and *Y-axis* is squared root of *loss\\_curve\\_* value. (4pts)"
   ]
  },
  {
   "cell_type": "code",
   "execution_count": null,
   "metadata": {
    "collapsed": true
   },
   "outputs": [],
   "source": []
  },
  {
   "cell_type": "markdown",
   "metadata": {},
   "source": [
    "# Question 4 - Bayesian Classifiers (10 pts)\n",
    "\n",
    "Download the Smarket dataset from Canvas. This contains about four years worth of daily prices for one stock. The goal is to predict whether or not the stock price will go up or down, and the features are the stock prices of the last five days.  \n",
    "The code below loads the dataset and all necessary sklearn modules (not that you can't use more if you feel like it). Look up any module on the scikit-learn website for a full description.\n",
    "\n",
    "1. The last 50 points will be the test dataset. For training, use the 1000 points prior to these 50 test points.\n",
    "2. Train Linear Discriminant Analysis, Quadratic Discriminant Analysis, and (Gaussian) Naive Bayes. Extract the probability of the stock price going up for each row in the test set.\n",
    "3. Plot the receiver operating characteristic (ROC) curve of each model, using the extracted probabilities and the true values for the test set. (3 pts)\n",
    "4. Report the area under the ROC curve (AUC) for each model. (2 pts)\n",
    "6. Justify the performance of each model, relative to the others. (1 pts)\n",
    "7. Repeat steps 1-6, only using the prior 100 points for training. Explain the changes in model performance. (4 pts)"
   ]
  },
  {
   "cell_type": "code",
   "execution_count": 39,
   "metadata": {
    "collapsed": true
   },
   "outputs": [],
   "source": [
    "import pandas as pd\n",
    "from sklearn.model_selection import train_test_split\n",
    "from sklearn.metrics import roc_curve, roc_auc_score\n",
    "from sklearn.naive_bayes import GaussianNB\n",
    "from sklearn.discriminant_analysis import LinearDiscriminantAnalysis as LDA\n",
    "from sklearn.discriminant_analysis import QuadraticDiscriminantAnalysis as QDA\n",
    "data = pd.read_csv('Smarket.csv', usecols=['Lag1','Lag2','Lag3','Lag4','Lag5','Direction'])"
   ]
  },
  {
   "cell_type": "markdown",
   "metadata": {},
   "source": [
    "## 1. Split data into training and test set"
   ]
  },
  {
   "cell_type": "code",
   "execution_count": 119,
   "metadata": {
    "collapsed": false
   },
   "outputs": [],
   "source": [
    "train = data[-1050:-50]\n",
    "X_train = train.drop('Direction', axis=1)\n",
    "y_train = train['Direction']\n",
    "\n",
    "test = data[-50:]\n",
    "X_test = test.drop('Direction', axis=1)\n",
    "y_test = test['Direction']"
   ]
  },
  {
   "cell_type": "markdown",
   "metadata": {},
   "source": [
    "## 2. Train LDA, QDA, and Naive Bayes"
   ]
  },
  {
   "cell_type": "code",
   "execution_count": 120,
   "metadata": {
    "collapsed": false
   },
   "outputs": [],
   "source": [
    "# Train LDA model \n",
    "LDA_model = LDA()\n",
    "LDA_model.fit(X_train, y_train)\n",
    "LDA_probs = LDA_model.predict_proba(X_test)\n",
    "\n",
    "# Train QDA model\n",
    "QDA_model = QDA()\n",
    "QDA_model.fit(X_train, y_train)\n",
    "QDA_probs = QDA_model.predict_proba(X_test)\n",
    "\n",
    "# Traine Naive Bayes model\n",
    "NB_model = GaussianNB()\n",
    "NB_model.fit(X_train, y_train)\n",
    "NB_probs = NB_model.predict_proba(X_test)"
   ]
  },
  {
   "cell_type": "code",
   "execution_count": 121,
   "metadata": {
    "collapsed": true
   },
   "outputs": [],
   "source": [
    "def extract_probs(probs_array):\n",
    "    probs_down = []\n",
    "    probs_up = []\n",
    "    for row in probs_array:\n",
    "        probs_down.append(row[0])\n",
    "        probs_up.append(row[1])\n",
    "    \n",
    "    return probs_up, probs_down"
   ]
  },
  {
   "cell_type": "code",
   "execution_count": 122,
   "metadata": {
    "collapsed": false
   },
   "outputs": [
    {
     "data": {
      "text/plain": [
       "[0.50495138668713124,\n",
       " 0.53888530608011354,\n",
       " 0.54603080014781469,\n",
       " 0.48018947654562905,\n",
       " 0.50410137409817912]"
      ]
     },
     "execution_count": 122,
     "metadata": {},
     "output_type": "execute_result"
    }
   ],
   "source": [
    "LDA_probsUp, LDA_probsDown = extract_probs(LDA_probs)\n",
    "QDA_probsUp, QDA_probsDown = extract_probs(QDA_probs)\n",
    "NB_probsUp, NB_probsDown = extract_probs(NB_probs)\n",
    "\n",
    "LDA_probsUp[:5]"
   ]
  },
  {
   "cell_type": "markdown",
   "metadata": {},
   "source": [
    "## 3. Receiver operating characteristic (ROC) curves"
   ]
  },
  {
   "cell_type": "code",
   "execution_count": 123,
   "metadata": {
    "collapsed": false
   },
   "outputs": [],
   "source": [
    "LDA_fpr, LDA_tpr, LDA_thresholds = roc_curve(y_test, LDA_probsUp, pos_label='Up')\n",
    "QDA_fpr, QDA_tpr, QDA_thresholds = roc_curve(y_test, QDA_probsUp, pos_label='Up')\n",
    "NB_fpr, NB_tpr, NB_thresholds = roc_curve(y_test, NB_probsUp, pos_label='Up')"
   ]
  },
  {
   "cell_type": "code",
   "execution_count": 124,
   "metadata": {
    "collapsed": false
   },
   "outputs": [
    {
     "data": {
      "text/plain": [
       "<matplotlib.text.Text at 0x13192be0>"
      ]
     },
     "execution_count": 124,
     "metadata": {},
     "output_type": "execute_result"
    },
    {
     "data": {
      "image/png": "[encoded data removed]",
      "text/plain": [
       "<matplotlib.figure.Figure at 0x12eafc50>"
      ]
     },
     "metadata": {},
     "output_type": "display_data"
    }
   ],
   "source": [
    "x = [0,1]\n",
    "y = [0,1]\n",
    "\n",
    "figure(figsize=(14,4))\n",
    "\n",
    "subplot(131)\n",
    "plot(LDA_fpr, LDA_tpr)\n",
    "plot(x,y, ls='--')\n",
    "title('LDA ROC Curve')\n",
    "xlabel('False Positive Rate')\n",
    "ylabel('True Positive Rate')\n",
    "\n",
    "subplot(132)\n",
    "plot(QDA_fpr, QDA_tpr)\n",
    "plot(x,y, ls='--')\n",
    "title('QDA ROC Curve')\n",
    "xlabel('False Positive Rate')\n",
    "ylabel('True Positive Rate')\n",
    "\n",
    "subplot(133)\n",
    "plot(NB_fpr, NB_tpr)\n",
    "plot(x,y, ls='--')\n",
    "title('Naive Bayes ROC Curve')\n",
    "xlabel('False Positive Rate')\n",
    "ylabel('True Positive Rate')"
   ]
  },
  {
   "cell_type": "markdown",
   "metadata": {},
   "source": [
    "## 4. Area under ROC curves"
   ]
  },
  {
   "cell_type": "code",
   "execution_count": 125,
   "metadata": {
    "collapsed": false
   },
   "outputs": [],
   "source": [
    "y_test_bin = []\n",
    "for y in y_test:\n",
    "    if y == 'Up':\n",
    "        y_test_bin.append(1)\n",
    "    else:\n",
    "        y_test_bin.append(0)"
   ]
  },
  {
   "cell_type": "code",
   "execution_count": 126,
   "metadata": {
    "collapsed": true
   },
   "outputs": [],
   "source": [
    "LDA_auc = roc_auc_score(y_test_bin, LDA_probsUp)\n",
    "QDA_auc = roc_auc_score(y_test_bin, QDA_probsUp)\n",
    "NB_auc = roc_auc_score(y_test_bin, NB_probsUp)"
   ]
  },
  {
   "cell_type": "code",
   "execution_count": 127,
   "metadata": {
    "collapsed": false
   },
   "outputs": [
    {
     "name": "stdout",
     "output_type": "stream",
     "text": [
      "Area Under ROC Curve\n",
      "\n",
      "LDA\t\t:\t0.520000\n",
      "QDA\t\t:\t0.628333\n",
      "Naive Bayes\t:\t0.521667\n"
     ]
    }
   ],
   "source": [
    "print 'Area Under ROC Curve'\n",
    "print\n",
    "print 'LDA\\t\\t:\\t%f' % (LDA_auc)\n",
    "print 'QDA\\t\\t:\\t%f' % (QDA_auc)\n",
    "print 'Naive Bayes\\t:\\t%f' % (NB_auc)"
   ]
  },
  {
   "cell_type": "markdown",
   "metadata": {},
   "source": [
    "## 5. Justify performance of each model"
   ]
  },
  {
   "cell_type": "markdown",
   "metadata": {},
   "source": []
  },
  {
   "cell_type": "markdown",
   "metadata": {},
   "source": [
    "## 6. Use prior 100 points for training"
   ]
  },
  {
   "cell_type": "code",
   "execution_count": 129,
   "metadata": {
    "collapsed": true
   },
   "outputs": [],
   "source": [
    "train = data[-150:-50]\n",
    "X_train = train.drop('Direction', axis=1)\n",
    "y_train = train['Direction']\n",
    "\n",
    "test = data[-50:]\n",
    "X_test = test.drop('Direction', axis=1)\n",
    "y_test = test['Direction']"
   ]
  },
  {
   "cell_type": "code",
   "execution_count": 130,
   "metadata": {
    "collapsed": true
   },
   "outputs": [],
   "source": [
    "# Train LDA model \n",
    "LDA_model = LDA()\n",
    "LDA_model.fit(X_train, y_train)\n",
    "LDA_probs = LDA_model.predict_proba(X_test)\n",
    "\n",
    "# Train QDA model\n",
    "QDA_model = QDA()\n",
    "QDA_model.fit(X_train, y_train)\n",
    "QDA_probs = QDA_model.predict_proba(X_test)\n",
    "\n",
    "# Traine Naive Bayes model\n",
    "NB_model = GaussianNB()\n",
    "NB_model.fit(X_train, y_train)\n",
    "NB_probs = NB_model.predict_proba(X_test)\n",
    "\n",
    "# Extract probabilities\n",
    "LDA_probsUp, LDA_probsDown = extract_probs(LDA_probs)\n",
    "QDA_probsUp, QDA_probsDown = extract_probs(QDA_probs)\n",
    "NB_probsUp, NB_probsDown = extract_probs(NB_probs)"
   ]
  },
  {
   "cell_type": "code",
   "execution_count": 131,
   "metadata": {
    "collapsed": false
   },
   "outputs": [
    {
     "data": {
      "text/plain": [
       "<matplotlib.text.Text at 0x135cb588>"
      ]
     },
     "execution_count": 131,
     "metadata": {},
     "output_type": "execute_result"
    },
    {
     "data": {
      "image/png": "[encoded data removed]",
      "text/plain": [
       "<matplotlib.figure.Figure at 0x12e5c390>"
      ]
     },
     "metadata": {},
     "output_type": "display_data"
    }
   ],
   "source": [
    "LDA_fpr, LDA_tpr, LDA_thresholds = roc_curve(y_test, LDA_probsUp, pos_label='Up')\n",
    "QDA_fpr, QDA_tpr, QDA_thresholds = roc_curve(y_test, QDA_probsUp, pos_label='Up')\n",
    "NB_fpr, NB_tpr, NB_thresholds = roc_curve(y_test, NB_probsUp, pos_label='Up')\n",
    "\n",
    "x = [0,1]\n",
    "y = [0,1]\n",
    "\n",
    "figure(figsize=(14,4))\n",
    "\n",
    "subplot(131)\n",
    "plot(LDA_fpr, LDA_tpr)\n",
    "plot(x,y, ls='--')\n",
    "title('LDA ROC Curve')\n",
    "xlabel('False Positive Rate')\n",
    "ylabel('True Positive Rate')\n",
    "\n",
    "subplot(132)\n",
    "plot(QDA_fpr, QDA_tpr)\n",
    "plot(x,y, ls='--')\n",
    "title('QDA ROC Curve')\n",
    "xlabel('False Positive Rate')\n",
    "ylabel('True Positive Rate')\n",
    "\n",
    "subplot(133)\n",
    "plot(NB_fpr, NB_tpr)\n",
    "plot(x,y, ls='--')\n",
    "title('Naive Bayes ROC Curve')\n",
    "xlabel('False Positive Rate')\n",
    "ylabel('True Positive Rate')"
   ]
  },
  {
   "cell_type": "code",
   "execution_count": 132,
   "metadata": {
    "collapsed": false
   },
   "outputs": [
    {
     "name": "stdout",
     "output_type": "stream",
     "text": [
      "Area Under ROC Curve\n",
      "\n",
      "LDA\t\t:\t0.421667\n",
      "QDA\t\t:\t0.508333\n",
      "Naive Bayes\t:\t0.508333\n"
     ]
    }
   ],
   "source": [
    "LDA_auc = roc_auc_score(y_test_bin, LDA_probsUp)\n",
    "QDA_auc = roc_auc_score(y_test_bin, QDA_probsUp)\n",
    "NB_auc = roc_auc_score(y_test_bin, NB_probsUp)\n",
    "\n",
    "print 'Area Under ROC Curve'\n",
    "print\n",
    "print 'LDA\\t\\t:\\t%f' % (LDA_auc)\n",
    "print 'QDA\\t\\t:\\t%f' % (QDA_auc)\n",
    "print 'Naive Bayes\\t:\\t%f' % (NB_auc)"
   ]
  },
  {
   "cell_type": "markdown",
   "metadata": {},
   "source": [
    "### Changes in Model Performance:\n",
    "\n",
    "All three models (LDA, QDA, Naive Bayes) performed worse when using only the prior 100 points than they did when using the prior 1,000 points."
   ]
  },
  {
   "cell_type": "markdown",
   "metadata": {},
   "source": [
    "# Question 5 - Logistic Regression (15pts)\n",
    "\n",
    "In this question we will be predicting mile per gallon (mpg) for Auto data set. ('Auto.csv' in Canvas)\n",
    "1. Convert mpg to a binary variable mpg01 which is 1 if had an mpg is greater than median mpg and zero otherwise\n",
    "2. Split the data into training and test. Use 42 as random seed and use 1/3rd of the data for testing. Our y variable is mpg01 and X matrix includes all the other variables except mpg01.\n",
    "3. Train a logistic regression with almost no regularization (pass l2 (ridge) to penalty and 1,000,000 to the C parameter which is the inverse of regularization strength lambda. This essentially does l2 regularization but applies very little weight to the penalty term) and report the [confusion matrix](http://scikit-learn.org/stable/modules/generated/sklearn.metrics.confusion_matrix.html) on the test data. Also report the accuracy for the \"mpg01 = 0\" class, the \"mpg01 = 1\" class, and the average per-class accuracy on the test data. Average per-class accuracy is described in this [post](http://rasbt.github.io/mlxtend/user_guide/evaluate/scoring/). You can use your confusion matrix to calculate this.\n",
    "4. Repeat step 3 except use l2 penalty with Cs of [0.001,0.01, 0.1, 1, 10 ,100, 1000]. You will want to use k-fold cross validation to select the best parameter. To evaluate which parameter is best, maximize the average per-class accuracy. To help with this task, check out [GridSearchCV](http://scikit-learn.org/stable/modules/generated/sklearn.model_selection.GridSearchCV.html#sklearn.model_selection.GridSearchCV) and how to make your own [custom scorer](http://scikit-learn.org/stable/modules/model_evaluation.html).\n",
    "5. Repeat question 4 except use l1 instead of l2 as the penalty type, use Cs of  [0.001, 0.01, ..., 1000]\n",
    "6. Which model produces the best average per-class accuracy? Why do you think this is the case? How do the models handle the different classes, and why is this so?"
   ]
  },
  {
   "cell_type": "markdown",
   "metadata": {},
   "source": [
    "Following code will load and clean the dataset and load some useful functions"
   ]
  },
  {
   "cell_type": "code",
   "execution_count": 9,
   "metadata": {
    "collapsed": false
   },
   "outputs": [
    {
     "data": {
      "text/html": [
       "<div>\n",
       "<table border=\"1\" class=\"dataframe\">\n",
       "  <thead>\n",
       "    <tr style=\"text-align: right;\">\n",
       "      <th></th>\n",
       "      <th>mpg</th>\n",
       "      <th>cylinders</th>\n",
       "      <th>displacement</th>\n",
       "      <th>horsepower</th>\n",
       "      <th>weight</th>\n",
       "      <th>acceleration</th>\n",
       "      <th>year</th>\n",
       "      <th>origin</th>\n",
       "    </tr>\n",
       "  </thead>\n",
       "  <tbody>\n",
       "    <tr>\n",
       "      <th>0</th>\n",
       "      <td>18.0</td>\n",
       "      <td>8</td>\n",
       "      <td>307.0</td>\n",
       "      <td>130.0</td>\n",
       "      <td>3504</td>\n",
       "      <td>12.0</td>\n",
       "      <td>70</td>\n",
       "      <td>1</td>\n",
       "    </tr>\n",
       "    <tr>\n",
       "      <th>1</th>\n",
       "      <td>15.0</td>\n",
       "      <td>8</td>\n",
       "      <td>350.0</td>\n",
       "      <td>165.0</td>\n",
       "      <td>3693</td>\n",
       "      <td>11.5</td>\n",
       "      <td>70</td>\n",
       "      <td>1</td>\n",
       "    </tr>\n",
       "    <tr>\n",
       "      <th>2</th>\n",
       "      <td>18.0</td>\n",
       "      <td>8</td>\n",
       "      <td>318.0</td>\n",
       "      <td>150.0</td>\n",
       "      <td>3436</td>\n",
       "      <td>11.0</td>\n",
       "      <td>70</td>\n",
       "      <td>1</td>\n",
       "    </tr>\n",
       "    <tr>\n",
       "      <th>3</th>\n",
       "      <td>16.0</td>\n",
       "      <td>8</td>\n",
       "      <td>304.0</td>\n",
       "      <td>150.0</td>\n",
       "      <td>3433</td>\n",
       "      <td>12.0</td>\n",
       "      <td>70</td>\n",
       "      <td>1</td>\n",
       "    </tr>\n",
       "    <tr>\n",
       "      <th>4</th>\n",
       "      <td>17.0</td>\n",
       "      <td>8</td>\n",
       "      <td>302.0</td>\n",
       "      <td>140.0</td>\n",
       "      <td>3449</td>\n",
       "      <td>10.5</td>\n",
       "      <td>70</td>\n",
       "      <td>1</td>\n",
       "    </tr>\n",
       "  </tbody>\n",
       "</table>\n",
       "</div>"
      ],
      "text/plain": [
       "    mpg  cylinders  displacement  horsepower  weight  acceleration  year  \\\n",
       "0  18.0          8         307.0       130.0    3504          12.0    70   \n",
       "1  15.0          8         350.0       165.0    3693          11.5    70   \n",
       "2  18.0          8         318.0       150.0    3436          11.0    70   \n",
       "3  16.0          8         304.0       150.0    3433          12.0    70   \n",
       "4  17.0          8         302.0       140.0    3449          10.5    70   \n",
       "\n",
       "   origin  \n",
       "0       1  \n",
       "1       1  \n",
       "2       1  \n",
       "3       1  \n",
       "4       1  "
      ]
     },
     "execution_count": 9,
     "metadata": {},
     "output_type": "execute_result"
    }
   ],
   "source": [
    "import pandas as pd\n",
    "import numpy as np\n",
    "\n",
    "from sklearn import model_selection\n",
    "# from sklearn import model_selection # Use model_selection instead of cross_validation in sklearn version >=0.18\n",
    "from sklearn.linear_model import LogisticRegression\n",
    "from sklearn.metrics import mean_squared_error, confusion_matrix, make_scorer\n",
    "from sklearn.grid_search import GridSearchCV\n",
    "\n",
    "Auto = pd.read_csv('Auto.csv', na_values='?').drop('name',axis = 1).dropna()\n",
    "Auto.head(5)"
   ]
  },
  {
   "cell_type": "markdown",
   "metadata": {},
   "source": [
    "## 1. Convert mpg to binary variable"
   ]
  },
  {
   "cell_type": "code",
   "execution_count": 3,
   "metadata": {
    "collapsed": false
   },
   "outputs": [
    {
     "data": {
      "text/html": [
       "<div>\n",
       "<table border=\"1\" class=\"dataframe\">\n",
       "  <thead>\n",
       "    <tr style=\"text-align: right;\">\n",
       "      <th></th>\n",
       "      <th>cylinders</th>\n",
       "      <th>displacement</th>\n",
       "      <th>horsepower</th>\n",
       "      <th>weight</th>\n",
       "      <th>acceleration</th>\n",
       "      <th>year</th>\n",
       "      <th>origin</th>\n",
       "      <th>mpg01</th>\n",
       "    </tr>\n",
       "  </thead>\n",
       "  <tbody>\n",
       "    <tr>\n",
       "      <th>0</th>\n",
       "      <td>8</td>\n",
       "      <td>307.0</td>\n",
       "      <td>130.0</td>\n",
       "      <td>3504</td>\n",
       "      <td>12.0</td>\n",
       "      <td>70</td>\n",
       "      <td>1</td>\n",
       "      <td>0</td>\n",
       "    </tr>\n",
       "  </tbody>\n",
       "</table>\n",
       "</div>"
      ],
      "text/plain": [
       "   cylinders  displacement  horsepower  weight  acceleration  year  origin  \\\n",
       "0          8         307.0       130.0    3504          12.0    70       1   \n",
       "\n",
       "   mpg01  \n",
       "0      0  "
      ]
     },
     "execution_count": 3,
     "metadata": {},
     "output_type": "execute_result"
    }
   ],
   "source": [
    "Auto['mpg01'] = np.where(Auto['mpg'] > Auto['mpg'].median(), 1, 0)\n",
    "Auto = Auto.drop('mpg', axis=1)\n",
    "Auto.head(1)"
   ]
  },
  {
   "cell_type": "markdown",
   "metadata": {},
   "source": [
    "## 2. Split data into training and test set"
   ]
  },
  {
   "cell_type": "code",
   "execution_count": 4,
   "metadata": {
    "collapsed": false
   },
   "outputs": [],
   "source": [
    "# Split data into training and test sets\n",
    "train, test = model_selection.train_test_split(Auto, test_size = 0.33, random_state = 42)\n",
    " \n",
    "X_train = train.drop('mpg01', axis=1)\n",
    "y_train = train['mpg01']\n",
    "\n",
    "X_test = test.drop('mpg01', axis=1)\n",
    "y_test = test['mpg01']"
   ]
  },
  {
   "cell_type": "markdown",
   "metadata": {},
   "source": [
    "## 3. Logistic regression with almost no regularization"
   ]
  },
  {
   "cell_type": "code",
   "execution_count": 5,
   "metadata": {
    "collapsed": false
   },
   "outputs": [],
   "source": [
    "# Fit logistic regression classifier to training set\n",
    "logreg = LogisticRegression(penalty='l2', C=1e6)\n",
    "logreg.fit(X_train, y_train)\n",
    "\n",
    "# Use classifier to predict test set\n",
    "logreg_predict = logreg.predict(X_test)"
   ]
  },
  {
   "cell_type": "code",
   "execution_count": 6,
   "metadata": {
    "collapsed": false
   },
   "outputs": [
    {
     "data": {
      "text/plain": [
       "<matplotlib.text.Text at 0xb6e3080>"
      ]
     },
     "execution_count": 6,
     "metadata": {},
     "output_type": "execute_result"
    },
    {
     "data": {
      "image/png": "[encoded data removed]",
      "text/plain": [
       "<matplotlib.figure.Figure at 0xb558eb8>"
      ]
     },
     "metadata": {},
     "output_type": "display_data"
    }
   ],
   "source": [
    "# Confustion matrix on test data\n",
    "conf_mat = confusion_matrix(y_test, logreg_predict)\n",
    "sns.heatmap(conf_mat, square=True, annot=True, fmt='d', cbar=True, \n",
    "            xticklabels=unique(y_test), yticklabels=unique(logreg_predict))\n",
    "plt.xlabel('Predicted mpg01')\n",
    "plt.ylabel('True mpg01')\n",
    "plt.title('Logistic Regression')"
   ]
  },
  {
   "cell_type": "code",
   "execution_count": 7,
   "metadata": {
    "collapsed": false
   },
   "outputs": [],
   "source": [
    "true_mpg0 = float(conf_mat[0][0])\n",
    "false_mpg0 = float(conf_mat[1][0])\n",
    "true_mpg1 = float(conf_mat[1][1])\n",
    "false_mpg1 = float(conf_mat[0][1])\n",
    "\n",
    "accuracy_mpg0 = true_mpg0 / (true_mpg0 + false_mpg1)\n",
    "accuracy_mpg1 = true_mpg1 / (true_mpg1 + false_mpg0)\n",
    "\n",
    "avgAcc_perClass = (accuracy_mpg1 + accuracy_mpg0)/2"
   ]
  },
  {
   "cell_type": "code",
   "execution_count": 116,
   "metadata": {
    "collapsed": false
   },
   "outputs": [
    {
     "name": "stdout",
     "output_type": "stream",
     "text": [
      "Class Accuracy\n",
      "\n",
      "mpg01 = 0\t:\t0.785714\n",
      "mpg01 = 1\t:\t0.966667\n",
      "Average\t\t:\t0.876190\n"
     ]
    }
   ],
   "source": [
    "print 'Class Accuracy'\n",
    "print\n",
    "print 'mpg01 = 0\\t:\\t%f' % (accuracy_mpg0)\n",
    "print 'mpg01 = 1\\t:\\t%f' % (accuracy_mpg1)\n",
    "print 'Average\\t\\t:\\t%f' % (avgAcc_perClass)"
   ]
  },
  {
   "cell_type": "markdown",
   "metadata": {},
   "source": [
    "## 4. l2 penalty, Cs of [0.001, 0.01, 0.1, 1, 10, 100, 1000]"
   ]
  },
  {
   "cell_type": "code",
   "execution_count": 10,
   "metadata": {
    "collapsed": true
   },
   "outputs": [],
   "source": [
    "def custom_scorer(y_true, y_predict):\n",
    "    '''Takes true values of y and predicted values of y and returns average per class accuracy'''\n",
    "    conf_mat = confusion_matrix(y_true, y_predict)\n",
    "    \n",
    "    true_neg = float(conf_mat[0][0])\n",
    "    false_neg = float(conf_mat[1][0])\n",
    "    true_pos = float(conf_mat[1][1])\n",
    "    false_pos = float(conf_mat[0][1])\n",
    "    \n",
    "    accuracy_neg = true_neg / (true_neg + false_pos)\n",
    "    accuracy_pos = true_pos / (true_pos + false_neg)\n",
    "    \n",
    "    avg_accuracy_perClass = (accuracy_pos + accuracy_neg)/2\n",
    "    return avg_accuracy_perClass"
   ]
  },
  {
   "cell_type": "code",
   "execution_count": 29,
   "metadata": {
    "collapsed": false
   },
   "outputs": [
    {
     "data": {
      "text/plain": [
       "GridSearchCV(cv=None, error_score='raise',\n",
       "       estimator=LogisticRegression(C=1.0, class_weight=None, dual=False, fit_intercept=True,\n",
       "          intercept_scaling=1, max_iter=100, multi_class='ovr', n_jobs=1,\n",
       "          penalty='l2', random_state=None, solver='liblinear', tol=0.0001,\n",
       "          verbose=0, warm_start=False),\n",
       "       fit_params={}, iid=True, n_jobs=1,\n",
       "       param_grid={'C': [0.001, 0.01, 0.1, 1, 10, 100, 1000]},\n",
       "       pre_dispatch='2*n_jobs', refit=True,\n",
       "       scoring=make_scorer(custom_scorer), verbose=0)"
      ]
     },
     "execution_count": 29,
     "metadata": {},
     "output_type": "execute_result"
    }
   ],
   "source": [
    "# Define scoring function\n",
    "score = make_scorer(custom_scorer, greater_is_better=True)\n",
    "# Define parameter grid\n",
    "parameters = {'C': [0.001,0.01, 0.1, 1, 10 ,100, 1000]}\n",
    "\n",
    "# Fit logistic regression model with different parameters\n",
    "logreg_cv = GridSearchCV(LogisticRegression(penalty='l2'), parameters, score)\n",
    "logreg_cv.fit(X_train, y_train)"
   ]
  },
  {
   "cell_type": "code",
   "execution_count": 30,
   "metadata": {
    "collapsed": false
   },
   "outputs": [],
   "source": [
    "logreg_bestFit = logreg_cv.best_estimator_\n",
    "logreg_bestScore = logreg_cv.best_score_\n",
    "logreg_bestParams = logreg_cv.best_params_"
   ]
  },
  {
   "cell_type": "code",
   "execution_count": 134,
   "metadata": {
    "collapsed": false
   },
   "outputs": [
    {
     "name": "stdout",
     "output_type": "stream",
     "text": [
      "The logistic regression model performed best with C = 0.1.\n",
      "This model produced an average per class accuracy of 0.922858.\n"
     ]
    }
   ],
   "source": [
    "print 'The logistic regression model performed best with C = %.1f.' % (logreg_bestParams['C'])\n",
    "print 'This model produced an average per class accuracy of %f.' % (logreg_bestScore)"
   ]
  },
  {
   "cell_type": "markdown",
   "metadata": {},
   "source": [
    "## 5. l1 penalty, Cs of [0.001, 0.01, 0.1, 1, 10, 100, 1000]"
   ]
  },
  {
   "cell_type": "code",
   "execution_count": 35,
   "metadata": {
    "collapsed": false
   },
   "outputs": [
    {
     "data": {
      "text/plain": [
       "GridSearchCV(cv=None, error_score='raise',\n",
       "       estimator=LogisticRegression(C=1.0, class_weight=None, dual=False, fit_intercept=True,\n",
       "          intercept_scaling=1, max_iter=100, multi_class='ovr', n_jobs=1,\n",
       "          penalty='l1', random_state=None, solver='liblinear', tol=0.0001,\n",
       "          verbose=0, warm_start=False),\n",
       "       fit_params={}, iid=True, n_jobs=1,\n",
       "       param_grid={'C': [0.001, 0.01, 0.1, 1, 10, 100, 1000]},\n",
       "       pre_dispatch='2*n_jobs', refit=True,\n",
       "       scoring=make_scorer(custom_scorer), verbose=0)"
      ]
     },
     "execution_count": 35,
     "metadata": {},
     "output_type": "execute_result"
    }
   ],
   "source": [
    "# Fit logistic regression model with different parameters\n",
    "logreg_cv2 = GridSearchCV(LogisticRegression(penalty='l1'), parameters, score)\n",
    "logreg_cv2.fit(X_train, y_train)"
   ]
  },
  {
   "cell_type": "code",
   "execution_count": 36,
   "metadata": {
    "collapsed": true
   },
   "outputs": [],
   "source": [
    "logreg_bestFit2 = logreg_cv2.best_estimator_\n",
    "logreg_bestScore2 = logreg_cv2.best_score_\n",
    "logreg_bestParams2 = logreg_cv2.best_params_"
   ]
  },
  {
   "cell_type": "code",
   "execution_count": 133,
   "metadata": {
    "collapsed": false
   },
   "outputs": [
    {
     "name": "stdout",
     "output_type": "stream",
     "text": [
      "The logistic regression model performed best with C = 0.1.\n",
      "This model produced an average per class accuracy of 0.922858.\n"
     ]
    }
   ],
   "source": [
    "print 'The logistic regression model performed best with C = %.1f.' % (logreg_bestParams2['C'])\n",
    "print 'This model produced an average per class accuracy of %f.' % (logreg_bestScore2)"
   ]
  },
  {
   "cell_type": "markdown",
   "metadata": {},
   "source": [
    "## 6. Compare models"
   ]
  },
  {
   "cell_type": "code",
   "execution_count": null,
   "metadata": {
    "collapsed": true
   },
   "outputs": [],
   "source": []
  },
  {
   "cell_type": "markdown",
   "metadata": {
    "collapsed": true
   },
   "source": [
    "# Question 6: House Prices (kaggle competition) (25 pts)\n",
    "\n",
    "In this problem, we are going to explore a kaggle competition: [House Prices](https://www.kaggle.com/c/house-prices-advanced-regression-techniques). Your goal is to obtain the best score you can in this competition. This is an ongoing competition, and you have the opportunity to win the prize money! \n",
    "\n",
    "The first step is to make a Kaggle account. Then find the House Prices competition and read the competition details and the description of the dataset. You may find this [article](https://ww2.amstat.org/publications/jse/v19n3/decock.pdf) useful.\n",
    "\n",
    "Your work should meet the following requirements:\n",
    "\n",
    "1. Data Preprocessing. \n",
    " * Conduct some data preprocessing. (Hint: see if there is any skewed features and consider applying suitable transformation techniques to make them more \"normal\").\n",
    " * Impute the missing values (if any).\n",
    "2. Predictive Models. \n",
    " * You have to create at least three models: simple linear regression, Lasso and Ridge regression and multilayer perceptron. You may consider creating an ensemble of these models as well (optional). For Lasso and Ridge regression, optimize the alphas using cross validation. You may try other predictive models to get better scores (optional).\n",
    "3. Evaluation: submit your model to kaggle submission site and report the public score.\n",
    "\n",
    "Briefly describe your work on each of these steps. Explain (very briefly) what approaches you tried, what worked and what did not work. Mention your team's kaggle name and include a screen shot of your public submission score. Finally, try your best to win this competition!"
   ]
  },
  {
   "cell_type": "markdown",
   "metadata": {},
   "source": [
    "### Data Pre-Processing"
   ]
  },
  {
   "cell_type": "code",
   "execution_count": 38,
   "metadata": {
    "collapsed": false
   },
   "outputs": [
    {
     "data": {
      "text/html": [
       "<div>\n",
       "<table border=\"1\" class=\"dataframe\">\n",
       "  <thead>\n",
       "    <tr style=\"text-align: right;\">\n",
       "      <th></th>\n",
       "      <th>MSSubClass</th>\n",
       "      <th>LotFrontage</th>\n",
       "      <th>LotArea</th>\n",
       "      <th>OverallQual</th>\n",
       "      <th>OverallCond</th>\n",
       "      <th>YearBuilt</th>\n",
       "      <th>YearRemodAdd</th>\n",
       "      <th>MasVnrArea</th>\n",
       "      <th>BsmtFinSF1</th>\n",
       "      <th>BsmtFinSF2</th>\n",
       "      <th>...</th>\n",
       "      <th>GarageArea</th>\n",
       "      <th>WoodDeckSF</th>\n",
       "      <th>OpenPorchSF</th>\n",
       "      <th>EnclosedPorch</th>\n",
       "      <th>3SsnPorch</th>\n",
       "      <th>ScreenPorch</th>\n",
       "      <th>PoolArea</th>\n",
       "      <th>MiscVal</th>\n",
       "      <th>MoSold</th>\n",
       "      <th>YrSold</th>\n",
       "    </tr>\n",
       "  </thead>\n",
       "  <tbody>\n",
       "    <tr>\n",
       "      <th>count</th>\n",
       "      <td>2919.000000</td>\n",
       "      <td>2433.000000</td>\n",
       "      <td>2919.000000</td>\n",
       "      <td>2919.000000</td>\n",
       "      <td>2919.000000</td>\n",
       "      <td>2919.000000</td>\n",
       "      <td>2919.000000</td>\n",
       "      <td>2896.000000</td>\n",
       "      <td>2918.000000</td>\n",
       "      <td>2918.000000</td>\n",
       "      <td>...</td>\n",
       "      <td>2918.000000</td>\n",
       "      <td>2919.000000</td>\n",
       "      <td>2919.000000</td>\n",
       "      <td>2919.000000</td>\n",
       "      <td>2919.000000</td>\n",
       "      <td>2919.000000</td>\n",
       "      <td>2919.000000</td>\n",
       "      <td>2919.000000</td>\n",
       "      <td>2919.000000</td>\n",
       "      <td>2919.000000</td>\n",
       "    </tr>\n",
       "    <tr>\n",
       "      <th>mean</th>\n",
       "      <td>57.137718</td>\n",
       "      <td>69.305795</td>\n",
       "      <td>10168.114080</td>\n",
       "      <td>6.089072</td>\n",
       "      <td>5.564577</td>\n",
       "      <td>1971.312778</td>\n",
       "      <td>1984.264474</td>\n",
       "      <td>102.201312</td>\n",
       "      <td>441.423235</td>\n",
       "      <td>49.582248</td>\n",
       "      <td>...</td>\n",
       "      <td>472.874572</td>\n",
       "      <td>93.709832</td>\n",
       "      <td>47.486811</td>\n",
       "      <td>23.098321</td>\n",
       "      <td>2.602261</td>\n",
       "      <td>16.062350</td>\n",
       "      <td>2.251799</td>\n",
       "      <td>50.825968</td>\n",
       "      <td>6.213087</td>\n",
       "      <td>2007.792737</td>\n",
       "    </tr>\n",
       "    <tr>\n",
       "      <th>std</th>\n",
       "      <td>42.517628</td>\n",
       "      <td>23.344905</td>\n",
       "      <td>7886.996359</td>\n",
       "      <td>1.409947</td>\n",
       "      <td>1.113131</td>\n",
       "      <td>30.291442</td>\n",
       "      <td>20.894344</td>\n",
       "      <td>179.334253</td>\n",
       "      <td>455.610826</td>\n",
       "      <td>169.205611</td>\n",
       "      <td>...</td>\n",
       "      <td>215.394815</td>\n",
       "      <td>126.526589</td>\n",
       "      <td>67.575493</td>\n",
       "      <td>64.244246</td>\n",
       "      <td>25.188169</td>\n",
       "      <td>56.184365</td>\n",
       "      <td>35.663946</td>\n",
       "      <td>567.402211</td>\n",
       "      <td>2.714762</td>\n",
       "      <td>1.314964</td>\n",
       "    </tr>\n",
       "    <tr>\n",
       "      <th>min</th>\n",
       "      <td>20.000000</td>\n",
       "      <td>21.000000</td>\n",
       "      <td>1300.000000</td>\n",
       "      <td>1.000000</td>\n",
       "      <td>1.000000</td>\n",
       "      <td>1872.000000</td>\n",
       "      <td>1950.000000</td>\n",
       "      <td>0.000000</td>\n",
       "      <td>0.000000</td>\n",
       "      <td>0.000000</td>\n",
       "      <td>...</td>\n",
       "      <td>0.000000</td>\n",
       "      <td>0.000000</td>\n",
       "      <td>0.000000</td>\n",
       "      <td>0.000000</td>\n",
       "      <td>0.000000</td>\n",
       "      <td>0.000000</td>\n",
       "      <td>0.000000</td>\n",
       "      <td>0.000000</td>\n",
       "      <td>1.000000</td>\n",
       "      <td>2006.000000</td>\n",
       "    </tr>\n",
       "    <tr>\n",
       "      <th>25%</th>\n",
       "      <td>20.000000</td>\n",
       "      <td>NaN</td>\n",
       "      <td>7478.000000</td>\n",
       "      <td>5.000000</td>\n",
       "      <td>5.000000</td>\n",
       "      <td>1953.500000</td>\n",
       "      <td>1965.000000</td>\n",
       "      <td>NaN</td>\n",
       "      <td>NaN</td>\n",
       "      <td>NaN</td>\n",
       "      <td>...</td>\n",
       "      <td>NaN</td>\n",
       "      <td>0.000000</td>\n",
       "      <td>0.000000</td>\n",
       "      <td>0.000000</td>\n",
       "      <td>0.000000</td>\n",
       "      <td>0.000000</td>\n",
       "      <td>0.000000</td>\n",
       "      <td>0.000000</td>\n",
       "      <td>4.000000</td>\n",
       "      <td>2007.000000</td>\n",
       "    </tr>\n",
       "    <tr>\n",
       "      <th>50%</th>\n",
       "      <td>50.000000</td>\n",
       "      <td>NaN</td>\n",
       "      <td>9453.000000</td>\n",
       "      <td>6.000000</td>\n",
       "      <td>5.000000</td>\n",
       "      <td>1973.000000</td>\n",
       "      <td>1993.000000</td>\n",
       "      <td>NaN</td>\n",
       "      <td>NaN</td>\n",
       "      <td>NaN</td>\n",
       "      <td>...</td>\n",
       "      <td>NaN</td>\n",
       "      <td>0.000000</td>\n",
       "      <td>26.000000</td>\n",
       "      <td>0.000000</td>\n",
       "      <td>0.000000</td>\n",
       "      <td>0.000000</td>\n",
       "      <td>0.000000</td>\n",
       "      <td>0.000000</td>\n",
       "      <td>6.000000</td>\n",
       "      <td>2008.000000</td>\n",
       "    </tr>\n",
       "    <tr>\n",
       "      <th>75%</th>\n",
       "      <td>70.000000</td>\n",
       "      <td>NaN</td>\n",
       "      <td>11570.000000</td>\n",
       "      <td>7.000000</td>\n",
       "      <td>6.000000</td>\n",
       "      <td>2001.000000</td>\n",
       "      <td>2004.000000</td>\n",
       "      <td>NaN</td>\n",
       "      <td>NaN</td>\n",
       "      <td>NaN</td>\n",
       "      <td>...</td>\n",
       "      <td>NaN</td>\n",
       "      <td>168.000000</td>\n",
       "      <td>70.000000</td>\n",
       "      <td>0.000000</td>\n",
       "      <td>0.000000</td>\n",
       "      <td>0.000000</td>\n",
       "      <td>0.000000</td>\n",
       "      <td>0.000000</td>\n",
       "      <td>8.000000</td>\n",
       "      <td>2009.000000</td>\n",
       "    </tr>\n",
       "    <tr>\n",
       "      <th>max</th>\n",
       "      <td>190.000000</td>\n",
       "      <td>313.000000</td>\n",
       "      <td>215245.000000</td>\n",
       "      <td>10.000000</td>\n",
       "      <td>9.000000</td>\n",
       "      <td>2010.000000</td>\n",
       "      <td>2010.000000</td>\n",
       "      <td>1600.000000</td>\n",
       "      <td>5644.000000</td>\n",
       "      <td>1526.000000</td>\n",
       "      <td>...</td>\n",
       "      <td>1488.000000</td>\n",
       "      <td>1424.000000</td>\n",
       "      <td>742.000000</td>\n",
       "      <td>1012.000000</td>\n",
       "      <td>508.000000</td>\n",
       "      <td>576.000000</td>\n",
       "      <td>800.000000</td>\n",
       "      <td>17000.000000</td>\n",
       "      <td>12.000000</td>\n",
       "      <td>2010.000000</td>\n",
       "    </tr>\n",
       "  </tbody>\n",
       "</table>\n",
       "<p>8 rows × 36 columns</p>\n",
       "</div>"
      ],
      "text/plain": [
       "        MSSubClass  LotFrontage        LotArea  OverallQual  OverallCond  \\\n",
       "count  2919.000000  2433.000000    2919.000000  2919.000000  2919.000000   \n",
       "mean     57.137718    69.305795   10168.114080     6.089072     5.564577   \n",
       "std      42.517628    23.344905    7886.996359     1.409947     1.113131   \n",
       "min      20.000000    21.000000    1300.000000     1.000000     1.000000   \n",
       "25%      20.000000          NaN    7478.000000     5.000000     5.000000   \n",
       "50%      50.000000          NaN    9453.000000     6.000000     5.000000   \n",
       "75%      70.000000          NaN   11570.000000     7.000000     6.000000   \n",
       "max     190.000000   313.000000  215245.000000    10.000000     9.000000   \n",
       "\n",
       "         YearBuilt  YearRemodAdd   MasVnrArea   BsmtFinSF1   BsmtFinSF2  \\\n",
       "count  2919.000000   2919.000000  2896.000000  2918.000000  2918.000000   \n",
       "mean   1971.312778   1984.264474   102.201312   441.423235    49.582248   \n",
       "std      30.291442     20.894344   179.334253   455.610826   169.205611   \n",
       "min    1872.000000   1950.000000     0.000000     0.000000     0.000000   \n",
       "25%    1953.500000   1965.000000          NaN          NaN          NaN   \n",
       "50%    1973.000000   1993.000000          NaN          NaN          NaN   \n",
       "75%    2001.000000   2004.000000          NaN          NaN          NaN   \n",
       "max    2010.000000   2010.000000  1600.000000  5644.000000  1526.000000   \n",
       "\n",
       "          ...        GarageArea   WoodDeckSF  OpenPorchSF  EnclosedPorch  \\\n",
       "count     ...       2918.000000  2919.000000  2919.000000    2919.000000   \n",
       "mean      ...        472.874572    93.709832    47.486811      23.098321   \n",
       "std       ...        215.394815   126.526589    67.575493      64.244246   \n",
       "min       ...          0.000000     0.000000     0.000000       0.000000   \n",
       "25%       ...               NaN     0.000000     0.000000       0.000000   \n",
       "50%       ...               NaN     0.000000    26.000000       0.000000   \n",
       "75%       ...               NaN   168.000000    70.000000       0.000000   \n",
       "max       ...       1488.000000  1424.000000   742.000000    1012.000000   \n",
       "\n",
       "         3SsnPorch  ScreenPorch     PoolArea       MiscVal       MoSold  \\\n",
       "count  2919.000000  2919.000000  2919.000000   2919.000000  2919.000000   \n",
       "mean      2.602261    16.062350     2.251799     50.825968     6.213087   \n",
       "std      25.188169    56.184365    35.663946    567.402211     2.714762   \n",
       "min       0.000000     0.000000     0.000000      0.000000     1.000000   \n",
       "25%       0.000000     0.000000     0.000000      0.000000     4.000000   \n",
       "50%       0.000000     0.000000     0.000000      0.000000     6.000000   \n",
       "75%       0.000000     0.000000     0.000000      0.000000     8.000000   \n",
       "max     508.000000   576.000000   800.000000  17000.000000    12.000000   \n",
       "\n",
       "            YrSold  \n",
       "count  2919.000000  \n",
       "mean   2007.792737  \n",
       "std       1.314964  \n",
       "min    2006.000000  \n",
       "25%    2007.000000  \n",
       "50%    2008.000000  \n",
       "75%    2009.000000  \n",
       "max    2010.000000  \n",
       "\n",
       "[8 rows x 36 columns]"
      ]
     },
     "execution_count": 38,
     "metadata": {},
     "output_type": "execute_result"
    }
   ],
   "source": [
    "housedata_train = pd.read_csv('kaggle_train.csv')\n",
    "housedata_train = housedata_train.set_index('Id')\n",
    "\n",
    "housedata_test = pd.read_csv(\"kaggle_test.csv\")\n",
    "housedata_test = housedata_test.set_index('Id')\n",
    "\n",
    "#Describe raw dataset\n",
    "housedata_train.describe(include='all')\n",
    "\n",
    "#Combine datasets\n",
    "housedata_allx = pd.concat((housedata_train.loc[:,'MSSubClass':'SaleCondition'],\n",
    "                      housedata_test.loc[:,'MSSubClass':'SaleCondition']))\n",
    "\n",
    "#Describe raw dataset\n",
    "housedata_allx.describe()"
   ]
  },
  {
   "cell_type": "code",
   "execution_count": 39,
   "metadata": {
    "collapsed": false
   },
   "outputs": [
    {
     "data": {
      "text/plain": [
       "<matplotlib.axes._subplots.AxesSubplot at 0xe2cab00>"
      ]
     },
     "execution_count": 39,
     "metadata": {},
     "output_type": "execute_result"
    },
    {
     "data": {
      "image/png": "[encoded data removed]",
      "text/plain": [
       "<matplotlib.figure.Figure at 0xe2ca3c8>"
      ]
     },
     "metadata": {},
     "output_type": "display_data"
    }
   ],
   "source": [
    "#House price is skewed (long tail), so transform to log(price) so higher sale prices more accurately predicted\n",
    "housedata_train['SalePrice'] = np.log(housedata_train['SalePrice'])\n",
    "housedata_train['SalePrice'].hist()"
   ]
  },
  {
   "cell_type": "code",
   "execution_count": 40,
   "metadata": {
    "collapsed": false
   },
   "outputs": [
    {
     "data": {
      "text/html": [
       "<div>\n",
       "<table border=\"1\" class=\"dataframe\">\n",
       "  <thead>\n",
       "    <tr style=\"text-align: right;\">\n",
       "      <th></th>\n",
       "      <th>MSSubClass</th>\n",
       "      <th>LotFrontage</th>\n",
       "      <th>LotArea</th>\n",
       "      <th>OverallQual</th>\n",
       "      <th>OverallCond</th>\n",
       "      <th>YearBuilt</th>\n",
       "      <th>YearRemodAdd</th>\n",
       "      <th>MasVnrArea</th>\n",
       "      <th>BsmtFinSF1</th>\n",
       "      <th>BsmtFinSF2</th>\n",
       "      <th>...</th>\n",
       "      <th>SaleType_ConLw</th>\n",
       "      <th>SaleType_New</th>\n",
       "      <th>SaleType_Oth</th>\n",
       "      <th>SaleType_WD</th>\n",
       "      <th>SaleCondition_Abnorml</th>\n",
       "      <th>SaleCondition_AdjLand</th>\n",
       "      <th>SaleCondition_Alloca</th>\n",
       "      <th>SaleCondition_Family</th>\n",
       "      <th>SaleCondition_Normal</th>\n",
       "      <th>SaleCondition_Partial</th>\n",
       "    </tr>\n",
       "  </thead>\n",
       "  <tbody>\n",
       "    <tr>\n",
       "      <th>count</th>\n",
       "      <td>2919.000000</td>\n",
       "      <td>2919.000000</td>\n",
       "      <td>2919.000000</td>\n",
       "      <td>2919.000000</td>\n",
       "      <td>2919.000000</td>\n",
       "      <td>2919.000000</td>\n",
       "      <td>2919.000000</td>\n",
       "      <td>2919.000000</td>\n",
       "      <td>2919.000000</td>\n",
       "      <td>2919.000000</td>\n",
       "      <td>...</td>\n",
       "      <td>2919.000000</td>\n",
       "      <td>2919.000000</td>\n",
       "      <td>2919.000000</td>\n",
       "      <td>2919.000000</td>\n",
       "      <td>2919.000000</td>\n",
       "      <td>2919.000000</td>\n",
       "      <td>2919.000000</td>\n",
       "      <td>2919.000000</td>\n",
       "      <td>2919.000000</td>\n",
       "      <td>2919.000000</td>\n",
       "    </tr>\n",
       "    <tr>\n",
       "      <th>mean</th>\n",
       "      <td>57.137718</td>\n",
       "      <td>69.088386</td>\n",
       "      <td>10168.114080</td>\n",
       "      <td>6.089072</td>\n",
       "      <td>5.564577</td>\n",
       "      <td>1971.312778</td>\n",
       "      <td>1984.264474</td>\n",
       "      <td>101.396026</td>\n",
       "      <td>441.398253</td>\n",
       "      <td>49.565262</td>\n",
       "      <td>...</td>\n",
       "      <td>0.002741</td>\n",
       "      <td>0.081877</td>\n",
       "      <td>0.002398</td>\n",
       "      <td>0.865022</td>\n",
       "      <td>0.065091</td>\n",
       "      <td>0.004111</td>\n",
       "      <td>0.008222</td>\n",
       "      <td>0.015759</td>\n",
       "      <td>0.822885</td>\n",
       "      <td>0.083933</td>\n",
       "    </tr>\n",
       "    <tr>\n",
       "      <th>std</th>\n",
       "      <td>42.517628</td>\n",
       "      <td>21.317898</td>\n",
       "      <td>7886.996359</td>\n",
       "      <td>1.409947</td>\n",
       "      <td>1.113131</td>\n",
       "      <td>30.291442</td>\n",
       "      <td>20.894344</td>\n",
       "      <td>178.854579</td>\n",
       "      <td>455.534750</td>\n",
       "      <td>169.179104</td>\n",
       "      <td>...</td>\n",
       "      <td>0.052289</td>\n",
       "      <td>0.274225</td>\n",
       "      <td>0.048920</td>\n",
       "      <td>0.341758</td>\n",
       "      <td>0.246728</td>\n",
       "      <td>0.063996</td>\n",
       "      <td>0.090317</td>\n",
       "      <td>0.124562</td>\n",
       "      <td>0.381832</td>\n",
       "      <td>0.277335</td>\n",
       "    </tr>\n",
       "    <tr>\n",
       "      <th>min</th>\n",
       "      <td>20.000000</td>\n",
       "      <td>21.000000</td>\n",
       "      <td>1300.000000</td>\n",
       "      <td>1.000000</td>\n",
       "      <td>1.000000</td>\n",
       "      <td>1872.000000</td>\n",
       "      <td>1950.000000</td>\n",
       "      <td>0.000000</td>\n",
       "      <td>0.000000</td>\n",
       "      <td>0.000000</td>\n",
       "      <td>...</td>\n",
       "      <td>0.000000</td>\n",
       "      <td>0.000000</td>\n",
       "      <td>0.000000</td>\n",
       "      <td>0.000000</td>\n",
       "      <td>0.000000</td>\n",
       "      <td>0.000000</td>\n",
       "      <td>0.000000</td>\n",
       "      <td>0.000000</td>\n",
       "      <td>0.000000</td>\n",
       "      <td>0.000000</td>\n",
       "    </tr>\n",
       "    <tr>\n",
       "      <th>25%</th>\n",
       "      <td>20.000000</td>\n",
       "      <td>60.000000</td>\n",
       "      <td>7478.000000</td>\n",
       "      <td>5.000000</td>\n",
       "      <td>5.000000</td>\n",
       "      <td>1953.500000</td>\n",
       "      <td>1965.000000</td>\n",
       "      <td>0.000000</td>\n",
       "      <td>0.000000</td>\n",
       "      <td>0.000000</td>\n",
       "      <td>...</td>\n",
       "      <td>0.000000</td>\n",
       "      <td>0.000000</td>\n",
       "      <td>0.000000</td>\n",
       "      <td>1.000000</td>\n",
       "      <td>0.000000</td>\n",
       "      <td>0.000000</td>\n",
       "      <td>0.000000</td>\n",
       "      <td>0.000000</td>\n",
       "      <td>1.000000</td>\n",
       "      <td>0.000000</td>\n",
       "    </tr>\n",
       "    <tr>\n",
       "      <th>50%</th>\n",
       "      <td>50.000000</td>\n",
       "      <td>68.000000</td>\n",
       "      <td>9453.000000</td>\n",
       "      <td>6.000000</td>\n",
       "      <td>5.000000</td>\n",
       "      <td>1973.000000</td>\n",
       "      <td>1993.000000</td>\n",
       "      <td>0.000000</td>\n",
       "      <td>368.500000</td>\n",
       "      <td>0.000000</td>\n",
       "      <td>...</td>\n",
       "      <td>0.000000</td>\n",
       "      <td>0.000000</td>\n",
       "      <td>0.000000</td>\n",
       "      <td>1.000000</td>\n",
       "      <td>0.000000</td>\n",
       "      <td>0.000000</td>\n",
       "      <td>0.000000</td>\n",
       "      <td>0.000000</td>\n",
       "      <td>1.000000</td>\n",
       "      <td>0.000000</td>\n",
       "    </tr>\n",
       "    <tr>\n",
       "      <th>75%</th>\n",
       "      <td>70.000000</td>\n",
       "      <td>78.000000</td>\n",
       "      <td>11570.000000</td>\n",
       "      <td>7.000000</td>\n",
       "      <td>6.000000</td>\n",
       "      <td>2001.000000</td>\n",
       "      <td>2004.000000</td>\n",
       "      <td>163.500000</td>\n",
       "      <td>733.000000</td>\n",
       "      <td>0.000000</td>\n",
       "      <td>...</td>\n",
       "      <td>0.000000</td>\n",
       "      <td>0.000000</td>\n",
       "      <td>0.000000</td>\n",
       "      <td>1.000000</td>\n",
       "      <td>0.000000</td>\n",
       "      <td>0.000000</td>\n",
       "      <td>0.000000</td>\n",
       "      <td>0.000000</td>\n",
       "      <td>1.000000</td>\n",
       "      <td>0.000000</td>\n",
       "    </tr>\n",
       "    <tr>\n",
       "      <th>max</th>\n",
       "      <td>190.000000</td>\n",
       "      <td>313.000000</td>\n",
       "      <td>215245.000000</td>\n",
       "      <td>10.000000</td>\n",
       "      <td>9.000000</td>\n",
       "      <td>2010.000000</td>\n",
       "      <td>2010.000000</td>\n",
       "      <td>1600.000000</td>\n",
       "      <td>5644.000000</td>\n",
       "      <td>1526.000000</td>\n",
       "      <td>...</td>\n",
       "      <td>1.000000</td>\n",
       "      <td>1.000000</td>\n",
       "      <td>1.000000</td>\n",
       "      <td>1.000000</td>\n",
       "      <td>1.000000</td>\n",
       "      <td>1.000000</td>\n",
       "      <td>1.000000</td>\n",
       "      <td>1.000000</td>\n",
       "      <td>1.000000</td>\n",
       "      <td>1.000000</td>\n",
       "    </tr>\n",
       "  </tbody>\n",
       "</table>\n",
       "<p>8 rows × 264 columns</p>\n",
       "</div>"
      ],
      "text/plain": [
       "        MSSubClass  LotFrontage        LotArea  OverallQual  OverallCond  \\\n",
       "count  2919.000000  2919.000000    2919.000000  2919.000000  2919.000000   \n",
       "mean     57.137718    69.088386   10168.114080     6.089072     5.564577   \n",
       "std      42.517628    21.317898    7886.996359     1.409947     1.113131   \n",
       "min      20.000000    21.000000    1300.000000     1.000000     1.000000   \n",
       "25%      20.000000    60.000000    7478.000000     5.000000     5.000000   \n",
       "50%      50.000000    68.000000    9453.000000     6.000000     5.000000   \n",
       "75%      70.000000    78.000000   11570.000000     7.000000     6.000000   \n",
       "max     190.000000   313.000000  215245.000000    10.000000     9.000000   \n",
       "\n",
       "         YearBuilt  YearRemodAdd   MasVnrArea   BsmtFinSF1   BsmtFinSF2  \\\n",
       "count  2919.000000   2919.000000  2919.000000  2919.000000  2919.000000   \n",
       "mean   1971.312778   1984.264474   101.396026   441.398253    49.565262   \n",
       "std      30.291442     20.894344   178.854579   455.534750   169.179104   \n",
       "min    1872.000000   1950.000000     0.000000     0.000000     0.000000   \n",
       "25%    1953.500000   1965.000000     0.000000     0.000000     0.000000   \n",
       "50%    1973.000000   1993.000000     0.000000   368.500000     0.000000   \n",
       "75%    2001.000000   2004.000000   163.500000   733.000000     0.000000   \n",
       "max    2010.000000   2010.000000  1600.000000  5644.000000  1526.000000   \n",
       "\n",
       "               ...            SaleType_ConLw  SaleType_New  SaleType_Oth  \\\n",
       "count          ...               2919.000000   2919.000000   2919.000000   \n",
       "mean           ...                  0.002741      0.081877      0.002398   \n",
       "std            ...                  0.052289      0.274225      0.048920   \n",
       "min            ...                  0.000000      0.000000      0.000000   \n",
       "25%            ...                  0.000000      0.000000      0.000000   \n",
       "50%            ...                  0.000000      0.000000      0.000000   \n",
       "75%            ...                  0.000000      0.000000      0.000000   \n",
       "max            ...                  1.000000      1.000000      1.000000   \n",
       "\n",
       "       SaleType_WD  SaleCondition_Abnorml  SaleCondition_AdjLand  \\\n",
       "count  2919.000000            2919.000000            2919.000000   \n",
       "mean      0.865022               0.065091               0.004111   \n",
       "std       0.341758               0.246728               0.063996   \n",
       "min       0.000000               0.000000               0.000000   \n",
       "25%       1.000000               0.000000               0.000000   \n",
       "50%       1.000000               0.000000               0.000000   \n",
       "75%       1.000000               0.000000               0.000000   \n",
       "max       1.000000               1.000000               1.000000   \n",
       "\n",
       "       SaleCondition_Alloca  SaleCondition_Family  SaleCondition_Normal  \\\n",
       "count           2919.000000           2919.000000           2919.000000   \n",
       "mean               0.008222              0.015759              0.822885   \n",
       "std                0.090317              0.124562              0.381832   \n",
       "min                0.000000              0.000000              0.000000   \n",
       "25%                0.000000              0.000000              1.000000   \n",
       "50%                0.000000              0.000000              1.000000   \n",
       "75%                0.000000              0.000000              1.000000   \n",
       "max                1.000000              1.000000              1.000000   \n",
       "\n",
       "       SaleCondition_Partial  \n",
       "count            2919.000000  \n",
       "mean                0.083933  \n",
       "std                 0.277335  \n",
       "min                 0.000000  \n",
       "25%                 0.000000  \n",
       "50%                 0.000000  \n",
       "75%                 0.000000  \n",
       "max                 1.000000  \n",
       "\n",
       "[8 rows x 264 columns]"
      ]
     },
     "execution_count": 40,
     "metadata": {},
     "output_type": "execute_result"
    }
   ],
   "source": [
    "import numpy as np\n",
    "from sklearn.preprocessing import Imputer\n",
    "\n",
    "#Drop ID Column\n",
    "#Drop columns because not enough data= 'PoolQC','MiscFeature','Alley'\n",
    "#Drop columns because few distinct classes = Street, Condition2, RooftMatl, Heating, Utilities\n",
    "housedata_allx = housedata_allx.drop(['PoolQC','MiscFeature','Alley','Street','Condition2','RoofMatl','Heating','Utilities'], 1)\n",
    "\n",
    "#Convert MoSold to categorical\n",
    "housedata_allx[\"MoSold\"] = housedata_allx['MoSold'].astype(object)\n",
    "\n",
    "#Convert PoolArea to binary due to low # and low sqft variation \n",
    "housedata_allx[\"Pool\"] = np.where(housedata_allx['PoolArea'] > 0, 1, 0)\n",
    "housedata_allx = housedata_allx.drop('PoolArea',1)\n",
    "\n",
    "#Identify numeric features for imputation - for categorical there will simply be a class for \"NaN\"\n",
    "numeric_feats = housedata_allx.dtypes[housedata_allx.dtypes != \"object\"].index\n",
    "\n",
    "#Impute values for numerical features (using median value)\n",
    "imp = Imputer(missing_values='NaN', strategy='median', axis=0)\n",
    "imp.fit(housedata_allx[numeric_feats])\n",
    "housedata_allx[numeric_feats] = imp.transform(housedata_allx[numeric_feats])\n",
    "\n",
    "#Get dummies for categorical data\n",
    "housedata_allx = pd.get_dummies(housedata_allx)\n",
    "\n",
    "#Describe processed dataframe\n",
    "housedata_allx.describe(include='all')"
   ]
  },
  {
   "cell_type": "code",
   "execution_count": 102,
   "metadata": {
    "collapsed": false
   },
   "outputs": [],
   "source": [
    "#Partition dataset into Kaggle training & test sets\n",
    "x_full = housedata_allx[:housedata_train.shape[0]].values\n",
    "x_kaggle = housedata_allx[housedata_train.shape[0]:].values\n",
    "\n",
    "logy_full = housedata_train.SalePrice.values\n",
    "\n",
    "#Partition dataset into model training & test sets\n",
    "x_train, x_test, logy_train, logy_test = train_test_split(x_full, logy_full, test_size=0.33, random_state=42)\n",
    "\n",
    "#Normal scale house prices for ease of interpretation of model evaluation:\n",
    "y_full = np.exp(logy_full)\n",
    "y_train = np.exp(logy_train)\n",
    "y_test = np.exp(logy_test)"
   ]
  },
  {
   "cell_type": "markdown",
   "metadata": {},
   "source": [
    "### Predictive Models"
   ]
  },
  {
   "cell_type": "markdown",
   "metadata": {},
   "source": [
    "#### OLS Regression"
   ]
  },
  {
   "cell_type": "code",
   "execution_count": 43,
   "metadata": {
    "collapsed": false
   },
   "outputs": [
    {
     "name": "stdout",
     "output_type": "stream",
     "text": [
      "OLS Regression RMSE - Train:  21707.9905432\n",
      "OLS Regression RMSE - Test:  32746.0192024\n"
     ]
    }
   ],
   "source": [
    "from sklearn.linear_model import LinearRegression\n",
    "from sklearn.metrics import mean_squared_error\n",
    "from math import sqrt\n",
    "\n",
    "# Fit MLR on training set\n",
    "mlr = LinearRegression()\n",
    "mlr_house = mlr.fit(x_train, logy_train)\n",
    "\n",
    "# Prediction based on training & test sets\n",
    "mlr_house_pred_train = mlr_house.predict(x_train)\n",
    "mlr_house_pred_test = mlr_house.predict(x_test)\n",
    "\n",
    "#Convert back to saleprice for evaluation\n",
    "mlr_house_pred_train = np.exp(mlr_house_pred_train)\n",
    "mlr_house_pred_test = np.exp(mlr_house_pred_test)\n",
    "\n",
    "# Evaluate in and out of sample performance\n",
    "MSE_train = mean_squared_error(y_train, mlr_house_pred_train)\n",
    "RMSE_train = sqrt(MSE_train)\n",
    "\n",
    "MSE_test = mean_squared_error(y_test, mlr_house_pred_test)\n",
    "RMSE_test = sqrt(MSE_test)\n",
    "\n",
    "print 'OLS Regression RMSE - Train: ', RMSE_train\n",
    "print 'OLS Regression RMSE - Test: ', RMSE_test"
   ]
  },
  {
   "cell_type": "markdown",
   "metadata": {},
   "source": [
    "#### Ridge & Lasso Regression"
   ]
  },
  {
   "cell_type": "code",
   "execution_count": 46,
   "metadata": {
    "collapsed": false
   },
   "outputs": [
    {
     "name": "stderr",
     "output_type": "stream",
     "text": [
      "C:\\Users\\Dallas\\Anaconda2\\lib\\site-packages\\sklearn\\linear_model\\coordinate_descent.py:479: ConvergenceWarning: Objective did not converge. You might want to increase the number of iterations. Fitting data with very small alpha may cause precision problems.\n",
      "  ConvergenceWarning)\n"
     ]
    }
   ],
   "source": [
    "from sklearn.linear_model import Lasso\n",
    "from sklearn.linear_model import Ridge\n",
    "from sklearn.cross_validation import cross_val_score\n",
    "\n",
    "# Set range of values for alpha (regularization paramater)\n",
    "alphas = 10**np.linspace(10,-5,100)*0.5\n",
    "\n",
    "# Initialize regression models\n",
    "lasso = Lasso()\n",
    "ridge = Ridge()\n",
    "\n",
    "# Set number of cross-validation folds\n",
    "n_folds = 5\n",
    "\n",
    "# Create empty lists to store mean-squared errors and standard deviations for each alpha value\n",
    "lasso_scores = list()\n",
    "lasso_std = list()\n",
    "ridge_scores = list()\n",
    "ridge_std = list()\n",
    "# Fill lists with average mean-squared error for each cross validation\n",
    "for alpha in alphas:\n",
    "    lasso.alpha = alpha\n",
    "    ridge.alpha = alpha\n",
    "    lasso_score = cross_val_score(lasso, x_train, logy_train, cv=n_folds, scoring='neg_mean_squared_error')\n",
    "    ridge_score = cross_val_score(ridge, x_train, logy_train, cv=n_folds, scoring='neg_mean_squared_error')\n",
    "    lasso_scores.append(np.mean(lasso_score))\n",
    "    lasso_std.append(np.std(lasso_score))\n",
    "    ridge_scores.append(np.mean(ridge_score))\n",
    "    ridge_std.append(np.std(ridge_score))\n",
    "\n",
    "lasso_scores, lasso_std = np.array(lasso_scores)*-1, np.array(lasso_std)*-1\n",
    "ridge_scores, ridge_std = np.array(ridge_scores)*-1, np.array(ridge_std)*-1"
   ]
  },
  {
   "cell_type": "code",
   "execution_count": 47,
   "metadata": {
    "collapsed": false
   },
   "outputs": [
    {
     "data": {
      "text/plain": [
       "<matplotlib.text.Text at 0x110edcc0>"
      ]
     },
     "execution_count": 47,
     "metadata": {},
     "output_type": "execute_result"
    },
    {
     "data": {
      "image/png": "[encoded data removed]",
      "text/plain": [
       "<matplotlib.figure.Figure at 0xf502518>"
      ]
     },
     "metadata": {},
     "output_type": "display_data"
    }
   ],
   "source": [
    "plt.figure(figsize=(14,4))\n",
    "\n",
    "# Plot MSE vs. alpha for lasso regression\n",
    "plt.subplot(121)\n",
    "plt.semilogx(alphas, lasso_scores)\n",
    "lasso_stdError = lasso_std / np.sqrt(n_folds)\n",
    "plt.semilogx(alphas, lasso_scores + lasso_stdError, 'b--')\n",
    "plt.semilogx(alphas, lasso_scores - lasso_stdError, 'b--')\n",
    "plt.fill_between(alphas, lasso_scores + lasso_stdError, lasso_scores - lasso_stdError, alpha=0.2)\n",
    "plt.axhline(np.min(lasso_scores), linestyle='--', color='.5')\n",
    "plt.xlim([alphas[-1], alphas[0]])\n",
    "xlabel('Regularization Parameter (alpha/lambda)')\n",
    "ylabel('Mean Squared Error +/- Standard Error')\n",
    "title('Lasso Regression')\n",
    "\n",
    "# Plot MSE vs. alpha for ridge regression\n",
    "plt.subplot(122)\n",
    "plt.semilogx(alphas, ridge_scores)\n",
    "ridge_stdError = ridge_std / np.sqrt(n_folds)\n",
    "plt.semilogx(alphas, ridge_scores + ridge_stdError, 'b--')\n",
    "plt.semilogx(alphas, ridge_scores - ridge_stdError, 'b--')\n",
    "plt.fill_between(alphas, ridge_scores + ridge_stdError, ridge_scores - ridge_stdError, alpha=0.2)\n",
    "plt.axhline(np.min(ridge_scores), linestyle='--', color='.5')\n",
    "plt.xlim([alphas[-1], alphas[0]])\n",
    "xlabel('Regularization Parameter (alpha/lambda)')\n",
    "ylabel('Mean Squared Error +/- Standard Error')\n",
    "title('Ridge Regression')"
   ]
  },
  {
   "cell_type": "code",
   "execution_count": 48,
   "metadata": {
    "collapsed": false
   },
   "outputs": [
    {
     "name": "stdout",
     "output_type": "stream",
     "text": [
      "Best Lambdas\n",
      "Lasso Regression : 0.000660970574233\n",
      "Ridge Regression : 8.1487541731\n"
     ]
    }
   ],
   "source": [
    "lasso_alpha = alphas[np.argmin(lasso_scores)]\n",
    "ridge_alpha = alphas[np.argmin(ridge_scores)]\n",
    "print 'Best Lambdas'\n",
    "print 'Lasso Regression :', lasso_alpha\n",
    "print 'Ridge Regression :', ridge_alpha"
   ]
  },
  {
   "cell_type": "code",
   "execution_count": 52,
   "metadata": {
    "collapsed": false
   },
   "outputs": [
    {
     "name": "stdout",
     "output_type": "stream",
     "text": [
      "Lasso RMSE - Train:  24715.1666266\n",
      "Lasso RMSE - Test:  28119.2571359\n"
     ]
    }
   ],
   "source": [
    "# LASSO\n",
    "lasso_house = Lasso(alpha = lasso_alpha)\n",
    "#Fit on training set\n",
    "lasso_house.fit(x_train, logy_train)\n",
    "\n",
    "# Prediction based on training & test sets\n",
    "lasso_house_pred_train = lasso_house.predict(x_train)\n",
    "lasso_house_pred_test = lasso_house.predict(x_test)\n",
    "\n",
    "#Convert back to saleprice for evaluation\n",
    "lasso_house_pred_train = np.exp(lasso_house_pred_train)\n",
    "lasso_house_pred_test = np.exp(lasso_house_pred_test)\n",
    "\n",
    "# Evaluate in and out of sample performance\n",
    "lasso_MSE_train = mean_squared_error(y_train, lasso_house_pred_train)\n",
    "lasso_RMSE_train = sqrt(lasso_MSE_train)\n",
    "\n",
    "lasso_MSE_test = mean_squared_error(y_test, lasso_house_pred_test)\n",
    "lasso_RMSE_test = sqrt(lasso_MSE_test)\n",
    "\n",
    "print 'Lasso RMSE - Train: ', lasso_RMSE_train\n",
    "print 'Lasso RMSE - Test: ', lasso_RMSE_test"
   ]
  },
  {
   "cell_type": "code",
   "execution_count": 54,
   "metadata": {
    "collapsed": false,
    "scrolled": true
   },
   "outputs": [
    {
     "name": "stdout",
     "output_type": "stream",
     "text": [
      "Ridge RMSE - Train:  23358.1166497\n",
      "Ridge RMSE - Test:  28463.9676107\n"
     ]
    }
   ],
   "source": [
    "# RIDGE\n",
    "ridge_house = Ridge(alpha = ridge_alpha)\n",
    "#Fit on training set\n",
    "ridge_house.fit(x_train, logy_train)\n",
    "\n",
    "# Prediction based on training & test sets\n",
    "ridge_house_pred_train = ridge_house.predict(x_train)\n",
    "ridge_house_pred_test = ridge_house.predict(x_test)\n",
    "\n",
    "#Convert back to saleprice for evaluation\n",
    "ridge_house_pred_train = np.exp(ridge_house_pred_train)\n",
    "ridge_house_pred_test = np.exp(ridge_house_pred_test)\n",
    "\n",
    "# Evaluate in and out of sample performance\n",
    "ridge_MSE_train = mean_squared_error(y_train, ridge_house_pred_train)\n",
    "ridge_RMSE_train = sqrt(ridge_MSE_train)\n",
    "\n",
    "ridge_MSE_test = mean_squared_error(y_test, ridge_house_pred_test)\n",
    "ridge_RMSE_test = sqrt(ridge_MSE_test)\n",
    "\n",
    "print 'Ridge RMSE - Train: ', ridge_RMSE_train\n",
    "print 'Ridge RMSE - Test: ', ridge_RMSE_test"
   ]
  },
  {
   "cell_type": "markdown",
   "metadata": {},
   "source": [
    "#### Multilayer Perceptron"
   ]
  },
  {
   "cell_type": "code",
   "execution_count": 63,
   "metadata": {
    "collapsed": false
   },
   "outputs": [
    {
     "name": "stdout",
     "output_type": "stream",
     "text": [
      "Multilayer Perceptron RMSE - Train:  110.99376413\n",
      "Multilayer Perceptron RMSE - Test:  34671.1697386\n"
     ]
    }
   ],
   "source": [
    "#Define model parameters\n",
    "mlp_house = MLPRegressor(activation = 'relu', solver = 'lbfgs', learning_rate='constant',\\\n",
    "                         random_state=42, learning_rate_init = 0.001,hidden_layer_sizes = (200,))\n",
    "\n",
    "#Scale Data\n",
    "scaler = StandardScaler()  \n",
    "scaler.fit(x_train)  \n",
    "x_train_scale = scaler.transform(x_train)\n",
    "x_test_scale = scaler.transform(x_test) \n",
    "\n",
    "#Note - standard price use to train model as logy had a poor RMSE.\n",
    "mlp_house.fit(x_train_scale, y_train)\n",
    "\n",
    "# Prediction based on training & test sets\n",
    "mlp_house_pred_train = mlp_house.predict(x_train_scale)\n",
    "mlp_house_pred_test = mlp_house.predict(x_test_scale)\n",
    "\n",
    "# Evaluate in and out of sample performance\n",
    "mlp_MSE_train = mean_squared_error(y_train, mlp_house_pred_train)\n",
    "mlp_RMSE_train = sqrt(mlp_MSE_train)\n",
    "\n",
    "mlp_MSE_test = mean_squared_error(y_test, mlp_house_pred_test)\n",
    "mlp_RMSE_test = sqrt(mlp_MSE_test)\n",
    "\n",
    "print 'Multilayer Perceptron RMSE - Train: ', mlp_RMSE_train\n",
    "print 'Multilayer Perceptron RMSE - Test: ', mlp_RMSE_test"
   ]
  },
  {
   "cell_type": "code",
   "execution_count": 66,
   "metadata": {
    "collapsed": false
   },
   "outputs": [
    {
     "data": {
      "text/html": [
       "<iframe id=\"igraph\" scrolling=\"no\" style=\"border:none;\" seamless=\"seamless\" src=\"https://plot.ly/~dallasgriffin/2.embed\" height=\"525px\" width=\"100%\"></iframe>"
      ],
      "text/plain": [
       "<plotly.tools.PlotlyDisplay object>"
      ]
     },
     "execution_count": 66,
     "metadata": {},
     "output_type": "execute_result"
    }
   ],
   "source": [
    "import plotly\n",
    "import plotly.plotly as py\n",
    "import plotly.graph_objs as go\n",
    "plotly.tools.set_credentials_file(username='dallasgriffin', api_key='st4uv9sosb')\n",
    "\n",
    "# Create a trace\n",
    "trace1 = go.Scatter(\n",
    "    x = mlp_house_pred_train,\n",
    "    y = y_train,\n",
    "    mode = 'markers',\n",
    "    name='Training Data'\n",
    ")\n",
    "trace2 = go.Scatter(\n",
    "    x = mlp_house_pred_test,\n",
    "    y = y_test,\n",
    "    mode = 'markers',\n",
    "    name='Testing Data'\n",
    ")\n",
    "data = [trace1, trace2]\n",
    "\n",
    "layout = go.Layout(\n",
    "    title='Multilayer Perceptron Residual Plot',\n",
    "    hovermode=\"closest\",\n",
    "    xaxis=dict(\n",
    "        title='Predicted Home Price',\n",
    "        titlefont=dict(\n",
    "            family='Courier New, monospace',\n",
    "            size=18,\n",
    "            color='#7f7f7f'\n",
    "        )\n",
    "    ),\n",
    "    yaxis=dict(\n",
    "        title='Actual Home Price',\n",
    "        titlefont=dict(\n",
    "            family='Courier New, monospace',\n",
    "            size=18,\n",
    "            color='#7f7f7f'\n",
    "        )\n",
    "    )\n",
    ")\n",
    "\n",
    "fig = go.Figure(data=data, layout=layout)\n",
    "# Plot and embed in ipython notebook!\n",
    "py.iplot(fig, filename='kaggle-residplot')"
   ]
  },
  {
   "cell_type": "markdown",
   "metadata": {},
   "source": [
    "#### Ensemble Methods - Gradient Boosting Regression"
   ]
  },
  {
   "cell_type": "code",
   "execution_count": 80,
   "metadata": {
    "collapsed": false
   },
   "outputs": [
    {
     "name": "stdout",
     "output_type": "stream",
     "text": [
      "Gradient Boosting Regression RMSE - Train:  1230.26354214\n",
      "Gradient Boosting Regression RMSE - Test:  29673.4217137\n"
     ]
    }
   ],
   "source": [
    "from sklearn.ensemble import GradientBoostingRegressor\n",
    "\n",
    "gbr_house = GradientBoostingRegressor(n_estimators = 10000, max_depth = 4,learning_rate = 0.01, max_features = 'sqrt', random_state = 42)\n",
    "\n",
    "gbr_house.fit(x_train, logy_train)\n",
    "\n",
    "# Prediction based on training & test sets\n",
    "gbr_house_pred_train = gbr_house.predict(x_train)\n",
    "gbr_house_pred_test = gbr_house.predict(x_test)\n",
    "\n",
    "#Convert back to saleprice for evaluation\n",
    "gbr_house_pred_train = np.exp(gbr_house_pred_train)\n",
    "gbr_house_pred_test = np.exp(gbr_house_pred_test)\n",
    "\n",
    "# Evaluate in and out of sample performance\n",
    "gbr_MSE_train = mean_squared_error(y_train, gbr_house_pred_train)\n",
    "gbr_RMSE_train = sqrt(gbr_MSE_train)\n",
    "\n",
    "gbr_MSE_test = mean_squared_error(y_test, gbr_house_pred_test)\n",
    "gbr_RMSE_test = sqrt(gbr_MSE_test)\n",
    "\n",
    "print 'Gradient Boosting Regression RMSE - Train: ', gbr_RMSE_train\n",
    "print 'Gradient Boosting Regression RMSE - Test: ', gbr_RMSE_test"
   ]
  },
  {
   "cell_type": "code",
   "execution_count": 75,
   "metadata": {
    "collapsed": false
   },
   "outputs": [
    {
     "data": {
      "text/html": [
       "<iframe id=\"igraph\" scrolling=\"no\" style=\"border:none;\" seamless=\"seamless\" src=\"https://plot.ly/~dallasgriffin/4.embed\" height=\"525px\" width=\"100%\"></iframe>"
      ],
      "text/plain": [
       "<plotly.tools.PlotlyDisplay object>"
      ]
     },
     "execution_count": 75,
     "metadata": {},
     "output_type": "execute_result"
    }
   ],
   "source": [
    "# Create a trace\n",
    "trace1 = go.Scatter(\n",
    "    x = gbr_house_pred_train,\n",
    "    y = y_train,\n",
    "    mode = 'markers',\n",
    "    name='Training Data'\n",
    ")\n",
    "trace2 = go.Scatter(\n",
    "    x = gbr_house_pred_test,\n",
    "    y = y_test,\n",
    "    mode = 'markers',\n",
    "    name='Testing Data'\n",
    ")\n",
    "data = [trace1, trace2]\n",
    "#Define Layout\n",
    "layout = go.Layout(\n",
    "    title='Gradient Boosting Regression Residual Plot',\n",
    "    hovermode=\"closest\",\n",
    "    xaxis=dict(\n",
    "        title='Predicted Home Price',\n",
    "        titlefont=dict(\n",
    "            family='Courier New, monospace',\n",
    "            size=18,\n",
    "            color='#7f7f7f'\n",
    "        )\n",
    "    ),\n",
    "    yaxis=dict(\n",
    "        title='Actual Home Price',\n",
    "        titlefont=dict(\n",
    "            family='Courier New, monospace',\n",
    "            size=18,\n",
    "            color='#7f7f7f'\n",
    "        )\n",
    "    )\n",
    ")\n",
    "\n",
    "fig = go.Figure(data=data, layout=layout)\n",
    "# Plot and embed in ipython notebook!\n",
    "py.iplot(fig, filename='kaggle-residplot-gb')"
   ]
  },
  {
   "cell_type": "code",
   "execution_count": 85,
   "metadata": {
    "collapsed": false
   },
   "outputs": [
    {
     "data": {
      "image/png": "[encoded data removed]",
      "text/plain": [
       "<matplotlib.figure.Figure at 0x19eed358>"
      ]
     },
     "metadata": {},
     "output_type": "display_data"
    }
   ],
   "source": [
    "feature_importance = gbr_house.feature_importances_\n",
    "# make importances relative to max importance\n",
    "feature_importance = 100.0 * (feature_importance / feature_importance.max())\n",
    "sorted_idx = np.argsort(feature_importance)[-20:]\n",
    "pos = np.arange(sorted_idx.shape[0]) + .5\n",
    "\n",
    "plt.barh(pos, feature_importance[sorted_idx], align='center')\n",
    "plt.yticks(pos, housedata_allx.columns.values[sorted_idx])\n",
    "plt.xlabel('Relative Importance')\n",
    "plt.title('20 Most Important Features - GBR')\n",
    "plt.show()"
   ]
  },
  {
   "cell_type": "markdown",
   "metadata": {},
   "source": [
    "#### Final Model - Aggregate Predictions"
   ]
  },
  {
   "cell_type": "code",
   "execution_count": 101,
   "metadata": {
    "collapsed": false
   },
   "outputs": [
    {
     "name": "stdout",
     "output_type": "stream",
     "text": [
      "Aggregate Model RMSE - Train:  12584.4195459\n",
      "Aggregate Model RMSE - Test:  27763.876791\n"
     ]
    }
   ],
   "source": [
    "#Final model is the aggregate of the best performing regression model (LASSO) and ensemble model (Gradient Boosted Trees)\n",
    "agg_pred_train = (lasso_house_pred_train + gbr_house_pred_train)/2\n",
    "agg_pred_test = (lasso_house_pred_test + gbr_house_pred_test)/2\n",
    "\n",
    "# Evaluate in and out of sample performance\n",
    "agg_MSE_train = mean_squared_error(y_train, agg_pred_train)\n",
    "agg_RMSE_train = sqrt(agg_MSE_train)\n",
    "\n",
    "agg_MSE_test = mean_squared_error(y_test, agg_pred_test)\n",
    "agg_RMSE_test = sqrt(agg_MSE_test)\n",
    "\n",
    "print 'Aggregate Model RMSE - Train: ', agg_RMSE_train\n",
    "print 'Aggregate Model RMSE - Test: ', agg_RMSE_test"
   ]
  },
  {
   "cell_type": "markdown",
   "metadata": {
    "collapsed": true
   },
   "source": [
    "### Kaggle Prediction Generation"
   ]
  },
  {
   "cell_type": "code",
   "execution_count": 103,
   "metadata": {
    "collapsed": false
   },
   "outputs": [
    {
     "data": {
      "text/plain": [
       "array([ 118986.37549689,  150374.74880174,  180608.99168327, ...,\n",
       "        159259.39710307,  116919.44878437,  225168.09161578])"
      ]
     },
     "execution_count": 103,
     "metadata": {},
     "output_type": "execute_result"
    }
   ],
   "source": [
    "#Re-fit models on full training dataset\n",
    "lasso_house.fit(x_full, logy_full)\n",
    "gbr_house.fit(x_full, logy_full)\n",
    "\n",
    "#Generate log(predictions) for each models\n",
    "kaggle_pred_lasso = lasso_house.predict(x_kaggle)\n",
    "kaggle_pred_gbr = gbr_house.predict(x_kaggle)\n",
    "\n",
    "#Convert to saleprice\n",
    "kaggle_pred_lasso = np.exp(kaggle_pred_lasso)\n",
    "kaggle_pred_gbr = np.exp(kaggle_pred_gbr)\n",
    "\n",
    "#Aggregate underlying model predictions\n",
    "agg_pred_kaggle = (kaggle_pred_lasso + kaggle_pred_gbr)/2\n",
    "\n",
    "#Output predictions to XLS for uploading\n",
    "kaggle_pred_pd = pd.DataFrame(data=agg_pred_kaggle,index=housedata_test.index, columns = ['SalePrice'])\n",
    "kaggle_pred_pd.to_csv"
   ]
  },
  {
   "cell_type": "code",
   "execution_count": 109,
   "metadata": {
    "collapsed": false
   },
   "outputs": [],
   "source": [
    "kaggle_pred_pd = pd.DataFrame(data=agg_pred_kaggle,index=housedata_test.index, columns = ['SalePrice'])\n",
    "kaggle_pred_pd.to_csv('KaggleHousePricePredictions.csv')"
   ]
  },
  {
   "cell_type": "code",
   "execution_count": null,
   "metadata": {
    "collapsed": true
   },
   "outputs": [],
   "source": []
  }
 ],
 "metadata": {
  "kernelspec": {
   "display_name": "Python [Root]",
   "language": "python",
   "name": "Python [Root]"
  },
  "language_info": {
   "codemirror_mode": {
    "name": "ipython",
    "version": 2
   },
   "file_extension": ".py",
   "mimetype": "text/x-python",
   "name": "python",
   "nbconvert_exporter": "python",
   "pygments_lexer": "ipython2",
   "version": "2.7.12"
  }
 },
 "nbformat": 4,
 "nbformat_minor": 0
}
