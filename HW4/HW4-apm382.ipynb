{
 "cells": [
  {
   "cell_type": "markdown",
   "metadata": {},
   "source": [
    "## Brooks Beckelman, Estevan Gonzales"
   ]
  },
  {
   "cell_type": "markdown",
   "metadata": {},
   "source": [
    "# <p style=\"text-align: center;\">MIS 382N: Advanced Predictive Modeling</p>\n",
    "# <p style=\"text-align: center;\">Assignment 4</p>\n",
    "## <p style=\"text-align: center;\">Total points: 50 </p>\n",
    "## <p style=\"text-align: center;\">Due: Mon, November 14</p>\n",
    "\n",
    "\n",
    "\n",
    "Your homework should be written in a **Jupyter notebook**. Please submit **only one** ipynb file from each group, and include the names of all the group members. Also, please make sure your code runs and the graphics (and anything else) are displayed in your notebook before submitting."
   ]
  },
  {
   "cell_type": "code",
   "execution_count": 1,
   "metadata": {
    "collapsed": false
   },
   "outputs": [
    {
     "name": "stdout",
     "output_type": "stream",
     "text": [
      "Populating the interactive namespace from numpy and matplotlib\n"
     ]
    }
   ],
   "source": [
    "import pandas as pd\n",
    "% pylab inline\n",
    "import seaborn as sns\n",
    "import numpy as np"
   ]
  },
  {
   "cell_type": "markdown",
   "metadata": {},
   "source": [
    "# Problem 1 - MNIST (15 pts)\n",
    "In this question you classify hand-written digits. We want to use MNIST data set and try Multi-layer Perceptron (MLP) classifier using sklearn package in Python. In order to simplify the problem, we classify digits into 8 classes (digits 0,1,2,...7) and ignore records for digits 8 and 9.  Use the code below to access the data set and extract data with labels 0 to 7, and split the data set into train set and test set.\n",
    "\n",
    "1. Fit a Multilayer Perceptron Classifier using the standard options on sklearn's MLP on train data. Report the root MSE for both train and test data. (5 pts)\n",
    "\n",
    "    Use these parameters for your model: \n",
    "                    {hidden_layer_sizes=(50,), max_iter=10, alpha=1e-4,\n",
    "                    solver='sgd', verbose=10, tol=1e-4, random_state=42,\n",
    "                    learning_rate_init=.1}\n",
    "                    \n",
    "2. To find better parameters for the MLP Classifier model, try an exhaustive search over all parameters of the data. Use sklearn's GridSearchCV to find the best subset of parameters from the set:\n",
    "                    { alpha = [0.1,0.01,0.001], activation : ['logistic', 'relu'] }\n",
    "    which parameters resulted in a more accurate model? Can you explain why? (5 pts)\n",
    "\n",
    "3. Select 5 misclassified images and display them. (5 pts)"
   ]
  },
  {
   "cell_type": "code",
   "execution_count": 4,
   "metadata": {
    "collapsed": false
   },
   "outputs": [],
   "source": [
    "import matplotlib.pyplot as plt\n",
    "from sklearn.datasets import fetch_mldata\n",
    "from sklearn.model_selection import (train_test_split,KFold)\n",
    "from sklearn.neural_network import MLPClassifier\n",
    "from sklearn.grid_search import GridSearchCV\n",
    "\n",
    "mnist = fetch_mldata(\"MNIST original\")\n",
    "# rescale the data, use the traditional train/test split\n",
    "X = (mnist.data / 255.)[:48200]\n",
    "y = mnist.target[:48200]\n",
    "\n",
    "X_train, X_test, y_train, y_test = train_test_split(X,y,test_size = 0.1, random_state=42)"
   ]
  },
  {
   "cell_type": "markdown",
   "metadata": {},
   "source": [
    "## 1. MLP with Standard Options"
   ]
  },
  {
   "cell_type": "code",
   "execution_count": 5,
   "metadata": {
    "collapsed": false
   },
   "outputs": [
    {
     "name": "stdout",
     "output_type": "stream",
     "text": [
      "Iteration 1, loss = 0.24522635\n",
      "Iteration 2, loss = 0.10589741\n",
      "Iteration 3, loss = 0.07488529\n",
      "Iteration 4, loss = 0.05895084\n",
      "Iteration 5, loss = 0.04782934\n",
      "Iteration 6, loss = 0.03945315\n",
      "Iteration 7, loss = 0.03320940\n",
      "Iteration 8, loss = 0.02872414\n",
      "Iteration 9, loss = 0.02451143\n",
      "Iteration 10, loss = 0.02132893\n"
     ]
    }
   ],
   "source": [
    "# Fit model\n",
    "mlp = MLPClassifier(hidden_layer_sizes=(50,), max_iter=10, alpha=1e-4, solver='sgd', verbose=10, tol=1e-4, random_state=42,\n",
    "                   learning_rate_init=.1)\n",
    "mlp.fit(X_train, y_train)\n",
    "\n",
    "# Get score\n",
    "mlpTrain_score = mlp.score(X_train, y_train)\n",
    "mlpTest_score = mlp.score(X_test, y_test)"
   ]
  },
  {
   "cell_type": "code",
   "execution_count": 6,
   "metadata": {
    "collapsed": false
   },
   "outputs": [
    {
     "name": "stdout",
     "output_type": "stream",
     "text": [
      "Score (Mean Accuracy):\n",
      "\tTraining (In-Sample)\t:\t0.995620101429\n",
      "\tTest (Out-of-Sample)\t:\t0.980290456432\n"
     ]
    }
   ],
   "source": [
    "print 'Score (Mean Accuracy):'\n",
    "print '\\tTraining (In-Sample)\\t:\\t{}'.format(mlpTrain_score)\n",
    "print '\\tTest (Out-of-Sample)\\t:\\t{}'.format(mlpTest_score)"
   ]
  },
  {
   "cell_type": "markdown",
   "metadata": {},
   "source": [
    "## 2. Find Optimal Parameters"
   ]
  },
  {
   "cell_type": "code",
   "execution_count": 7,
   "metadata": {
    "collapsed": false
   },
   "outputs": [
    {
     "name": "stdout",
     "output_type": "stream",
     "text": [
      "Iteration 1, loss = 0.63780467\n",
      "Iteration 2, loss = 0.26993412\n",
      "Iteration 3, loss = 0.24531053\n",
      "Iteration 4, loss = 0.23249797\n",
      "Iteration 5, loss = 0.22329679\n",
      "Iteration 6, loss = 0.21626242\n",
      "Iteration 7, loss = 0.21060256\n",
      "Iteration 8, loss = 0.20636226\n",
      "Iteration 9, loss = 0.20275525\n",
      "Iteration 10, loss = 0.19956171\n",
      "Iteration 1, loss = 0.63829233\n",
      "Iteration 2, loss = 0.27025643\n",
      "Iteration 3, loss = 0.24654183\n",
      "Iteration 4, loss = 0.23410992\n",
      "Iteration 5, loss = 0.22552123\n",
      "Iteration 6, loss = 0.21804481\n",
      "Iteration 7, loss = 0.21292405\n",
      "Iteration 8, loss = 0.20858724\n",
      "Iteration 9, loss = 0.20470124\n",
      "Iteration 10, loss = 0.20241500\n",
      "Iteration 1, loss = 0.63081829\n",
      "Iteration 2, loss = 0.26626237\n",
      "Iteration 3, loss = 0.24312374\n",
      "Iteration 4, loss = 0.22986850\n",
      "Iteration 5, loss = 0.22091677\n",
      "Iteration 6, loss = 0.21371822\n",
      "Iteration 7, loss = 0.20887361\n",
      "Iteration 8, loss = 0.20509427\n",
      "Iteration 9, loss = 0.20130855\n",
      "Iteration 10, loss = 0.19839854\n",
      "Iteration 1, loss = 0.60657526\n",
      "Iteration 2, loss = 0.22005063\n",
      "Iteration 3, loss = 0.18682238\n",
      "Iteration 4, loss = 0.16716691\n",
      "Iteration 5, loss = 0.15196110\n",
      "Iteration 6, loss = 0.13962892\n",
      "Iteration 7, loss = 0.12912051\n",
      "Iteration 8, loss = 0.12056776\n",
      "Iteration 9, loss = 0.11294147\n",
      "Iteration 10, loss = 0.10638375\n",
      "Iteration 1, loss = 0.60690770\n",
      "Iteration 2, loss = 0.22004360\n",
      "Iteration 3, loss = 0.18788125\n",
      "Iteration 4, loss = 0.16889224\n",
      "Iteration 5, loss = 0.15457528\n",
      "Iteration 6, loss = 0.14202926\n",
      "Iteration 7, loss = 0.13243389\n",
      "Iteration 8, loss = 0.12403781\n",
      "Iteration 9, loss = 0.11650343\n",
      "Iteration 10, loss = 0.11071412\n",
      "Iteration 1, loss = 0.59941831\n",
      "Iteration 2, loss = 0.21620908\n",
      "Iteration 3, loss = 0.18488508\n",
      "Iteration 4, loss = 0.16496688\n",
      "Iteration 5, loss = 0.15008771\n",
      "Iteration 6, loss = 0.13782905\n",
      "Iteration 7, loss = 0.12843622\n",
      "Iteration 8, loss = 0.12048553\n",
      "Iteration 9, loss = 0.11278761\n",
      "Iteration 10, loss = 0.10651958\n",
      "Iteration 1, loss = 0.60334773\n",
      "Iteration 2, loss = 0.21464833\n",
      "Iteration 3, loss = 0.18020430\n",
      "Iteration 4, loss = 0.15948147\n",
      "Iteration 5, loss = 0.14328362\n",
      "Iteration 6, loss = 0.13001486\n",
      "Iteration 7, loss = 0.11860901\n",
      "Iteration 8, loss = 0.10920139\n",
      "Iteration 9, loss = 0.10075090\n",
      "Iteration 10, loss = 0.09343127\n",
      "Iteration 1, loss = 0.60366405\n",
      "Iteration 2, loss = 0.21460377\n",
      "Iteration 3, loss = 0.18124167\n",
      "Iteration 4, loss = 0.16122386\n",
      "Iteration 5, loss = 0.14594845\n",
      "Iteration 6, loss = 0.13250119\n",
      "Iteration 7, loss = 0.12205182\n",
      "Iteration 8, loss = 0.11283304\n",
      "Iteration 9, loss = 0.10451663\n",
      "Iteration 10, loss = 0.09794638\n",
      "Iteration 1, loss = 0.59617305\n",
      "Iteration 2, loss = 0.21078484\n",
      "Iteration 3, loss = 0.17828764\n",
      "Iteration 4, loss = 0.15732605\n",
      "Iteration 5, loss = 0.14145815\n",
      "Iteration 6, loss = 0.12829625\n",
      "Iteration 7, loss = 0.11803868\n",
      "Iteration 8, loss = 0.10926194\n",
      "Iteration 9, loss = 0.10074601\n",
      "Iteration 10, loss = 0.09373623\n",
      "Iteration 1, loss = 0.32769650\n",
      "Iteration 2, loss = 0.16996961\n",
      "Iteration 3, loss = 0.13890580\n",
      "Iteration 4, loss = 0.12263480\n",
      "Iteration 5, loss = 0.11061077\n",
      "Iteration 6, loss = 0.10305921\n",
      "Iteration 7, loss = 0.09770082\n",
      "Iteration 8, loss = 0.09333071\n",
      "Iteration 9, loss = 0.08909739\n",
      "Iteration 10, loss = 0.08707868\n",
      "Iteration 1, loss = 0.33041193\n",
      "Iteration 2, loss = 0.17399560\n",
      "Iteration 3, loss = 0.14429026\n",
      "Iteration 4, loss = 0.12604185\n",
      "Iteration 5, loss = 0.11450893\n",
      "Iteration 6, loss = 0.10691431\n",
      "Iteration 7, loss = 0.09997780\n",
      "Iteration 8, loss = 0.09515561\n",
      "Iteration 9, loss = 0.09154212\n",
      "Iteration 10, loss = 0.08872786\n",
      "Iteration 1, loss = 0.32565014\n",
      "Iteration 2, loss = 0.17308850\n",
      "Iteration 3, loss = 0.13977370\n",
      "Iteration 4, loss = 0.12101251\n",
      "Iteration 5, loss = 0.11011633\n",
      "Iteration 6, loss = 0.10172117\n",
      "Iteration 7, loss = 0.09610960\n",
      "Iteration 8, loss = 0.09152365\n",
      "Iteration 9, loss = 0.08826406\n",
      "Iteration 10, loss = 0.08494918\n",
      "Iteration 1, loss = 0.29506389\n",
      "Iteration 2, loss = 0.13183500\n",
      "Iteration 3, loss = 0.09719699\n",
      "Iteration 4, loss = 0.07892097\n",
      "Iteration 5, loss = 0.06479694\n",
      "Iteration 6, loss = 0.05513066\n",
      "Iteration 7, loss = 0.04824435\n",
      "Iteration 8, loss = 0.04313394\n",
      "Iteration 9, loss = 0.03800487\n",
      "Iteration 10, loss = 0.03420222\n",
      "Iteration 1, loss = 0.29803052\n",
      "Iteration 2, loss = 0.13659130\n",
      "Iteration 3, loss = 0.10373084\n",
      "Iteration 4, loss = 0.08280233\n",
      "Iteration 5, loss = 0.06962321\n",
      "Iteration 6, loss = 0.05968517\n",
      "Iteration 7, loss = 0.05172204\n",
      "Iteration 8, loss = 0.04527722\n",
      "Iteration 9, loss = 0.04006127\n",
      "Iteration 10, loss = 0.03624973\n",
      "Iteration 1, loss = 0.29314425\n",
      "Iteration 2, loss = 0.13566467\n",
      "Iteration 3, loss = 0.09934579\n",
      "Iteration 4, loss = 0.07841785\n",
      "Iteration 5, loss = 0.06605170\n",
      "Iteration 6, loss = 0.05505128\n",
      "Iteration 7, loss = 0.04789957\n",
      "Iteration 8, loss = 0.04135617\n",
      "Iteration 9, loss = 0.03697052\n",
      "Iteration 10, loss = 0.03309285\n",
      "Iteration 1, loss = 0.29155400\n",
      "Iteration 2, loss = 0.12737423\n",
      "Iteration 3, loss = 0.09213668\n",
      "Iteration 4, loss = 0.07330185\n",
      "Iteration 5, loss = 0.05840143\n",
      "Iteration 6, loss = 0.04824502\n",
      "Iteration 7, loss = 0.04122594\n",
      "Iteration 8, loss = 0.03527789\n",
      "Iteration 9, loss = 0.02975104\n",
      "Iteration 10, loss = 0.02537422\n",
      "Iteration 1, loss = 0.29462037\n",
      "Iteration 2, loss = 0.13244832\n",
      "Iteration 3, loss = 0.09886417\n",
      "Iteration 4, loss = 0.07707905\n",
      "Iteration 5, loss = 0.06322731\n",
      "Iteration 6, loss = 0.05288853\n",
      "Iteration 7, loss = 0.04449314\n",
      "Iteration 8, loss = 0.03735601\n",
      "Iteration 9, loss = 0.03142793\n",
      "Iteration 10, loss = 0.02733370\n",
      "Iteration 1, loss = 0.28980615\n",
      "Iteration 2, loss = 0.13125853\n",
      "Iteration 3, loss = 0.09404097\n",
      "Iteration 4, loss = 0.07291184\n",
      "Iteration 5, loss = 0.05977777\n",
      "Iteration 6, loss = 0.04829043\n",
      "Iteration 7, loss = 0.04096340\n",
      "Iteration 8, loss = 0.03387250\n",
      "Iteration 9, loss = 0.02931666\n",
      "Iteration 10, loss = 0.02473635\n",
      "Iteration 1, loss = 0.24919265\n",
      "Iteration 2, loss = 0.11119727\n",
      "Iteration 3, loss = 0.08101890\n",
      "Iteration 4, loss = 0.06582402\n",
      "Iteration 5, loss = 0.05551116\n",
      "Iteration 6, loss = 0.04768295\n",
      "Iteration 7, loss = 0.04212951\n",
      "Iteration 8, loss = 0.03863674\n",
      "Iteration 9, loss = 0.03435591\n",
      "Iteration 10, loss = 0.03156028\n"
     ]
    },
    {
     "data": {
      "text/plain": [
       "GridSearchCV(cv=None, error_score='raise',\n",
       "       estimator=MLPClassifier(activation='relu', alpha=0.0001, batch_size='auto', beta_1=0.9,\n",
       "       beta_2=0.999, early_stopping=False, epsilon=1e-08,\n",
       "       hidden_layer_sizes=(50,), learning_rate='constant',\n",
       "       learning_rate_init=0.1, max_iter=10, momentum=0.9,\n",
       "       nesterovs_momentum=True, power_t=0.5, random_state=42, shuffle=True,\n",
       "       solver='sgd', tol=0.0001, validation_fraction=0.1, verbose=10,\n",
       "       warm_start=False),\n",
       "       fit_params={}, iid=True, n_jobs=1,\n",
       "       param_grid={'alpha': [0.1, 0.01, 0.001], 'activation': ['logistic', 'relu']},\n",
       "       pre_dispatch='2*n_jobs', refit=True, scoring=None, verbose=0)"
      ]
     },
     "execution_count": 7,
     "metadata": {},
     "output_type": "execute_result"
    }
   ],
   "source": [
    "# Define parameters to search over\n",
    "param_grid = {'alpha' : [0.1,0.01,0.001], 'activation' : ['logistic', 'relu']}\n",
    "\n",
    "# Perform exhaustive search over parameters\n",
    "gridSearch = GridSearchCV(mlp, param_grid)\n",
    "gridSearch.fit(X_train, y_train)"
   ]
  },
  {
   "cell_type": "code",
   "execution_count": 8,
   "metadata": {
    "collapsed": false
   },
   "outputs": [
    {
     "name": "stdout",
     "output_type": "stream",
     "text": [
      "Best Parameters:\n",
      "\tBest Alpha\t:\t0.01\n",
      "\tBest Activation\t:\trelu\n",
      "\n",
      "Associated Score\t:\t0.976947902259\n"
     ]
    }
   ],
   "source": [
    "print 'Best Parameters:'\n",
    "print '\\tBest Alpha\\t:\\t{}'.format(gridSearch.best_params_['alpha'])\n",
    "print '\\tBest Activation\\t:\\t{}'.format(gridSearch.best_params_['activation'])\n",
    "print\n",
    "print 'Associated Score\\t:\\t{}'.format(gridSearch.best_score_)"
   ]
  },
  {
   "cell_type": "markdown",
   "metadata": {},
   "source": [
    "Out of the parameters included in the search, the combination with the best accuracy is alpha=0.01 and activation='relu'. Alpha represents the L2 penalty (regularization term). The larger the alpha, the larger the penalty on the cost function and the more substantial the regularization. Activation represents the activation function for the hidden layer. The activation function determines the output of the layer given the inputs. The two options that we considered are logistic and relu. Logistic represents the logistic sigmoid function: $f(x) = \\frac{1}{1+exp(-x)}$. Relu represents the rectified linear unit function: $f(x) = max(0,x)$."
   ]
  },
  {
   "cell_type": "markdown",
   "metadata": {},
   "source": [
    "## 3. Misclassified Images"
   ]
  },
  {
   "cell_type": "code",
   "execution_count": 10,
   "metadata": {
    "collapsed": false
   },
   "outputs": [
    {
     "name": "stdout",
     "output_type": "stream",
     "text": [
      "Iteration 1, loss = 0.24919265\n",
      "Iteration 2, loss = 0.11119727\n",
      "Iteration 3, loss = 0.08101890\n",
      "Iteration 4, loss = 0.06582402\n",
      "Iteration 5, loss = 0.05551116\n",
      "Iteration 6, loss = 0.04768295\n",
      "Iteration 7, loss = 0.04212951\n",
      "Iteration 8, loss = 0.03863674\n",
      "Iteration 9, loss = 0.03435591\n",
      "Iteration 10, loss = 0.03156028\n"
     ]
    }
   ],
   "source": [
    "# Fit MLP classifier with optimal parameters\n",
    "MLP = MLPClassifier(hidden_layer_sizes=(50,), max_iter=10, alpha=gridSearch.best_params_['alpha'], \n",
    "                    activation=gridSearch.best_params_['activation'], solver='sgd', verbose=10, tol=1e-4, random_state=42, \n",
    "                    learning_rate_init=.1)\n",
    "MLP.fit(X_train, y_train)\n",
    "\n",
    "# Predict test set\n",
    "mlp_predTest = MLP.predict(X_test)"
   ]
  },
  {
   "cell_type": "code",
   "execution_count": 23,
   "metadata": {
    "collapsed": false
   },
   "outputs": [
    {
     "data": {
      "image/png": "[encoded data removed]",
      "text/plain": [
       "<matplotlib.figure.Figure at 0x184366d8>"
      ]
     },
     "metadata": {},
     "output_type": "display_data"
    }
   ],
   "source": [
    "# Find misclassified images in test set\n",
    "images = []\n",
    "correct = []\n",
    "wrong = []\n",
    "count = 0\n",
    "\n",
    "for i in range(len(y_test)):\n",
    "    if y_test[i] != mlp_predTest[i]:\n",
    "        images.append(X_test[i])\n",
    "        correct.append(y_test[i])\n",
    "        wrong.append(mlp_predTest[i])\n",
    "\n",
    "# Display misclassified images\n",
    "figure(figsize=(16,4))\n",
    "\n",
    "sub = 150\n",
    "for i in range(0,5):\n",
    "    sub += 1\n",
    "    subplot(sub)\n",
    "    plt.imshow(images[i].reshape(28,28), cmap='gray')\n",
    "    title('Predicted Number:{}\\nActual Number:{}'.format(wrong[i], correct[i]))"
   ]
  },
  {
   "cell_type": "markdown",
   "metadata": {
    "collapsed": true
   },
   "source": [
    "# Question 2: Regression Trees (10 points)\n",
    "\n",
    "In this question, we will be exploring the application of regression tree (RT) using sklearn package in Python. You will be using the same Hitters.csv dataset (available on Canvas) used in HW2 Q5 to predict a baseball player’s Salary using all the 16 performance variables. Use a random state of 42 and a test size of 1/3 to split the data into training and test.\n",
    "\n",
    "1. Build a regression using [DecisionTreeRegressor](http://scikit-learn.org/stable/modules/generated/sklearn.tree.DecisionTreeRegressor.html) with max_depth = 5. Report the mean squared errors on both training and test datasets. (4)\n",
    "2. Repeat Part-1 with max_depth = 2. (4)\n",
    "3. Briefly explain what you observe from these MSE values obtained by using maximum tree depths 5 and 2? Which tree is better and why? (2)"
   ]
  },
  {
   "cell_type": "code",
   "execution_count": 24,
   "metadata": {
    "collapsed": false
   },
   "outputs": [
    {
     "data": {
      "text/html": [
       "<div>\n",
       "<table border=\"1\" class=\"dataframe\">\n",
       "  <thead>\n",
       "    <tr style=\"text-align: right;\">\n",
       "      <th></th>\n",
       "      <th>AtBat</th>\n",
       "      <th>Hits</th>\n",
       "      <th>HmRun</th>\n",
       "      <th>Runs</th>\n",
       "      <th>RBI</th>\n",
       "      <th>Walks</th>\n",
       "      <th>Years</th>\n",
       "      <th>CAtBat</th>\n",
       "      <th>CHits</th>\n",
       "      <th>CHmRun</th>\n",
       "      <th>CRuns</th>\n",
       "      <th>CRBI</th>\n",
       "      <th>CWalks</th>\n",
       "      <th>PutOuts</th>\n",
       "      <th>Assists</th>\n",
       "      <th>Errors</th>\n",
       "      <th>Salary</th>\n",
       "    </tr>\n",
       "  </thead>\n",
       "  <tbody>\n",
       "    <tr>\n",
       "      <th>0</th>\n",
       "      <td>315</td>\n",
       "      <td>81</td>\n",
       "      <td>7</td>\n",
       "      <td>24</td>\n",
       "      <td>38</td>\n",
       "      <td>39</td>\n",
       "      <td>14</td>\n",
       "      <td>3449</td>\n",
       "      <td>835</td>\n",
       "      <td>69</td>\n",
       "      <td>321</td>\n",
       "      <td>414</td>\n",
       "      <td>375</td>\n",
       "      <td>632</td>\n",
       "      <td>43</td>\n",
       "      <td>10</td>\n",
       "      <td>475.0</td>\n",
       "    </tr>\n",
       "  </tbody>\n",
       "</table>\n",
       "</div>"
      ],
      "text/plain": [
       "   AtBat  Hits  HmRun  Runs  RBI  Walks  Years  CAtBat  CHits  CHmRun  CRuns  \\\n",
       "0    315    81      7    24   38     39     14    3449    835      69    321   \n",
       "\n",
       "   CRBI  CWalks  PutOuts  Assists  Errors  Salary  \n",
       "0   414     375      632       43      10   475.0  "
      ]
     },
     "execution_count": 24,
     "metadata": {},
     "output_type": "execute_result"
    }
   ],
   "source": [
    "hitters = pd.read_csv(\"Hitters.csv\")\n",
    "hitters.head(1)"
   ]
  },
  {
   "cell_type": "code",
   "execution_count": 25,
   "metadata": {
    "collapsed": false
   },
   "outputs": [],
   "source": [
    "from sklearn.tree import DecisionTreeRegressor\n",
    "from sklearn.model_selection import train_test_split\n",
    "from sklearn.metrics import mean_squared_error\n",
    "\n",
    "train, test = train_test_split(hitters, test_size=0.33, random_state=42)\n",
    "X_train = train.drop('Salary', axis=1)\n",
    "X_test = test.drop('Salary', axis=1)\n",
    "y_train = train['Salary']\n",
    "y_test = test['Salary']"
   ]
  },
  {
   "cell_type": "markdown",
   "metadata": {},
   "source": [
    "## 1. Max Depth = 5"
   ]
  },
  {
   "cell_type": "code",
   "execution_count": 26,
   "metadata": {
    "collapsed": false
   },
   "outputs": [],
   "source": [
    "# Fit model\n",
    "dtr5 = DecisionTreeRegressor(max_depth=5)\n",
    "dtr5.fit(X_train, y_train)\n",
    "\n",
    "# Predict\n",
    "dtr5_predTrain = dtr5.predict(X_train)\n",
    "dtr5_predTest = dtr5.predict(X_test)\n",
    "\n",
    "# Get MSE\n",
    "MSE5_train = mean_squared_error(y_train, dtr5_predTrain)\n",
    "MSE5_test = mean_squared_error(y_test, dtr5_predTest)"
   ]
  },
  {
   "cell_type": "code",
   "execution_count": 27,
   "metadata": {
    "collapsed": false
   },
   "outputs": [
    {
     "name": "stdout",
     "output_type": "stream",
     "text": [
      "Mean Squared Errors:\n",
      "\tTrain (In-Sample)\t:\t 18843.55\n",
      "\tTest (Out-of-Sample)\t:\t227371.04\n"
     ]
    }
   ],
   "source": [
    "print 'Mean Squared Errors:'\n",
    "print '\\tTrain (In-Sample)\\t:\\t{:>9.2f}'.format(MSE5_train)\n",
    "print '\\tTest (Out-of-Sample)\\t:\\t{:>9.2f}'.format(MSE5_test)"
   ]
  },
  {
   "cell_type": "markdown",
   "metadata": {},
   "source": [
    "## 2. Max Depth = 2"
   ]
  },
  {
   "cell_type": "code",
   "execution_count": 28,
   "metadata": {
    "collapsed": false
   },
   "outputs": [],
   "source": [
    "# Fit model\n",
    "dtr2 = DecisionTreeRegressor(max_depth=2)\n",
    "dtr2.fit(X_train, y_train)\n",
    "\n",
    "# Predict\n",
    "dtr2_predTrain = dtr2.predict(X_train)\n",
    "dtr2_predTest = dtr2.predict(X_test)\n",
    "\n",
    "# Get MSE\n",
    "MSE2_train = mean_squared_error(y_train, dtr2_predTrain)\n",
    "MSE2_test = mean_squared_error(y_test, dtr2_predTest)"
   ]
  },
  {
   "cell_type": "code",
   "execution_count": 29,
   "metadata": {
    "collapsed": false
   },
   "outputs": [
    {
     "name": "stdout",
     "output_type": "stream",
     "text": [
      "Mean Squared Errors:\n",
      "\tTrain (In-Sample)\t:\t 69521.97\n",
      "\tTest (Out-of-Sample)\t:\t168079.55\n"
     ]
    }
   ],
   "source": [
    "print 'Mean Squared Errors:'\n",
    "print '\\tTrain (In-Sample)\\t:\\t{:>9.2f}'.format(MSE2_train)\n",
    "print '\\tTest (Out-of-Sample)\\t:\\t{:>9.2f}'.format(MSE2_test)"
   ]
  },
  {
   "cell_type": "markdown",
   "metadata": {},
   "source": [
    "## 3. Observations\n",
    "\n",
    "For both trees, the MSE on the training set is significantly better than the MSE on the test set. This is expected because decision trees have a tendency to overfit the training data. \n",
    "\n",
    "Comparing the two models, the tree with a max depth of 5 outperformed the tree with a max depth of 2 on the in-sample predictions. However, the shallower tree performed significantly better on the out-of-sample predictions. Increasing the max depth increases the complexity of the model, causing the tree to capture more of the nuances in the training data. In this case, the deeper tree clearly over-fit the training set, causing poor out-of-sample prediction. Therefore, the shallower tree (max depth of 2) is the more optimal choice.\n",
    "\n",
    "There is a clear trade-off between bias and variance in these models. As you increase the max depth of the tree, variance increases and bias decreases. To maximize out-of-sample performance, it is important to find the optimal balance between the two. You can do this using cross validation, testing the model several times for different max depth values and choosing the model with the lowest out-of-sample MSE."
   ]
  },
  {
   "cell_type": "markdown",
   "metadata": {
    "collapsed": true
   },
   "source": [
    "# Question 3 - Support Vector Regression vs. Linear Regression (10pts)\n",
    "Download datasets 'summer_gpa_test.csv' and 'summer_gpa_train.csv' from Canvas. With this toy dataset, we want to predict GPA in Summer 2016 for students using 5 different features. So, target variable will be 'GPA_summer2016' in this problem.\n",
    "\n",
    "1. Fit a support vector regression using the default options on [sklearn's SVR](http://scikit-learn.org/stable/modules/generated/sklearn.svm.SVR.html) on training data. Note that the default kernel is \"rbf\".  Report the root MSE for both train and test data. (2)\n",
    "\n",
    "2. Fit SVR with 'linear' kernel and Linear Regression (for other options, use default parameter settings). Report RMSE of prediction on train and test data for the two methods. (3)\n",
    "\n",
    "3. Now, compare the results of three different methods, then provide a possible reason for SVR with RBF kernel not working well on test set. (1)\n",
    "\n",
    "4.  Provide simple residual plots on Train and Test set for all three methods. Specifically, submit a scatter plot wherein y-axis shows the residuals and x-axis the predicted values. What can you learn about the effect of outliers on different models from this problem? (4)"
   ]
  },
  {
   "cell_type": "code",
   "execution_count": 32,
   "metadata": {
    "collapsed": true
   },
   "outputs": [],
   "source": [
    "import pandas as pd\n",
    "import numpy as np\n",
    "from sklearn.svm import SVR\n",
    "from sklearn.metrics import mean_squared_error\n",
    "from sklearn.linear_model import LinearRegression\n",
    "\n",
    "d_train = pd.read_csv('summer_gpa_train.csv',index_col='student')\n",
    "d_test = pd.read_csv('summer_gpa_test.csv',index_col='student')\n",
    "\n",
    "y_train = d_train['GPA_summer2016']\n",
    "y_test = d_test['GPA_summer2016']\n",
    "x_train = d_train.drop('GPA_summer2016',axis=1)\n",
    "x_test = d_test.drop('GPA_summer2016',axis=1)"
   ]
  },
  {
   "cell_type": "markdown",
   "metadata": {},
   "source": [
    "## 1. Default SVR"
   ]
  },
  {
   "cell_type": "code",
   "execution_count": 33,
   "metadata": {
    "collapsed": false
   },
   "outputs": [],
   "source": [
    "# Fit model\n",
    "svr = SVR()\n",
    "svr.fit(x_train, y_train)\n",
    "\n",
    "# Predict\n",
    "svr_predTrain = svr.predict(x_train)\n",
    "svr_predTest = svr.predict(x_test)\n",
    "\n",
    "# Get RMSE\n",
    "RMSE_train = np.sqrt(mean_squared_error(y_train, svr_predTrain))\n",
    "RMSE_test = np.sqrt(mean_squared_error(y_test, svr_predTest))"
   ]
  },
  {
   "cell_type": "code",
   "execution_count": 34,
   "metadata": {
    "collapsed": false
   },
   "outputs": [
    {
     "name": "stdout",
     "output_type": "stream",
     "text": [
      "Root Mean Squared Error:\n",
      "\tTrain (In-Sample)\t:\t0.174703118961\n",
      "\tTest (Out-of-Sample)\t:\t0.549667753896\n"
     ]
    }
   ],
   "source": [
    "print 'Root Mean Squared Error:'\n",
    "print '\\tTrain (In-Sample)\\t:\\t{}'.format(RMSE_train)\n",
    "print '\\tTest (Out-of-Sample)\\t:\\t{}'.format(RMSE_test)"
   ]
  },
  {
   "cell_type": "markdown",
   "metadata": {},
   "source": [
    "## 2. SVR with Linear Kernel and Linear Regression"
   ]
  },
  {
   "cell_type": "code",
   "execution_count": 35,
   "metadata": {
    "collapsed": false
   },
   "outputs": [],
   "source": [
    "# Fit models\n",
    "svrLin = SVR(kernel='linear')\n",
    "svrLin.fit(x_train, y_train)\n",
    "\n",
    "linReg = LinearRegression()\n",
    "linReg.fit(x_train, y_train)\n",
    "\n",
    "# Predict\n",
    "svrLin_predTrain = svrLin.predict(x_train)\n",
    "svrLin_predTest = svrLin.predict(x_test)\n",
    "\n",
    "linReg_predTrain = linReg.predict(x_train)\n",
    "linReg_predTest = linReg.predict(x_test)\n",
    "\n",
    "# Get RMSE\n",
    "RMSE_svrTrain = np.sqrt(mean_squared_error(y_train, svrLin_predTrain))\n",
    "RMSE_svrTest = np.sqrt(mean_squared_error(y_test, svrLin_predTest))\n",
    "\n",
    "RMSE_lrTrain = np.sqrt(mean_squared_error(y_train, linReg_predTrain))\n",
    "RMSE_lrTest = np.sqrt(mean_squared_error(y_test, linReg_predTest))"
   ]
  },
  {
   "cell_type": "code",
   "execution_count": 36,
   "metadata": {
    "collapsed": false
   },
   "outputs": [
    {
     "name": "stdout",
     "output_type": "stream",
     "text": [
      "RMSE on Training Data:\n",
      "\tSVR\t\t\t:\t0.477967720085\n",
      "\tLinear Regression\t:\t0.458060629343\n",
      "\n",
      "RMSE on Test Data:\n",
      "\tSVR\t\t\t:\t0.231968041522\n",
      "\tLinear Regression\t:\t0.260057137391\n"
     ]
    }
   ],
   "source": [
    "print 'RMSE on Training Data:'\n",
    "print '\\tSVR\\t\\t\\t:\\t{}'.format(RMSE_svrTrain)\n",
    "print '\\tLinear Regression\\t:\\t{}'.format(RMSE_lrTrain)\n",
    "print\n",
    "print 'RMSE on Test Data:'\n",
    "print '\\tSVR\\t\\t\\t:\\t{}'.format(RMSE_svrTest)\n",
    "print '\\tLinear Regression\\t:\\t{}'.format(RMSE_lrTest)"
   ]
  },
  {
   "cell_type": "markdown",
   "metadata": {},
   "source": [
    "## 3. Compare Results\n",
    "\n",
    "Looking at the test root mean squared error for the different models, we see that SVR with a linear kernel function performed the best (lowest RMSE) of the three on out-of-sample predictions. Linear regression performed only slightly worse. With an RMSE more than twice as high as that of the other two models, SVR with RBF (Radial Basis Function) kernel function showed the worst performance by a significant margin.\n",
    "\n",
    "However, if we examine the training root mean square errors, we see that the exact opposite is true with regards to in-sample predictions. SVR with RBF kernel performs significantly better than the other two models. This leads me to believe that SVR with an RBF kernel is over-fitting the training data. "
   ]
  },
  {
   "cell_type": "markdown",
   "metadata": {},
   "source": [
    "## 4. Residuals"
   ]
  },
  {
   "cell_type": "code",
   "execution_count": 37,
   "metadata": {
    "collapsed": false
   },
   "outputs": [],
   "source": [
    "# Training Residuals\n",
    "svr_resTrain = y_train - svr_predTrain\n",
    "svrLin_resTrain = y_train - svrLin_predTrain\n",
    "linReg_resTrain = y_train - linReg_predTrain\n",
    "\n",
    "# Test Residuals\n",
    "svr_resTest = y_test - svr_predTest\n",
    "svrLin_resTest = y_test - svrLin_predTest\n",
    "linReg_resTest = y_test - linReg_predTest"
   ]
  },
  {
   "cell_type": "code",
   "execution_count": 38,
   "metadata": {
    "collapsed": false
   },
   "outputs": [
    {
     "data": {
      "text/plain": [
       "(-1.5, 3)"
      ]
     },
     "execution_count": 38,
     "metadata": {},
     "output_type": "execute_result"
    },
    {
     "data": {
      "image/png": "[encoded data removed]",
      "text/plain": [
       "<matplotlib.figure.Figure at 0x16b9b128>"
      ]
     },
     "metadata": {},
     "output_type": "display_data"
    }
   ],
   "source": [
    "# Plot training residuals\n",
    "figure(figsize=(16,4))\n",
    "\n",
    "subplot(131)\n",
    "scatter(svr_predTrain, svr_resTrain)\n",
    "xlabel('Predicted Values')\n",
    "ylabel('Residuals')\n",
    "title('SVR with RBF Kernel')\n",
    "ylim(-1.5,3)\n",
    "\n",
    "subplot(132)\n",
    "scatter(svrLin_predTrain, svrLin_resTrain)\n",
    "xlabel('Predicted Values')\n",
    "ylabel('Residuals')\n",
    "title('SVR with Linear Kernel')\n",
    "ylim(-1.5,3)\n",
    "\n",
    "subplot(133)\n",
    "scatter(linReg_predTrain, linReg_resTrain)\n",
    "xlabel('Predicted Values')\n",
    "ylabel('Residuals')\n",
    "title('Linear Regression')\n",
    "ylim(-1.5,3)"
   ]
  },
  {
   "cell_type": "code",
   "execution_count": 39,
   "metadata": {
    "collapsed": false
   },
   "outputs": [
    {
     "data": {
      "text/plain": [
       "(-1.5, 1.5)"
      ]
     },
     "execution_count": 39,
     "metadata": {},
     "output_type": "execute_result"
    },
    {
     "data": {
      "image/png": "[encoded data removed]",
      "text/plain": [
       "<matplotlib.figure.Figure at 0x16c0b5f8>"
      ]
     },
     "metadata": {},
     "output_type": "display_data"
    }
   ],
   "source": [
    "# Plot test residuals\n",
    "figure(figsize = (16,4))\n",
    "\n",
    "subplot(131)\n",
    "scatter(svr_predTest, svr_resTest)\n",
    "xlabel('Predicted Values')\n",
    "ylabel('Residuals')\n",
    "title('SVR with RBF Kernel')\n",
    "ylim(-1.5,1.5)\n",
    "\n",
    "subplot(132)\n",
    "scatter(svrLin_predTest, svrLin_resTest)\n",
    "xlabel('Predicted Values')\n",
    "ylabel('Residuals')\n",
    "title('SVR with Linear Kernel')\n",
    "ylim(-1.5,1.5)\n",
    "\n",
    "subplot(133)\n",
    "scatter(linReg_predTest, linReg_resTest)\n",
    "xlabel('Predicted Values')\n",
    "ylabel('Residuals')\n",
    "title('Linear Regression')\n",
    "ylim(-1.5,1.5)"
   ]
  },
  {
   "cell_type": "markdown",
   "metadata": {},
   "source": [
    "### Observations\n",
    "\n",
    "Looking at the residual plots for the training data, we see a stark difference between the SVR with RBF and the other two models. For the two linear models, there are several samples that were predicted to have very low GPAs, but that actually had very high GPAs. This is not the case for SVR with RBF kernel, where residuals across the board are much lower for the training data.\n",
    "\n",
    "However, if we examine the residual plots for the test set, we see that residuals are typically lower for the two linear functions than for SVR with RBF. This leads me to believe that the points mentioned previously are outliers and that SVR with RBF over-fit to accomodate for these outliers. This model was likely chasing noise in the training set that did not have any out-of-sample predictive power. This caused it to perform more poorly in predicting the test set than the two linear models that appear to be more robust to outliers."
   ]
  },
  {
   "cell_type": "markdown",
   "metadata": {},
   "source": [
    "# Question 4: Bayesian Networks (10 pts)\n",
    "#### Part (a) (5 points)\n",
    "Consider the following Bayesian network of binary (True/False) variables.\n",
    "\n",
    "<img src=\"hw4q4pic1.png\">\n",
    "\n",
    "This is equivalent to saying that X and Y are conditionally independent given C, or P(X,Y|C) = P(X|C)P(Y|C). This happens to be the assumption used by the Naive Bayes classifier.\n",
    "\n",
    "The exact probabilities are given:  \n",
    "P(X = True | C = True) = .75  \n",
    "P(X = True | C = False) = .5  \n",
    "P(Y = True | C = True) = .25  \n",
    "P(Y = True | C = False) = .5  \n",
    "P(C = True) = .5\n",
    "\n",
    "Find P(C = True | X = True, Y = True). The easiest method is to use Bayes rule, along with the conditional independence equation given above.\n",
    "\n",
    "#### (b) (5 points)\n",
    "A new feature Z is added, and based on prior knowledge, we believe that one of the two networks given below properly captures the dependencies among the variables. Our goal is to determine P(C|X,Y,Z). For each of these two different networks:\n",
    "\n",
    "<img src=\"hw4q4pic2.png\">\n",
    "\n",
    "will P(C|X,Y,Z) be the same as P(C|X,Y) (the inference from part a)? Or will it be different? Give a separate answer for each network."
   ]
  },
  {
   "cell_type": "markdown",
   "metadata": {},
   "source": [
    "## Part (a)\n",
    "\n",
    "Bayes' Rule states:\n",
    "\n",
    "$$ P(C = True\\ |\\ X = True, Y = True) = \\frac{P(C = True) * P(X = True, Y = True\\ |\\ C = True)}{P(X = True, Y = True)} $$\n",
    "\n",
    "In this case, we know that:\n",
    "\n",
    "$$ P(X = True, Y = True\\ |\\ C = True) = P(X = True\\ |\\ C = True) * P(Y = True\\ |\\ C = True) $$\n",
    "\n",
    "Using the Law of Total Probability, $P(X = True, Y = True)$ can be represented as:\n",
    "\n",
    "$$ [P(C = True) * P(X = True\\ |\\ C = True) * P(Y = True\\ |\\ C = True)] + [P(C = False) * P(X = True\\ |\\ C=False) * P(Y = True\\ |\\ C = False)] $$\n",
    "\n",
    "Therefore, our equation for Bayes' Rule becomes:\n",
    "\n",
    "$$ P(C = True\\ |\\ X = True, Y = True) = \\frac{P(C = True) * P(X = True\\ |\\ C = True) * P(Y = True\\ |\\ C = True)}{[P(C = True) * P(X = True\\ |\\ C = True) * P(Y = True\\ |\\ C = True)] + [P(C = False) * P(X = True\\ |\\ C=False) * P(Y = True\\ |\\ C = False)]} $$\n",
    "\n",
    "Plugging in the probabilities given, this equation becomes:\n",
    "\n",
    "$$ P(C = True\\ |\\ X = True, Y = True) = \\frac{0.5*0.75*0.25}{(0.5*0.75*0.25) + (0.5*0.5*0.5)} $$\n",
    "\n",
    "$$ P(C = True\\ |\\ X = True, Y = True) = 0.429 $$"
   ]
  },
  {
   "cell_type": "markdown",
   "metadata": {},
   "source": [
    "## Part (b)\n",
    "\n",
    "Bayes' Rule states:\n",
    "\n",
    "$$ P(C\\ |\\ X, Y, Z) = \\frac{P(C) * P(X, Y, Z\\ |\\ C)}{P(X, Y, Z)} $$\n",
    "\n",
    "### First Network:\n",
    "\n",
    "For the first network, the equation can be rewritten as:\n",
    "\n",
    "$$ P(C\\ |\\ X, Y, Z) = \\frac{P(C) * P(X\\ |\\ C) * P(Y\\ |\\ C) * P(Z\\ |\\ X,Y)}{P(X, Y) * P(Z\\ |\\ X, Y)} $$\n",
    "\n",
    "The $P(Z\\ |\\ X, Y)$ terms in the numerator and denominator cancel out, leaving:\n",
    "\n",
    "$$ P(C\\ |\\ X, Y, Z) = \\frac{P(C) * P(X\\ |\\ C) * P(Y\\ |\\ C)}{P(X, Y)} $$\n",
    "\n",
    "This equation is the same as the equation for $ P(C\\ |\\ X, Y) $ from part (a).\n",
    "\n",
    "### Second Network:"
   ]
  },
  {
   "cell_type": "markdown",
   "metadata": {},
   "source": [
    "# Question 5: Mulitclass Classification (5 points)\n",
    "\n",
    "One way of using a binary classifier for addressing a multiclass classification problem is to use a One-vs.-All (or One-vs.-Rest)  strategy.\n",
    "\n",
    "1. Briefly describe the  One-vs.-All method.  (2pts)\n",
    "\n",
    "2. What are two disadvantages of using the One-vs.-All method in situations where the number of classes $N$ is very large? (3pts)"
   ]
  },
  {
   "cell_type": "markdown",
   "metadata": {},
   "source": [
    "## 1. One-vs.-All Method\n",
    "\n",
    "The One-vs.-All method is a way to apply a binary classifier to a multiclass model. It works by fitting a single binary classifier to each class. In each classifier, the samples of one class are considered positive, and the samples of all other classes are considered negative. Each model can then assign a probability to each individual data point that it belongs to the model's positive class. Class predictions are made by assigning points to the class whose model produced the highest probability."
   ]
  },
  {
   "cell_type": "markdown",
   "metadata": {},
   "source": [
    "## 2. Disadvantages\n",
    "\n",
    "1. When the number of classes $N$ is very large, the One-vs.-All method can be very expensive computationally. When training, the method requires fitting a separate binary classifier for each class. When predicting, each classifier must assign a probability to each data point. Naturally, the more classes that there are, the more expensive the computations are in both training and predicting.\n",
    "\n",
    "2. Even if the distribution is very balanced among all of the classes, if $N$ is very large, each binary classifier sees a very unbalanced distribution. There will be significantly more negative samples than positive samples for each model to train on, making it difficult for the model to separate the positive class."
   ]
  }
 ],
 "metadata": {
  "kernelspec": {
   "display_name": "Python 2",
   "language": "python",
   "name": "python2"
  },
  "language_info": {
   "codemirror_mode": {
    "name": "ipython",
    "version": 2
   },
   "file_extension": ".py",
   "mimetype": "text/x-python",
   "name": "python",
   "nbconvert_exporter": "python",
   "pygments_lexer": "ipython2",
   "version": "2.7.12"
  }
 },
 "nbformat": 4,
 "nbformat_minor": 0
}
