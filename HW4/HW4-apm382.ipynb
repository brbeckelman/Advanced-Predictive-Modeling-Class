{
 "cells": [
  {
   "cell_type": "markdown",
   "metadata": {},
   "source": [
    "# <p style=\"text-align: center;\">MIS 382N: Advanced Predictive Modeling</p>\n",
    "# <p style=\"text-align: center;\">Assignment 4</p>\n",
    "## <p style=\"text-align: center;\">Total points: 50 </p>\n",
    "## <p style=\"text-align: center;\">Due: Mon, November 14</p>\n",
    "\n",
    "\n",
    "\n",
    "Your homework should be written in a **Jupyter notebook**. Please submit **only one** ipynb file from each group, and include the names of all the group members. Also, please make sure your code runs and the graphics (and anything else) are displayed in your notebook before submitting."
   ]
  },
  {
   "cell_type": "code",
   "execution_count": 1,
   "metadata": {
    "collapsed": false
   },
   "outputs": [
    {
     "name": "stdout",
     "output_type": "stream",
     "text": [
      "Populating the interactive namespace from numpy and matplotlib\n"
     ]
    }
   ],
   "source": [
    "import pandas as pd\n",
    "% pylab inline\n",
    "import seaborn as sns\n",
    "import numpy as np"
   ]
  },
  {
   "cell_type": "markdown",
   "metadata": {},
   "source": [
    "# Problem 1 - MNIST (15 pts)\n",
    "In this question you classify hand-written digits. We want to use MNIST data set and try Multi-layer Perceptron (MLP) classifier using sklearn package in Python. In order to simplify the problem, we classify digits into 8 classes (digits 0,1,2,...7) and ignore records for digits 8 and 9.  Use the code below to access the data set and extract data with labels 0 to 7, and split the data set into train set and test set.\n",
    "\n",
    "1. Fit a Multilayer Perceptron Classifier using the standard options on sklearn's MLP on train data. Report the root MSE for both train and test data. (5 pts)\n",
    "\n",
    "    Use these parameters for your model: \n",
    "                    {hidden_layer_sizes=(50,), max_iter=10, alpha=1e-4,\n",
    "                    solver='sgd', verbose=10, tol=1e-4, random_state=42,\n",
    "                    learning_rate_init=.1}\n",
    "                    \n",
    "2. To find better parameters for the MLP Classifier model, try an exhaustive search over all parameters of the data. Use sklearn's GridSearchCV to find the best subset of parameters from the set:\n",
    "                    { alpha = [0.1,0.01,0.001], activation : ['logistic', 'relu'] }\n",
    "    which parameters resulted in a more accurate model? Can you explain why? (5 pts)\n",
    "\n",
    "3. Select 5 misclassified images and display them. (5 pts)"
   ]
  },
  {
   "cell_type": "code",
   "execution_count": 4,
   "metadata": {
    "collapsed": true
   },
   "outputs": [],
   "source": [
    "import matplotlib.pyplot as plt\n",
    "from sklearn.datasets import fetch_mldata\n",
    "from sklearn.model_selection import (train_test_split,KFold)\n",
    "from sklearn.neural_network import MLPClassifier\n",
    "\n",
    "mnist = fetch_mldata(\"MNIST original\")\n",
    "# rescale the data, use the traditional train/test split\n",
    "X = (mnist.data / 255.)[:48200]\n",
    "y = mnist.target[:48200]\n",
    "\n",
    "X_train, X_test, y_train, y_test = train_test_split(X,y,test_size = 0.1, random_state=42)"
   ]
  },
  {
   "cell_type": "markdown",
   "metadata": {
    "collapsed": true
   },
   "source": [
    "# Question 2: Regression Trees (10 points)\n",
    "\n",
    "In this question, we will be exploring the application of regression tree (RT) using sklearn package in Python. You will be using the same Hitters.csv dataset (available on Canvas) used in HW2 Q5 to predict a baseball player’s Salary using all the 16 performance variables. Use a random state of 42 and a test size of 1/3 to split the data into training and test.\n",
    "\n",
    "1. Build a regression using [DecisionTreeRegressor](http://scikit-learn.org/stable/modules/generated/sklearn.tree.DecisionTreeRegressor.html) with max_depth = 5. Report the mean squared errors on both training and test datasets. (4)\n",
    "2. Repeat Part-1 with max_depth = 2. (4)\n",
    "3. Briefly explain what you observe from these MSE values obtained by using maximum tree depths 5 and 2? Which tree is better and why? (2)"
   ]
  },
  {
   "cell_type": "code",
   "execution_count": 24,
   "metadata": {
    "collapsed": false
   },
   "outputs": [
    {
     "data": {
      "text/html": [
       "<div>\n",
       "<table border=\"1\" class=\"dataframe\">\n",
       "  <thead>\n",
       "    <tr style=\"text-align: right;\">\n",
       "      <th></th>\n",
       "      <th>AtBat</th>\n",
       "      <th>Hits</th>\n",
       "      <th>HmRun</th>\n",
       "      <th>Runs</th>\n",
       "      <th>RBI</th>\n",
       "      <th>Walks</th>\n",
       "      <th>Years</th>\n",
       "      <th>CAtBat</th>\n",
       "      <th>CHits</th>\n",
       "      <th>CHmRun</th>\n",
       "      <th>CRuns</th>\n",
       "      <th>CRBI</th>\n",
       "      <th>CWalks</th>\n",
       "      <th>PutOuts</th>\n",
       "      <th>Assists</th>\n",
       "      <th>Errors</th>\n",
       "      <th>Salary</th>\n",
       "    </tr>\n",
       "  </thead>\n",
       "  <tbody>\n",
       "    <tr>\n",
       "      <th>0</th>\n",
       "      <td>315</td>\n",
       "      <td>81</td>\n",
       "      <td>7</td>\n",
       "      <td>24</td>\n",
       "      <td>38</td>\n",
       "      <td>39</td>\n",
       "      <td>14</td>\n",
       "      <td>3449</td>\n",
       "      <td>835</td>\n",
       "      <td>69</td>\n",
       "      <td>321</td>\n",
       "      <td>414</td>\n",
       "      <td>375</td>\n",
       "      <td>632</td>\n",
       "      <td>43</td>\n",
       "      <td>10</td>\n",
       "      <td>475.0</td>\n",
       "    </tr>\n",
       "  </tbody>\n",
       "</table>\n",
       "</div>"
      ],
      "text/plain": [
       "   AtBat  Hits  HmRun  Runs  RBI  Walks  Years  CAtBat  CHits  CHmRun  CRuns  \\\n",
       "0    315    81      7    24   38     39     14    3449    835      69    321   \n",
       "\n",
       "   CRBI  CWalks  PutOuts  Assists  Errors  Salary  \n",
       "0   414     375      632       43      10   475.0  "
      ]
     },
     "execution_count": 24,
     "metadata": {},
     "output_type": "execute_result"
    }
   ],
   "source": [
    "hitters = pd.read_csv(\"Hitters.csv\")\n",
    "hitters.head(1)"
   ]
  },
  {
   "cell_type": "code",
   "execution_count": 25,
   "metadata": {
    "collapsed": false
   },
   "outputs": [],
   "source": [
    "from sklearn.tree import DecisionTreeRegressor\n",
    "from sklearn.model_selection import train_test_split\n",
    "from sklearn.metrics import mean_squared_error\n",
    "\n",
    "train, test = train_test_split(hitters, test_size=0.33, random_state=42)\n",
    "X_train = train.drop('Salary', axis=1)\n",
    "X_test = test.drop('Salary', axis=1)\n",
    "y_train = train['Salary']\n",
    "y_test = test['Salary']"
   ]
  },
  {
   "cell_type": "markdown",
   "metadata": {},
   "source": [
    "## 1. Max Depth = 5"
   ]
  },
  {
   "cell_type": "code",
   "execution_count": 26,
   "metadata": {
    "collapsed": false
   },
   "outputs": [],
   "source": [
    "# Fit model\n",
    "dtr5 = DecisionTreeRegressor(max_depth=5)\n",
    "dtr5.fit(X_train, y_train)\n",
    "\n",
    "# Predict\n",
    "dtr5_predTrain = dtr5.predict(X_train)\n",
    "dtr5_predTest = dtr5.predict(X_test)\n",
    "\n",
    "# Get MSE\n",
    "MSE5_train = mean_squared_error(y_train, dtr5_predTrain)\n",
    "MSE5_test = mean_squared_error(y_test, dtr5_predTest)"
   ]
  },
  {
   "cell_type": "code",
   "execution_count": 27,
   "metadata": {
    "collapsed": false
   },
   "outputs": [
    {
     "name": "stdout",
     "output_type": "stream",
     "text": [
      "Mean Squared Errors:\n",
      "\tTrain (In-Sample)\t:\t 18843.55\n",
      "\tTest (Out-of-Sample)\t:\t214094.74\n"
     ]
    }
   ],
   "source": [
    "print 'Mean Squared Errors:'\n",
    "print '\\tTrain (In-Sample)\\t:\\t{:>9.2f}'.format(MSE5_train)\n",
    "print '\\tTest (Out-of-Sample)\\t:\\t{:>9.2f}'.format(MSE5_test)"
   ]
  },
  {
   "cell_type": "markdown",
   "metadata": {},
   "source": [
    "## 2. Max Depth = 2"
   ]
  },
  {
   "cell_type": "code",
   "execution_count": 28,
   "metadata": {
    "collapsed": false
   },
   "outputs": [],
   "source": [
    "# Fit model\n",
    "dtr2 = DecisionTreeRegressor(max_depth=2)\n",
    "dtr2.fit(X_train, y_train)\n",
    "\n",
    "# Predict\n",
    "dtr2_predTrain = dtr2.predict(X_train)\n",
    "dtr2_predTest = dtr2.predict(X_test)\n",
    "\n",
    "# Get MSE\n",
    "MSE2_train = mean_squared_error(y_train, dtr2_predTrain)\n",
    "MSE2_test = mean_squared_error(y_test, dtr2_predTest)"
   ]
  },
  {
   "cell_type": "code",
   "execution_count": 29,
   "metadata": {
    "collapsed": false
   },
   "outputs": [
    {
     "name": "stdout",
     "output_type": "stream",
     "text": [
      "Mean Squared Errors:\n",
      "\tTrain (In-Sample)\t:\t 69521.97\n",
      "\tTest (Out-of-Sample)\t:\t168079.55\n"
     ]
    }
   ],
   "source": [
    "print 'Mean Squared Errors:'\n",
    "print '\\tTrain (In-Sample)\\t:\\t{:>9.2f}'.format(MSE2_train)\n",
    "print '\\tTest (Out-of-Sample)\\t:\\t{:>9.2f}'.format(MSE2_test)"
   ]
  },
  {
   "cell_type": "markdown",
   "metadata": {},
   "source": [
    "## 3. Observations\n",
    "\n",
    "For both trees, the MSE on the training set is significantly better than the MSE on the test set. This is expected because decision trees have a tendency to overfit the training data. \n",
    "\n",
    "Comparing the two models, the tree with a max depth of 5 outperformed the tree with a max depth of 2 on the in-sample predictions. However, the shallower tree performed significantly better on the out-of-sample predictions. Increasing the max depth increases the complexity of the model, causing the tree to capture more of the nuances in the training data. In this case, the deeper tree clearly over-fit the training set, causing poor out-of-sample prediction. Therefore, the shallower tree (max depth of 2) is the more optimal choice.\n",
    "\n",
    "There is a clear trade-off between bias and variance in these models. As you increase the max depth of the tree, variance increases and bias decreases. To maximize out-of-sample performance, it is important to find the optimal balance between the two. You can do this using cross validation, testing the model several times for different max depth values and choosing the model with the lowest out-of-sample MSE."
   ]
  },
  {
   "cell_type": "markdown",
   "metadata": {
    "collapsed": true
   },
   "source": [
    "# Question 3 - Support Vector Regression vs. Linear Regression (10pts)\n",
    "Download datasets 'summer_gpa_test.csv' and 'summer_gpa_train.csv' from Canvas. With this toy dataset, we want to predict GPA in Summer 2016 for students using 5 different features. So, target variable will be 'GPA_summer2016' in this problem.\n",
    "\n",
    "1. Fit a support vector regression using the default options on [sklearn's SVR](http://scikit-learn.org/stable/modules/generated/sklearn.svm.SVR.html) on training data. Note that the default kernel is \"rbf\".  Report the root MSE for both train and test data. (2)\n",
    "\n",
    "2. Fit SVR with 'linear' kernel and Linear Regression (for other options, use default parameter settings). Report RMSE of prediction on train and test data for the two methods. (3)\n",
    "\n",
    "3. Now, compare the results of three different methods, then provide a possible reason for SVR with RBF kernel not working well on test set. (1)\n",
    "\n",
    "4.  Provide simple residual plots on Train and Test set for all three methods. Specifically, submit a scatter plot wherein y-axis shows the residuals and x-axis the predicted values. What can you learn about the effect of outliers on different models from this problem? (4)"
   ]
  },
  {
   "cell_type": "code",
   "execution_count": 2,
   "metadata": {
    "collapsed": true
   },
   "outputs": [],
   "source": [
    "import pandas as pd\n",
    "import numpy as np\n",
    "from sklearn.svm import SVR\n",
    "from sklearn.metrics import mean_squared_error\n",
    "from sklearn.linear_model import LinearRegression\n",
    "\n",
    "d_train = pd.read_csv('summer_gpa_train.csv',index_col='student')\n",
    "d_test = pd.read_csv('summer_gpa_test.csv',index_col='student')\n",
    "\n",
    "y_train = d_train['GPA_summer2016']\n",
    "y_test = d_test['GPA_summer2016']\n",
    "x_train = d_train.drop('GPA_summer2016',axis=1)\n",
    "x_test = d_test.drop('GPA_summer2016',axis=1)"
   ]
  },
  {
   "cell_type": "code",
   "execution_count": 17,
   "metadata": {
    "collapsed": false
   },
   "outputs": [
    {
     "data": {
      "text/plain": [
       "4.0"
      ]
     },
     "execution_count": 17,
     "metadata": {},
     "output_type": "execute_result"
    }
   ],
   "source": [
    "max(d_train['GPA_summer2016'])"
   ]
  },
  {
   "cell_type": "markdown",
   "metadata": {},
   "source": [
    "## 1. Default SVR"
   ]
  },
  {
   "cell_type": "code",
   "execution_count": 4,
   "metadata": {
    "collapsed": false
   },
   "outputs": [],
   "source": [
    "# Fit model\n",
    "svr = SVR()\n",
    "svr.fit(x_train, y_train)\n",
    "\n",
    "# Predict\n",
    "svr_predTrain = svr.predict(x_train)\n",
    "svr_predTest = svr.predict(x_test)\n",
    "\n",
    "# Get RMSE\n",
    "RMSE_train = np.sqrt(mean_squared_error(y_train, svr_predTrain))\n",
    "RMSE_test = np.sqrt(mean_squared_error(y_test, svr_predTest))"
   ]
  },
  {
   "cell_type": "code",
   "execution_count": 5,
   "metadata": {
    "collapsed": false
   },
   "outputs": [
    {
     "name": "stdout",
     "output_type": "stream",
     "text": [
      "Root Mean Squared Error:\n",
      "\tTrain (In-Sample)\t:\t0.174703118961\n",
      "\tTest (Out-of-Sample)\t:\t0.549667753896\n"
     ]
    }
   ],
   "source": [
    "print 'Root Mean Squared Error:'\n",
    "print '\\tTrain (In-Sample)\\t:\\t{}'.format(RMSE_train)\n",
    "print '\\tTest (Out-of-Sample)\\t:\\t{}'.format(RMSE_test)"
   ]
  },
  {
   "cell_type": "markdown",
   "metadata": {},
   "source": [
    "## 2. SVR with Linear Kernel and Linear Regression"
   ]
  },
  {
   "cell_type": "code",
   "execution_count": 6,
   "metadata": {
    "collapsed": false
   },
   "outputs": [],
   "source": [
    "# Fit models\n",
    "svrLin = SVR(kernel='linear')\n",
    "svrLin.fit(x_train, y_train)\n",
    "\n",
    "linReg = LinearRegression()\n",
    "linReg.fit(x_train, y_train)\n",
    "\n",
    "# Predict\n",
    "svrLin_predTrain = svrLin.predict(x_train)\n",
    "svrLin_predTest = svrLin.predict(x_test)\n",
    "\n",
    "linReg_predTrain = linReg.predict(x_train)\n",
    "linReg_predTest = linReg.predict(x_test)\n",
    "\n",
    "# Get RMSE\n",
    "RMSE_svrTrain = np.sqrt(mean_squared_error(y_train, svrLin_predTrain))\n",
    "RMSE_svrTest = np.sqrt(mean_squared_error(y_test, svrLin_predTest))\n",
    "\n",
    "RMSE_lrTrain = np.sqrt(mean_squared_error(y_train, linReg_predTrain))\n",
    "RMSE_lrTest = np.sqrt(mean_squared_error(y_test, linReg_predTest))"
   ]
  },
  {
   "cell_type": "code",
   "execution_count": 7,
   "metadata": {
    "collapsed": false
   },
   "outputs": [
    {
     "name": "stdout",
     "output_type": "stream",
     "text": [
      "RMSE on Training Data:\n",
      "\tSVR\t\t\t:\t0.477967720085\n",
      "\tLinear Regression\t:\t0.458060629343\n",
      "\n",
      "RMSE on Test Data:\n",
      "\tSVR\t\t\t:\t0.231968041522\n",
      "\tLinear Regression\t:\t0.260057137391\n"
     ]
    }
   ],
   "source": [
    "print 'RMSE on Training Data:'\n",
    "print '\\tSVR\\t\\t\\t:\\t{}'.format(RMSE_svrTrain)\n",
    "print '\\tLinear Regression\\t:\\t{}'.format(RMSE_lrTrain)\n",
    "print\n",
    "print 'RMSE on Test Data:'\n",
    "print '\\tSVR\\t\\t\\t:\\t{}'.format(RMSE_svrTest)\n",
    "print '\\tLinear Regression\\t:\\t{}'.format(RMSE_lrTest)"
   ]
  },
  {
   "cell_type": "markdown",
   "metadata": {},
   "source": [
    "## 3. Compare Results\n",
    "\n",
    "Looking at the test root mean squared error for the different models, we see that SVR with a linear kernel function performed the best (lowest RMSE) of the three on out-of-sample predictions. Linear regression performed only slightly worse. With an RMSE more than twice as high as that of the other two models, SVR with RBF (Radial Basis Function) kernel function showed the worst performance by a significant margin.\n",
    "\n",
    "However, if we examine the training root mean square errors, we see that the exact opposite is true with regards to in-sample predictions. SVR with RBF kernel performs significantly better than the other two models. This leads me to believe that SVR with an RBF kernel is over-fitting the training data. "
   ]
  },
  {
   "cell_type": "markdown",
   "metadata": {},
   "source": [
    "## 4. Residuals"
   ]
  },
  {
   "cell_type": "code",
   "execution_count": 23,
   "metadata": {
    "collapsed": false
   },
   "outputs": [],
   "source": [
    "# Training Residuals\n",
    "svr_resTrain = y_train - svr_predTrain\n",
    "svrLin_resTrain = y_train - svrLin_predTrain\n",
    "linReg_resTrain = y_train - linReg_predTrain\n",
    "\n",
    "# Test Residuals\n",
    "svr_resTest = y_test - svr_predTest\n",
    "svrLin_resTest = y_test - svrLin_predTest\n",
    "linReg_resTest = y_test - linReg_predTest"
   ]
  },
  {
   "cell_type": "code",
   "execution_count": 26,
   "metadata": {
    "collapsed": false
   },
   "outputs": [
    {
     "data": {
      "text/plain": [
       "(-1.5, 3)"
      ]
     },
     "execution_count": 26,
     "metadata": {},
     "output_type": "execute_result"
    },
    {
     "data": {
      "image/png": "[encoded data removed]",
      "text/plain": [
       "<matplotlib.figure.Figure at 0xd853a20>"
      ]
     },
     "metadata": {},
     "output_type": "display_data"
    }
   ],
   "source": [
    "# Plot training residuals\n",
    "figure(figsize=(16,4))\n",
    "\n",
    "subplot(131)\n",
    "scatter(svr_predTrain, svr_resTrain)\n",
    "xlabel('Predicted Values')\n",
    "ylabel('Residuals')\n",
    "title('SVR with RBF Kernel')\n",
    "ylim(-1.5,3)\n",
    "\n",
    "subplot(132)\n",
    "scatter(svrLin_predTrain, svrLin_resTrain)\n",
    "xlabel('Predicted Values')\n",
    "ylabel('Residuals')\n",
    "title('SVR with Linear Kernel')\n",
    "ylim(-1.5,3)\n",
    "\n",
    "subplot(133)\n",
    "scatter(linReg_predTrain, linReg_resTrain)\n",
    "xlabel('Predicted Values')\n",
    "ylabel('Residuals')\n",
    "title('Linear Regression')\n",
    "ylim(-1.5,3)"
   ]
  },
  {
   "cell_type": "code",
   "execution_count": 27,
   "metadata": {
    "collapsed": false
   },
   "outputs": [
    {
     "data": {
      "text/plain": [
       "(-1.5, 1.5)"
      ]
     },
     "execution_count": 27,
     "metadata": {},
     "output_type": "execute_result"
    },
    {
     "data": {
      "image/png": "[encoded data removed]",
      "text/plain": [
       "<matplotlib.figure.Figure at 0xe6a91d0>"
      ]
     },
     "metadata": {},
     "output_type": "display_data"
    }
   ],
   "source": [
    "# Plot test residuals\n",
    "figure(figsize = (16,4))\n",
    "\n",
    "subplot(131)\n",
    "scatter(svr_predTest, svr_resTest)\n",
    "xlabel('Predicted Values')\n",
    "ylabel('Residuals')\n",
    "title('SVR with RBF Kernel')\n",
    "ylim(-1.5,1.5)\n",
    "\n",
    "subplot(132)\n",
    "scatter(svrLin_predTest, svrLin_resTest)\n",
    "xlabel('Predicted Values')\n",
    "ylabel('Residuals')\n",
    "title('SVR with Linear Kernel')\n",
    "ylim(-1.5,1.5)\n",
    "\n",
    "subplot(133)\n",
    "scatter(linReg_predTest, linReg_resTest)\n",
    "xlabel('Predicted Values')\n",
    "ylabel('Residuals')\n",
    "title('Linear Regression')\n",
    "ylim(-1.5,1.5)"
   ]
  },
  {
   "cell_type": "markdown",
   "metadata": {},
   "source": [
    "### Observations\n",
    "\n",
    "Looking at the residual plots for the training data, we see a stark difference between the SVR with RBF and the other two models. For the two linear models, there are several samples that were predicted to have very low GPAs, but that actually had very high GPAs. This is not the case for SVR with RBF kernel, where residuals across the board are much lower for the training data.\n",
    "\n",
    "However, if we examine the residual plots for the test set, we see that residuals are typically lower for the two linear functions than for SVR with RBF. This leads me to believe that the points mentioned previously are outliers and that SVR with RBF over-fit to accomodate for these outliers. This model was likely chasing noise in the training set that did not have any out-of-sample predictive power. This caused it to perform more poorly in predicting the test set than the two linear models that appear to be more robust to outliers."
   ]
  },
  {
   "cell_type": "markdown",
   "metadata": {},
   "source": [
    "# Question 4: Bayesian Networks (10 pts)\n",
    "#### Part (a) (5 points)\n",
    "Consider the following Bayesian network of binary (True/False) variables.\n",
    "\n",
    "<img src=\"hw4q4pic1.png\">\n",
    "\n",
    "This is equivalent to saying that X and Y are conditionally independent given C, or P(X,Y|C) = P(X|C)P(Y|C). This happens to be the assumption used by the Naive Bayes classifier.\n",
    "\n",
    "The exact probabilities are given:  \n",
    "P(X = True | C = True) = .75  \n",
    "P(X = True | C = False) = .5  \n",
    "P(Y = True | C = True) = .25  \n",
    "P(Y = True | C = False) = .5  \n",
    "P(C = True) = .5\n",
    "\n",
    "Find P(C = True | X = True, Y = True). The easiest method is to use Bayes rule, along with the conditional independence equation given above.\n",
    "\n",
    "#### (b) (5 points)\n",
    "A new feature Z is added, and based on prior knowledge, we believe that one of the two networks given below properly captures the dependencies among the variables. Our goal is to determine P(C|X,Y,Z). For each of these two different networks:\n",
    "\n",
    "<img src=\"hw4q4pic2.png\">\n",
    "\n",
    "will P(C|X,Y,Z) be the same as P(C|X,Y) (the inference from part a)? Or will it be different? Give a separate answer for each network."
   ]
  },
  {
   "cell_type": "markdown",
   "metadata": {},
   "source": [
    "# Question 5: Mulitclass Classification (5 points)\n",
    "\n",
    "One way of using a binary classifier for addressing a multiclass classification problem is to use a One-vs.-All (or One-vs.-Rest)  strategy.\n",
    "\n",
    "1. Briefly describe the  One-vs.-All method.  (2pts)\n",
    "\n",
    "2. What are two disadvantages of using the One-vs.-All method in situations where the number of classes $N$ is very large? (3pts)"
   ]
  },
  {
   "cell_type": "markdown",
   "metadata": {},
   "source": [
    "## 1. One-vs.-All Method\n",
    "\n",
    "The One-vs.-All method is a way to apply a binary classifier to a multiclass model. It works by fitting a single binary classifier to each class. In each classifier, the samples of one class are considered positive, and the samples of all other classes are considered negative. Each model can then assign a probability to each individual data point that it belongs to the model's positive class. Class predictions are made by assigning points to the class whose model produced the highest probability."
   ]
  },
  {
   "cell_type": "markdown",
   "metadata": {},
   "source": [
    "## 2. Disadvantages\n",
    "\n",
    "1. When the number of classes $N$ is very large, the One-vs.-All method can be very expensive computationally. When training, the method requires fitting a separate binary classifier for each class. When predicting, each classifier must assign a probability to each data point. Naturally, the more classes that there are, the more expensive the computations are in both training and predicting.\n",
    "\n",
    "2. Even if the distribution is very balanced among all of the classes, if $N$ is very large, each binary classifier sees a very unbalanced distribution. There will be significantly more negative samples than positive samples for each model to train on, making it difficult for the model to separate the positive class."
   ]
  }
 ],
 "metadata": {
  "kernelspec": {
   "display_name": "Python 2",
   "language": "python",
   "name": "python2"
  },
  "language_info": {
   "codemirror_mode": {
    "name": "ipython",
    "version": 2
   },
   "file_extension": ".py",
   "mimetype": "text/x-python",
   "name": "python",
   "nbconvert_exporter": "python",
   "pygments_lexer": "ipython2",
   "version": "2.7.12"
  }
 },
 "nbformat": 4,
 "nbformat_minor": 0
}
