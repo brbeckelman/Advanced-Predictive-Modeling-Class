{
 "cells": [
  {
   "cell_type": "markdown",
   "metadata": {},
   "source": [
    "# <p style=\"text-align: center;\">MIS 382N: Advanced Predictive Modeling</p>\n",
    "# <p style=\"text-align: center;\">Assignment 2</p>\n",
    "## <p style=\"text-align: center;\">Total points: 60</p>\n",
    "## <p style=\"text-align: center;\">Due: Wed, October 05, by 11:59pm</p>\n",
    "\n",
    "\n",
    "Your homework should be written in a **Jupyter notebook** (except for Q6). Please submit **only one** ipynb file from each group, and include the names of all the group members in your ipynb file. Also, please make sure your code runs and the graphics (and anything else) are displayed in your notebook before submitting."
   ]
  },
  {
   "cell_type": "code",
   "execution_count": 72,
   "metadata": {
    "collapsed": false
   },
   "outputs": [
    {
     "name": "stdout",
     "output_type": "stream",
     "text": [
      "Populating the interactive namespace from numpy and matplotlib\n"
     ]
    }
   ],
   "source": [
    "import math\n",
    "import pandas as pd\n",
    "import numpy as np\n",
    "%pylab inline\n",
    "import seaborn\n",
    "from sklearn.cross_validation import train_test_split, KFold, cross_val_score\n",
    "from sklearn import linear_model\n",
    "from sklearn.metrics import make_scorer"
   ]
  },
  {
   "cell_type": "markdown",
   "metadata": {},
   "source": [
    "---"
   ]
  },
  {
   "cell_type": "markdown",
   "metadata": {
    "collapsed": true
   },
   "source": [
    "# Question 1: Sampling (6 pts)\n",
    "\n",
    "A recent survey estimated that $30\\%$ of all Europeans aged 20 to 22 have driven under the influence of drugs or alcohol, based on a simple \"Yes or No\" question. A similar survey is being planned for Americans. The survey designers want the  $90\\%$ confidence interval to have a margin of error of at most $\\pm0.09$.\n",
    "\n",
    "(a) Find the necessary sample size needed to conduct this survey assuming that the expected percentage of \"yes\" answers will be very close to that obtained from the European survey? (2 pts)\n",
    "\n",
    "(b) Suppose the tolerance level was kept the same but the confidence level needs to increase to $95\\%$. What is the required sample size for this new specification? (2 pts)\n",
    "\n",
    "(c) If one does not know where the true \"$p$\" may lie, one can conservatively conduct a survey assuming the worst case (in terms of required minimum sample size)  scenario of  $p = 0.5$. Redo part (b) for this \"worst case\" scenario. (2 pts)"
   ]
  },
  {
   "cell_type": "markdown",
   "metadata": {},
   "source": [
    "## (a)\n",
    "\n",
    "The equation to determine the number of samples required is:\n",
    "\n",
    "$$ n \\geq \\hat{p} * (1 - \\hat{p}) * (\\frac{Z_{\\alpha/2}}{\\epsilon})^2 $$\n",
    "\n",
    "where $n$ is the minimum sample size required to achieve the desired confidence interval and margin of error, $\\hat{p}$ is the expected number of \"Yes\" responses, $Z_{\\alpha/2}$ is the critical value assuming a normal distribution, and $\\epsilon$ is the margin of error. In this case: \n",
    "\n",
    "$$\\hat{p} = 0.3$$\n",
    "$$Z_{\\alpha/2} = 1.65$$ \n",
    "$$\\epsilon = 0.09$$\n",
    "\n",
    "$Z_{\\alpha/2}$ is 1.65 because 90% of the probability is within $+/-$ 1.65 $\\sigma$ of the mean. This number changes based on the desired confidence interval."
   ]
  },
  {
   "cell_type": "code",
   "execution_count": 3,
   "metadata": {
    "collapsed": false
   },
   "outputs": [
    {
     "name": "stdout",
     "output_type": "stream",
     "text": [
      "The minimum sample required to achieve a confidence interval of 0.90 and a margin of error of 0.09 is 71.\n"
     ]
    }
   ],
   "source": [
    "def MinSample(phat, conf_int, epsilon):\n",
    "    '''Returns the minimum sample size required to achieve a desired confidence level and margin of error with a known expected\n",
    "    p value'''\n",
    "    if conf_int == 0.9:\n",
    "        Z = 1.65\n",
    "    elif conf_int == 0.95:\n",
    "        Z = 1.96\n",
    "    elif conf_int == 0.99:\n",
    "        Z = 2.58\n",
    "    n_min = phat*(1-phat)*(Z/epsilon)**2\n",
    "    return math.ceil(n_min)\n",
    "\n",
    "phat = 0.3\n",
    "conf_int = 0.9\n",
    "epsilon = 0.09\n",
    "\n",
    "print 'The minimum sample required to achieve a confidence interval of %.2f and a margin of error of %.2f is %i.' % (conf_int, epsilon, \n",
    "                                                                                                                  MinSample(phat, conf_int, epsilon))"
   ]
  },
  {
   "cell_type": "markdown",
   "metadata": {},
   "source": [
    "## (b)\n",
    "If the confidence interval is raised to 95%, then the only parameter that changes is $Z_{\\alpha/2}$, which is now equal to 1.96 because 95% of the probability is within $+/-$ 1.96 $\\sigma$ of the mean."
   ]
  },
  {
   "cell_type": "code",
   "execution_count": 4,
   "metadata": {
    "collapsed": false
   },
   "outputs": [
    {
     "name": "stdout",
     "output_type": "stream",
     "text": [
      "The minimum sample required to achieve a confidence interval of 0.95 and a margin of error of 0.09 is 100.\n"
     ]
    }
   ],
   "source": [
    "conf_int = 0.95\n",
    "print 'The minimum sample required to achieve a confidence interval of %.2f and a margin of error of %.2f is %i.' % (conf_int, epsilon, \n",
    "                                                                                                                   MinSample(phat, conf_int, epsilon))"
   ]
  },
  {
   "cell_type": "markdown",
   "metadata": {},
   "source": [
    "## (c)"
   ]
  },
  {
   "cell_type": "code",
   "execution_count": 5,
   "metadata": {
    "collapsed": false
   },
   "outputs": [
    {
     "name": "stdout",
     "output_type": "stream",
     "text": [
      "The minimum sample required to achieve a confidence interval of 0.95 and a margin of error of 0.09 is 119.\n"
     ]
    }
   ],
   "source": [
    "phat = 0.5\n",
    "print 'The minimum sample required to achieve a confidence interval of %.2f and a margin of error of %.2f is %i.' % (conf_int, epsilon, \n",
    "                                                                                                                   MinSample(phat, conf_int, epsilon))"
   ]
  },
  {
   "cell_type": "markdown",
   "metadata": {},
   "source": [
    "---"
   ]
  },
  {
   "cell_type": "markdown",
   "metadata": {},
   "source": [
    "# Question 2 (2+2 = 4 points)\n",
    "\n",
    "View the video at:\n",
    "\n",
    "https://www.youtube.com/watch?v=jbkSRLYSojo\n",
    "\n",
    "(Hans Rosling's 200 Countries, 200 Years, 4 Minutes) and answer the following questions:\n",
    "\n",
    "1. How many variables are being visualized in the “moving bubble plots” video (list them)?\n",
    "\n",
    "2. Identify a variable that is “zoomed into”, i.e., examined at a sub-category or more detailed level.\n",
    "\n",
    "\n",
    "FACTOID: Rosling’s gapminder visualization\n",
    "\n",
    "(see https://www.youtube.com/user/Gapcast for some more insightful videos) can now be\n",
    "\n",
    "readily used by you via Google Charts: https://developers.google.com/chart/interactive/docs/gallery\n",
    "\n",
    "Just plug in your own variables into “Bubble Chart” under the URL above and go!"
   ]
  },
  {
   "cell_type": "markdown",
   "metadata": {},
   "source": [
    "## 1.\n",
    "\n",
    "There are 6 variables being visualized in the \"moving bubble plots\":\n",
    "1. Country\n",
    "2. Region/Continent\n",
    "2. Income per Person\n",
    "3. Life Expectancy\n",
    "4. Population\n",
    "5. Year"
   ]
  },
  {
   "cell_type": "markdown",
   "metadata": {},
   "source": [
    "## 2. \n",
    "The variable \"Country\" is \"zoomed into\" as he examines provinces within China. Upon examining a few sub-categories (provinces), he is able to see that the province Shanghai has similar wealth and health to Italy today, while the province Guizou is comparable to Pakistan. By splitting Guizou further, he can see that the rural parts have wealth and health similar to Ghana.\n",
    "\n",
    "---"
   ]
  },
  {
   "cell_type": "markdown",
   "metadata": {},
   "source": [
    "# Question 3: Principal Component Analysis (PCA) (10 pts)\n",
    "\n",
    "Download the US imports dataset from Canvas, or from [here](https://www.census.gov/foreign-trade/statistics/product/enduse/imports/enduse_imports.xlsx).\n",
    "\n",
    "This code will clean the data and format it so that it is PCA-ready:"
   ]
  },
  {
   "cell_type": "code",
   "execution_count": 6,
   "metadata": {
    "collapsed": false
   },
   "outputs": [
    {
     "name": "stdout",
     "output_type": "stream",
     "text": [
      "duplicated countries: \n",
      "['Montenegro', 'Serbia', 'Sudan']\n",
      "countries that don't trade with USA: \n",
      "['Cuba', 'Korea, North', 'Netherlands Antilles']\n"
     ]
    }
   ],
   "source": [
    "import pandas as pd\n",
    "\n",
    "df = pd.read_excel('enduse_imports.xlsx')\n",
    "\n",
    "# gather columns we care about\n",
    "df = df.loc[:,['CTY_DESC','COMM_DESC','value_15']]\n",
    "df.columns = pd.Series(['Country','Good','Value'])\n",
    "\n",
    "# not a country, remove\n",
    "df = df[df['Country'] != 'World Total']\n",
    "\n",
    "# some countries had imports recorded twice\n",
    "# remove these countries for simplicity\n",
    "importCount = df.groupby(['Country','Good']).count().iloc[:,0]\n",
    "duplicatedImports = importCount[importCount > 1]\n",
    "countriesWithDuplicates = duplicatedImports.index.get_level_values(0).unique()\n",
    "print \"duplicated countries: \"\n",
    "print [str(country) for country in countriesWithDuplicates]\n",
    "df = df[df['Country'].isin(countriesWithDuplicates) == False]\n",
    "\n",
    "# remove countries that don't export\n",
    "totalImports = df[['Country','Value']].groupby('Country').sum().iloc[:,0]\n",
    "countriesWithNoImport = totalImports[totalImports == 0].index\n",
    "print \"countries that don't trade with USA: \"\n",
    "print [str(country) for country in countriesWithNoImport]\n",
    "df = df[df['Country'].isin(countriesWithNoImport) == False]\n",
    "\n",
    "# reshape so that each type of good has its own column\n",
    "df = df.pivot(index='Country',columns='Good',values='Value')\n",
    "df = df.fillna(0)\n",
    "\n",
    "# import PCA\n",
    "from sklearn.decomposition import PCA"
   ]
  },
  {
   "cell_type": "code",
   "execution_count": 7,
   "metadata": {
    "collapsed": false
   },
   "outputs": [
    {
     "data": {
      "text/html": [
       "<div>\n",
       "<table border=\"1\" class=\"dataframe\">\n",
       "  <thead>\n",
       "    <tr style=\"text-align: right;\">\n",
       "      <th>Good</th>\n",
       "      <th>Agricultural machinery, equipment</th>\n",
       "      <th>Alcoholic beverages, excluding wine</th>\n",
       "      <th>Apparel, household goods - cotton</th>\n",
       "      <th>Apparel, household goods - wool</th>\n",
       "      <th>Apparel, textiles, nonwool or cotton</th>\n",
       "    </tr>\n",
       "    <tr>\n",
       "      <th>Country</th>\n",
       "      <th></th>\n",
       "      <th></th>\n",
       "      <th></th>\n",
       "      <th></th>\n",
       "      <th></th>\n",
       "    </tr>\n",
       "  </thead>\n",
       "  <tbody>\n",
       "    <tr>\n",
       "      <th>Afghanistan</th>\n",
       "      <td>3105.0</td>\n",
       "      <td>0.0</td>\n",
       "      <td>10739.0</td>\n",
       "      <td>7314.0</td>\n",
       "      <td>11942.0</td>\n",
       "    </tr>\n",
       "    <tr>\n",
       "      <th>Albania</th>\n",
       "      <td>0.0</td>\n",
       "      <td>34741.0</td>\n",
       "      <td>2752171.0</td>\n",
       "      <td>50838.0</td>\n",
       "      <td>1298224.0</td>\n",
       "    </tr>\n",
       "    <tr>\n",
       "      <th>Algeria</th>\n",
       "      <td>0.0</td>\n",
       "      <td>0.0</td>\n",
       "      <td>0.0</td>\n",
       "      <td>0.0</td>\n",
       "      <td>0.0</td>\n",
       "    </tr>\n",
       "    <tr>\n",
       "      <th>Andorra</th>\n",
       "      <td>0.0</td>\n",
       "      <td>0.0</td>\n",
       "      <td>351.0</td>\n",
       "      <td>0.0</td>\n",
       "      <td>0.0</td>\n",
       "    </tr>\n",
       "    <tr>\n",
       "      <th>Angola</th>\n",
       "      <td>0.0</td>\n",
       "      <td>24505.0</td>\n",
       "      <td>0.0</td>\n",
       "      <td>0.0</td>\n",
       "      <td>0.0</td>\n",
       "    </tr>\n",
       "  </tbody>\n",
       "</table>\n",
       "</div>"
      ],
      "text/plain": [
       "Good         Agricultural machinery, equipment  \\\n",
       "Country                                          \n",
       "Afghanistan                             3105.0   \n",
       "Albania                                    0.0   \n",
       "Algeria                                    0.0   \n",
       "Andorra                                    0.0   \n",
       "Angola                                     0.0   \n",
       "\n",
       "Good         Alcoholic beverages, excluding wine  \\\n",
       "Country                                            \n",
       "Afghanistan                                  0.0   \n",
       "Albania                                  34741.0   \n",
       "Algeria                                      0.0   \n",
       "Andorra                                      0.0   \n",
       "Angola                                   24505.0   \n",
       "\n",
       "Good         Apparel, household goods - cotton  \\\n",
       "Country                                          \n",
       "Afghanistan                            10739.0   \n",
       "Albania                              2752171.0   \n",
       "Algeria                                    0.0   \n",
       "Andorra                                  351.0   \n",
       "Angola                                     0.0   \n",
       "\n",
       "Good         Apparel, household goods - wool  \\\n",
       "Country                                        \n",
       "Afghanistan                           7314.0   \n",
       "Albania                              50838.0   \n",
       "Algeria                                  0.0   \n",
       "Andorra                                  0.0   \n",
       "Angola                                   0.0   \n",
       "\n",
       "Good         Apparel, textiles, nonwool or cotton  \n",
       "Country                                            \n",
       "Afghanistan                               11942.0  \n",
       "Albania                                 1298224.0  \n",
       "Algeria                                       0.0  \n",
       "Andorra                                       0.0  \n",
       "Angola                                        0.0  "
      ]
     },
     "execution_count": 7,
     "metadata": {},
     "output_type": "execute_result"
    }
   ],
   "source": [
    "df.iloc[:5,:5] # display first five rows and columns"
   ]
  },
  {
   "cell_type": "markdown",
   "metadata": {},
   "source": [
    "Now gather the top two principal components from this dataset and  \n",
    "(a) Make a scatter plot with the first component as the x-axis and the second as the y-axis. (3 pts)\n",
    "\n",
    "(b) Find the names of the six countries with the highest first component (these should be clear outliers). (2 pts)\n",
    "\n",
    "(c) Given the results of parts (a) and (b), one might theorize that the first component roughly represents the total volume of exports to the US.  Using the components\\_ attribute, gather the loadings of the first component.  Also use the original dataframe to gather the total imports to the US for each good.  Divide this list of total imports per good by the total US imports period, so that for each good we know what percent of imports it accounted for.  Make a scatter plot with this value on the x-axis and the first component's loadings on the right. (3 pts)\n",
    "\n",
    "(d) For the four goods with the highest component loadings, print the name of the good and the percent of imports it accounts for.  Briefly comment on whether you think the first component represents the total volume of imports, or whether it has another interpretation - no right or wrong answer. (2 pts)"
   ]
  },
  {
   "cell_type": "markdown",
   "metadata": {},
   "source": [
    "## (a)"
   ]
  },
  {
   "cell_type": "code",
   "execution_count": 8,
   "metadata": {
    "collapsed": false
   },
   "outputs": [
    {
     "data": {
      "text/plain": [
       "<matplotlib.text.Text at 0xc1a9ac8>"
      ]
     },
     "execution_count": 8,
     "metadata": {},
     "output_type": "execute_result"
    },
    {
     "data": {
      "image/png": "[encoded data removed]",
      "text/plain": [
       "<matplotlib.figure.Figure at 0xaeb81d0>"
      ]
     },
     "metadata": {},
     "output_type": "display_data"
    }
   ],
   "source": [
    "# Fit PCA to US Imports data to gather top two principal components\n",
    "importsPCA = PCA(n_components=2)\n",
    "importsPCA.fit(df)\n",
    "\n",
    "df_transform = importsPCA.transform(df)\n",
    "\n",
    "# Gather two principal components\n",
    "PC1 = df_transform[:,0]\n",
    "PC2 = df_transform[:,1]\n",
    "\n",
    "# Plot first component (x-axis) vs. second component (y-axis)\n",
    "scatter(PC1, PC2)\n",
    "xlabel('Principal Component 1')\n",
    "ylabel('Principal Component 2')\n",
    "title('US Imports PCA (Components 1 and 2)')"
   ]
  },
  {
   "cell_type": "markdown",
   "metadata": {},
   "source": [
    "## (b)"
   ]
  },
  {
   "cell_type": "code",
   "execution_count": 9,
   "metadata": {
    "collapsed": false
   },
   "outputs": [
    {
     "data": {
      "text/html": [
       "<div>\n",
       "<table border=\"1\" class=\"dataframe\">\n",
       "  <thead>\n",
       "    <tr style=\"text-align: right;\">\n",
       "      <th></th>\n",
       "      <th>PC1</th>\n",
       "    </tr>\n",
       "  </thead>\n",
       "  <tbody>\n",
       "    <tr>\n",
       "      <th>China</th>\n",
       "      <td>9.550198e+10</td>\n",
       "    </tr>\n",
       "    <tr>\n",
       "      <th>Mexico</th>\n",
       "      <td>4.687003e+10</td>\n",
       "    </tr>\n",
       "    <tr>\n",
       "      <th>Canada</th>\n",
       "      <td>2.912037e+10</td>\n",
       "    </tr>\n",
       "    <tr>\n",
       "      <th>Japan</th>\n",
       "      <td>1.734897e+10</td>\n",
       "    </tr>\n",
       "    <tr>\n",
       "      <th>Germany</th>\n",
       "      <td>1.366577e+10</td>\n",
       "    </tr>\n",
       "    <tr>\n",
       "      <th>Korea, South</th>\n",
       "      <td>1.169313e+10</td>\n",
       "    </tr>\n",
       "  </tbody>\n",
       "</table>\n",
       "</div>"
      ],
      "text/plain": [
       "                       PC1\n",
       "China         9.550198e+10\n",
       "Mexico        4.687003e+10\n",
       "Canada        2.912037e+10\n",
       "Japan         1.734897e+10\n",
       "Germany       1.366577e+10\n",
       "Korea, South  1.169313e+10"
      ]
     },
     "execution_count": 9,
     "metadata": {},
     "output_type": "execute_result"
    }
   ],
   "source": [
    "# Create dataframe with countries as index and each component as columns\n",
    "df_pca = pd.DataFrame({'PC1': PC1, 'PC2': PC2}, index = df.index.values)\n",
    "\n",
    "# Sort dataframe and get 6 countries with highest first component\n",
    "top6_comp1 = df_pca.sort_values(by='PC1', ascending=False)[:6]\n",
    "top6_comp1.drop('PC2', axis=1)"
   ]
  },
  {
   "cell_type": "code",
   "execution_count": 10,
   "metadata": {
    "collapsed": false
   },
   "outputs": [
    {
     "data": {
      "text/plain": [
       "China           9.550198e+10\n",
       "Mexico          4.687003e+10\n",
       "Canada          2.912037e+10\n",
       "Japan           1.734897e+10\n",
       "Germany         1.366577e+10\n",
       "Korea, South    1.169313e+10\n",
       "Name: PC1, dtype: float64"
      ]
     },
     "execution_count": 10,
     "metadata": {},
     "output_type": "execute_result"
    }
   ],
   "source": [
    "pd.Series(top6_comp1['PC1'], index=top6_comp1.index.values)"
   ]
  },
  {
   "cell_type": "markdown",
   "metadata": {},
   "source": [
    "## (c)"
   ]
  },
  {
   "cell_type": "code",
   "execution_count": 12,
   "metadata": {
    "collapsed": false
   },
   "outputs": [
    {
     "data": {
      "text/plain": [
       "<matplotlib.text.Text at 0xbb78898>"
      ]
     },
     "execution_count": 12,
     "metadata": {},
     "output_type": "execute_result"
    },
    {
     "data": {
      "image/png": "[encoded data removed]",
      "text/plain": [
       "<matplotlib.figure.Figure at 0xbcbb048>"
      ]
     },
     "metadata": {},
     "output_type": "display_data"
    }
   ],
   "source": [
    "# Gather loadings of first component\n",
    "PC1_loadings = importsPCA.components_[0]\n",
    "\n",
    "# Gather total imports and fraction of national imports for each good \n",
    "imports_perGood = df.sum(axis=0)\n",
    "totImports = sum(imports_perGood)\n",
    "fracImports_perGood = imports_perGood/totImports\n",
    "\n",
    "# Plot fraction of total imports vs. first component's loading for each good\n",
    "scatter(fracImports_perGood, PC1_loadings)\n",
    "xlabel('Fraction of Total Imports')\n",
    "ylabel('PC1 Loadings')\n",
    "title('Fraction of Total Imports vs. PC1 Loading for Each Good')"
   ]
  },
  {
   "cell_type": "markdown",
   "metadata": {},
   "source": [
    "## (d)"
   ]
  },
  {
   "cell_type": "code",
   "execution_count": 151,
   "metadata": {
    "collapsed": false
   },
   "outputs": [
    {
     "data": {
      "text/plain": [
       "Cell phones and other household goods, n.e.c.    0.498743\n",
       "Computers                                        0.373873\n",
       "Other parts and accessories of vehicles          0.312492\n",
       "Passenger cars, new and used                     0.270259\n",
       "dtype: float64"
      ]
     },
     "execution_count": 151,
     "metadata": {},
     "output_type": "execute_result"
    }
   ],
   "source": [
    "# Four good with highest component 1 loadings\n",
    "PC1_loadings = pd.Series(PC1_loadings, index=df.columns.values)\n",
    "top4_loadings = PC1_loadings.sort_values(ascending=False)[:4]\n",
    "top4_loadings"
   ]
  },
  {
   "cell_type": "code",
   "execution_count": 148,
   "metadata": {
    "collapsed": false
   },
   "outputs": [
    {
     "data": {
      "text/plain": [
       "Good\n",
       "Cell phones and other household goods, n.e.c.    0.043926\n",
       "Computers                                        0.028141\n",
       "Other parts and accessories of vehicles          0.047283\n",
       "Passenger cars, new and used                     0.073866\n",
       "dtype: float64"
      ]
     },
     "execution_count": 148,
     "metadata": {},
     "output_type": "execute_result"
    }
   ],
   "source": [
    "# Four goods with highest component 1 loadings and fraction of imports they account for\n",
    "top4_goods = top4_loadings.index.values\n",
    "fracImports_perGood[top4_goods]"
   ]
  },
  {
   "cell_type": "code",
   "execution_count": 137,
   "metadata": {
    "collapsed": false
   },
   "outputs": [
    {
     "data": {
      "text/plain": [
       "Good\n",
       "Passenger cars, new and used                     0.073866\n",
       "Crude oil                                        0.055970\n",
       "Pharmaceutical preparations                      0.048130\n",
       "Other parts and accessories of vehicles          0.047283\n",
       "Cell phones and other household goods, n.e.c.    0.043926\n",
       "Telecommunications equipment                     0.029491\n",
       "Computers                                        0.028141\n",
       "U.S. goods returned, and reimports               0.027594\n",
       "Computer accessories                             0.025344\n",
       "Industrial machines, other                       0.022844\n",
       "dtype: float64"
      ]
     },
     "execution_count": 137,
     "metadata": {},
     "output_type": "execute_result"
    }
   ],
   "source": [
    "# Top 10 goods in terms of fraction of imports they account for\n",
    "fracImports_perGood.sort_values(ascending=False)[:10]"
   ]
  },
  {
   "cell_type": "markdown",
   "metadata": {},
   "source": [
    "### Comments:\n",
    "While there does seem to be a correlation between total imports and first component loadings, the first component does not appear to solely represent the total volume of imports. The goods with the highest loadings do not directly align with the goods that have the highest fraction of imports. The two goods with the highest loadings are \"Cell phones and other household goods\" and \"Computers\". Both of these goods have significantly lower total imports than goods such as \"Crude Oil\" and \"Pharmaceutical preparations\", which both are not in the list of goods with the top 4 component 1 loadings. It seems that the first component is more aligned with the technology level of the good than with total imports.\n",
    "\n",
    "---"
   ]
  },
  {
   "cell_type": "markdown",
   "metadata": {},
   "source": [
    "# Question 4: Visualization using Bokeh (10 pts)\n",
    "\n",
    "In this problem, you'll build an interactive visualization. Bokeh is a Python interactive visualization library that targets modern web browsers for presentation. For more information on Bokeh, see http://bokeh.pydata.org/en/latest/. The problem statement is as follows:\n",
    "\n",
    "Using the [King County House Sales](http://archive.ics.uci.edu/ml/machine-learning-databases/auto-mpg/auto-mpg.data-original) data, your goal is to build a Bokeh visualization which allows the user explore how price varies with living room size and year built. You will create a visualization that allows the user to toggle the X axis of a scatter plot between living room size and year built, with the y-axis always being price. Also add the hover tool so that if the user hovers over a datapoint in the living-room-size plot a window pops up that shows year built - and vice versa.\n",
    "\n",
    "Hints: \n",
    "1. You can make use of Select widgets.\n",
    "2. See: http://bokeh.pydata.org/en/latest/docs/user_guide/interaction.html#javascript-callbacks. Specifically look at the CustomJS for Widgets under Callbacks and the Select widget. \n",
    "3. see: http://bokeh.pydata.org/en/latest/docs/user_guide/tools.html#basic-tooltips for a hover tool example.\n",
    "4. See: http://bokeh.pydata.org/en/latest/docs/reference/plotting.html. Look for the scatter API.\n",
    "5. See: http://bokeh.pydata.org/en/0.10.0/docs/user_guide/styling.html#labels. For labeling axes.\n",
    "6. Use output_notebook() from Bokeh to output the plot to your notebook"
   ]
  },
  {
   "cell_type": "markdown",
   "metadata": {
    "collapsed": true
   },
   "source": [
    "# Question 5: Ridge and Lasso Regression (6+6+4+4=20 points)\n",
    "\n",
    "In this question, you will explore the application of Lasso and Ridge regression using sklearn package in Python. The dataset is Hitters.csv (available on canvas), which contains performance records and salaries for baseball players. More information on the data can be found [here](https://rdrr.io/cran/ISLR/man/Hitters.html). There are 17 variables: first 16 columns are performance related features and the last column is for Salary. We\n",
    "wish to predict a baseball player’s Salary using all the 16 performance variables. Use a random state of 42 and a test size of 1/3 to [split the data into training and test](http://scikit-learn.org/stable/modules/generated/sklearn.cross_validation.train_test_split.html). Note: lambda is called alpha in sklearn.\n",
    "\n",
    "1. Use sklearn.linear_model.Lasso and sklearn.linear_model.Ridge classes to do a [5-fold cross validation](http://scikit-learn.org/stable/auto_examples/exercises/plot_cv_diabetes.html#example-exercises-plot-cv-diabetes-py) using sklearn's [KFold](http://scikit-learn.org/stable/modules/generated/sklearn.cross_validation.KFold.html). For the sweep of the regularization parameter, we will look at a grid of values ranging from $\\lambda = 10^{10}$ to $\\lambda = 10^{-2}$. In Python, you can consider this range of values as follows:\n",
    "\n",
    "    import numpy as np\n",
    "\n",
    "    alphas =  10\\***np.linspace(10,-2,100)*\\*0.5\n",
    "\n",
    "    Report the best chosen $\\lambda$ based on cross validation. The cross validation should happen on your training data using  average MSE as the scoring metric.\n",
    "2. Run ridge and lasso for all of the parameters specified above (on training data), and plot the coefficients learned for each of them - there should be one plot each for lasso and ridge, so a total of two plots; the plots for different features for a method should be on the same plot (e.g. Fig 6.6 of JW). What do you qualitatively observe when value of the regularization parameter is changed? \n",
    "3. Run least squares regression, ridge, and lasso on the training data. For ridge and lasso, use only the best regularization parameter. Report the prediction error (MSE) on the test data for each.\n",
    "4. Run lasso again with cross validation using [sklearn.linear_model.LassoCV](http://scikit-learn.org/stable/modules/generated/sklearn.linear_model.LassoCV.html). Set the cross validation parameters as follows:\n",
    "\n",
    "    LassoCV(alphas=None, cv=10, max_iter=10000)\n",
    "\n",
    "    Report the best $\\lambda$ based on cross validation. Run lasso on the training data using the best $\\lambda$ and report the coefficeints for 16 variables. What do you observe from these coefficients?"
   ]
  },
  {
   "cell_type": "code",
   "execution_count": 22,
   "metadata": {
    "collapsed": false
   },
   "outputs": [
    {
     "data": {
      "text/html": [
       "<div>\n",
       "<table border=\"1\" class=\"dataframe\">\n",
       "  <thead>\n",
       "    <tr style=\"text-align: right;\">\n",
       "      <th></th>\n",
       "      <th>AtBat</th>\n",
       "      <th>Hits</th>\n",
       "      <th>HmRun</th>\n",
       "      <th>Runs</th>\n",
       "      <th>RBI</th>\n",
       "      <th>Walks</th>\n",
       "      <th>Years</th>\n",
       "      <th>CAtBat</th>\n",
       "      <th>CHits</th>\n",
       "      <th>CHmRun</th>\n",
       "      <th>CRuns</th>\n",
       "      <th>CRBI</th>\n",
       "      <th>CWalks</th>\n",
       "      <th>PutOuts</th>\n",
       "      <th>Assists</th>\n",
       "      <th>Errors</th>\n",
       "      <th>Salary</th>\n",
       "    </tr>\n",
       "  </thead>\n",
       "  <tbody>\n",
       "    <tr>\n",
       "      <th>0</th>\n",
       "      <td>315</td>\n",
       "      <td>81</td>\n",
       "      <td>7</td>\n",
       "      <td>24</td>\n",
       "      <td>38</td>\n",
       "      <td>39</td>\n",
       "      <td>14</td>\n",
       "      <td>3449</td>\n",
       "      <td>835</td>\n",
       "      <td>69</td>\n",
       "      <td>321</td>\n",
       "      <td>414</td>\n",
       "      <td>375</td>\n",
       "      <td>632</td>\n",
       "      <td>43</td>\n",
       "      <td>10</td>\n",
       "      <td>475.0</td>\n",
       "    </tr>\n",
       "    <tr>\n",
       "      <th>1</th>\n",
       "      <td>479</td>\n",
       "      <td>130</td>\n",
       "      <td>18</td>\n",
       "      <td>66</td>\n",
       "      <td>72</td>\n",
       "      <td>76</td>\n",
       "      <td>3</td>\n",
       "      <td>1624</td>\n",
       "      <td>457</td>\n",
       "      <td>63</td>\n",
       "      <td>224</td>\n",
       "      <td>266</td>\n",
       "      <td>263</td>\n",
       "      <td>880</td>\n",
       "      <td>82</td>\n",
       "      <td>14</td>\n",
       "      <td>480.0</td>\n",
       "    </tr>\n",
       "    <tr>\n",
       "      <th>2</th>\n",
       "      <td>496</td>\n",
       "      <td>141</td>\n",
       "      <td>20</td>\n",
       "      <td>65</td>\n",
       "      <td>78</td>\n",
       "      <td>37</td>\n",
       "      <td>11</td>\n",
       "      <td>5628</td>\n",
       "      <td>1575</td>\n",
       "      <td>225</td>\n",
       "      <td>828</td>\n",
       "      <td>838</td>\n",
       "      <td>354</td>\n",
       "      <td>200</td>\n",
       "      <td>11</td>\n",
       "      <td>3</td>\n",
       "      <td>500.0</td>\n",
       "    </tr>\n",
       "    <tr>\n",
       "      <th>3</th>\n",
       "      <td>321</td>\n",
       "      <td>87</td>\n",
       "      <td>10</td>\n",
       "      <td>39</td>\n",
       "      <td>42</td>\n",
       "      <td>30</td>\n",
       "      <td>2</td>\n",
       "      <td>396</td>\n",
       "      <td>101</td>\n",
       "      <td>12</td>\n",
       "      <td>48</td>\n",
       "      <td>46</td>\n",
       "      <td>33</td>\n",
       "      <td>805</td>\n",
       "      <td>40</td>\n",
       "      <td>4</td>\n",
       "      <td>91.5</td>\n",
       "    </tr>\n",
       "    <tr>\n",
       "      <th>4</th>\n",
       "      <td>594</td>\n",
       "      <td>169</td>\n",
       "      <td>4</td>\n",
       "      <td>74</td>\n",
       "      <td>51</td>\n",
       "      <td>35</td>\n",
       "      <td>11</td>\n",
       "      <td>4408</td>\n",
       "      <td>1133</td>\n",
       "      <td>19</td>\n",
       "      <td>501</td>\n",
       "      <td>336</td>\n",
       "      <td>194</td>\n",
       "      <td>282</td>\n",
       "      <td>421</td>\n",
       "      <td>25</td>\n",
       "      <td>750.0</td>\n",
       "    </tr>\n",
       "  </tbody>\n",
       "</table>\n",
       "</div>"
      ],
      "text/plain": [
       "   AtBat  Hits  HmRun  Runs  RBI  Walks  Years  CAtBat  CHits  CHmRun  CRuns  \\\n",
       "0    315    81      7    24   38     39     14    3449    835      69    321   \n",
       "1    479   130     18    66   72     76      3    1624    457      63    224   \n",
       "2    496   141     20    65   78     37     11    5628   1575     225    828   \n",
       "3    321    87     10    39   42     30      2     396    101      12     48   \n",
       "4    594   169      4    74   51     35     11    4408   1133      19    501   \n",
       "\n",
       "   CRBI  CWalks  PutOuts  Assists  Errors  Salary  \n",
       "0   414     375      632       43      10   475.0  \n",
       "1   266     263      880       82      14   480.0  \n",
       "2   838     354      200       11       3   500.0  \n",
       "3    46      33      805       40       4    91.5  \n",
       "4   336     194      282      421      25   750.0  "
      ]
     },
     "execution_count": 22,
     "metadata": {},
     "output_type": "execute_result"
    }
   ],
   "source": [
    "hitters = pd.read_csv('Hitters.csv')\n",
    "hitters.head()"
   ]
  },
  {
   "cell_type": "code",
   "execution_count": 32,
   "metadata": {
    "collapsed": false
   },
   "outputs": [],
   "source": [
    "# Split data into training set (2/3) and test set (1/3)\n",
    "train, test = train_test_split(hitters, test_size = 0.33, random_state = 42)\n",
    "x_train = train.drop('Salary', axis=1)\n",
    "y_train = train['Salary'].values\n",
    "x_test = test.drop('Salary', axis=1)\n",
    "y_test = test['Salary'].values"
   ]
  },
  {
   "cell_type": "markdown",
   "metadata": {},
   "source": [
    "## 1."
   ]
  },
  {
   "cell_type": "code",
   "execution_count": 119,
   "metadata": {
    "collapsed": false
   },
   "outputs": [],
   "source": [
    "# Set range of values for alpha(regularization paramater)\n",
    "alphas = 10**np.linspace(10,-2,100)*0.5\n",
    "\n",
    "# Initialize regression models\n",
    "lasso = linear_model.Lasso()\n",
    "ridge = linear_model.Ridge()\n",
    "\n",
    "# Set number of cross-validation folds\n",
    "n_folds = 5\n",
    "\n",
    "# Create empty lists to store mean-squared errors and standard deviations for each alpha value\n",
    "lasso_scores = list()\n",
    "lasso_std = list()\n",
    "ridge_scores = list()\n",
    "ridge_std = list()\n",
    "# Fill lists with average mean-squared error for each cross validation\n",
    "for alpha in alphas:\n",
    "    lasso.alpha = alpha\n",
    "    ridge.alpha = alpha\n",
    "    lasso_score = cross_val_score(lasso, x_train, y_train, cv=n_folds, scoring='mean_squared_error')\n",
    "    ridge_score = cross_val_score(ridge, x_train, y_train, cv=n_folds, scoring='mean_squared_error')\n",
    "    lasso_scores.append(np.mean(lasso_score))\n",
    "    lasso_std.append(np.std(lasso_score))\n",
    "    ridge_scores.append(np.mean(ridge_score))\n",
    "    ridge_std.append(np.std(ridge_score))\n",
    "\n",
    "lasso_scores, lasso_std = np.array(lasso_scores)*-1, np.array(lasso_std)*-1\n",
    "ridge_scores, ridge_std = np.array(ridge_scores)*-1, np.array(ridge_std)*-1"
   ]
  },
  {
   "cell_type": "code",
   "execution_count": 308,
   "metadata": {
    "collapsed": false,
    "scrolled": true
   },
   "outputs": [
    {
     "data": {
      "text/plain": [
       "<matplotlib.text.Text at 0x2dce8400>"
      ]
     },
     "execution_count": 308,
     "metadata": {},
     "output_type": "execute_result"
    },
    {
     "data": {
      "image/png": "[encoded data removed]",
      "text/plain": [
       "<matplotlib.figure.Figure at 0x2da1a358>"
      ]
     },
     "metadata": {},
     "output_type": "display_data"
    }
   ],
   "source": [
    "plt.figure(figsize=(14,4))\n",
    "\n",
    "# Plot MSE vs. alpha for lasso regression\n",
    "plt.subplot(121)\n",
    "plt.semilogx(alphas, lasso_scores)\n",
    "lasso_stdError = lasso_std / np.sqrt(n_folds)\n",
    "plt.semilogx(alphas, lasso_scores + lasso_stdError, 'b--')\n",
    "plt.semilogx(alphas, lasso_scores - lasso_stdError, 'b--')\n",
    "plt.fill_between(alphas, lasso_scores + lasso_stdError, lasso_scores - lasso_stdError, alpha=0.2)\n",
    "plt.axhline(np.min(lasso_scores), linestyle='--', color='.5')\n",
    "plt.xlim([alphas[-1], alphas[0]])\n",
    "xlabel('Regularization Parameter (alpha/lambda)')\n",
    "ylabel('Mean Squared Error +/- Standard Error')\n",
    "title('Lasso Regression')\n",
    "\n",
    "# Plot MSE vs. alpha for ridge regression\n",
    "plt.subplot(122)\n",
    "plt.semilogx(alphas, ridge_scores)\n",
    "ridge_stdError = ridge_std / np.sqrt(n_folds)\n",
    "plt.semilogx(alphas, ridge_scores + ridge_stdError, 'b--')\n",
    "plt.semilogx(alphas, ridge_scores - ridge_stdError, 'b--')\n",
    "plt.fill_between(alphas, ridge_scores + ridge_stdError, ridge_scores - ridge_stdError, alpha=0.2)\n",
    "plt.axhline(np.min(ridge_scores), linestyle='--', color='.5')\n",
    "plt.xlim([alphas[-1], alphas[0]])\n",
    "xlabel('Regularization Parameter (alpha/lambda)')\n",
    "ylabel('Mean Squared Error +/- Standard Error')\n",
    "title('Ridge Regression')"
   ]
  },
  {
   "cell_type": "code",
   "execution_count": 297,
   "metadata": {
    "collapsed": false
   },
   "outputs": [
    {
     "name": "stdout",
     "output_type": "stream",
     "text": [
      "Best Lambdas : \n",
      "Lasso Regression : 4348.74501309 (10^3.638364)\n",
      "Ridge Regression : 1526927.75442 (10^6.183818)\n"
     ]
    }
   ],
   "source": [
    "lasso_alpha = alphas[np.argmin(lasso_scores)]\n",
    "ridge_alpha = alphas[np.argmin(ridge_scores)]\n",
    "print 'Best Lambdas : '\n",
    "print 'Lasso Regression :', lasso_alpha, '(10^%f)' % (math.log10(lasso_alpha))\n",
    "print 'Ridge Regression :', ridge_alpha, '(10^%f)' % (math.log10(ridge_alpha))"
   ]
  },
  {
   "cell_type": "markdown",
   "metadata": {},
   "source": [
    "## 2."
   ]
  },
  {
   "cell_type": "code",
   "execution_count": 265,
   "metadata": {
    "collapsed": false
   },
   "outputs": [],
   "source": [
    "# Create empty data frame to store the coefficients for each value of alpha/lambda\n",
    "df_coefs = pd.DataFrame(np.nan, index = alphas, columns = hitters.columns.values).drop('Salary', axis=1)"
   ]
  },
  {
   "cell_type": "markdown",
   "metadata": {},
   "source": [
    "### Lasso Regression"
   ]
  },
  {
   "cell_type": "code",
   "execution_count": 328,
   "metadata": {
    "collapsed": false,
    "scrolled": true
   },
   "outputs": [
    {
     "data": {
      "text/plain": [
       "<matplotlib.lines.Line2D at 0x3177f9e8>"
      ]
     },
     "execution_count": 328,
     "metadata": {},
     "output_type": "execute_result"
    },
    {
     "data": {
      "text/plain": [
       "<matplotlib.figure.Figure at 0x32713208>"
      ]
     },
     "metadata": {},
     "output_type": "display_data"
    },
    {
     "data": {
      "image/png": "[encoded data removed]",
      "text/plain": [
       "<matplotlib.figure.Figure at 0x2f53f160>"
      ]
     },
     "metadata": {},
     "output_type": "display_data"
    }
   ],
   "source": [
    "# Lasso Regression\n",
    "\n",
    "## Initialize lasso model \n",
    "lasso = linear_model.Lasso()\n",
    "## Initialize dataframe to store lasso coefficients\n",
    "lasso_coefs = df_coefs\n",
    "## Fill dataframe with regression coefficients for each value of alpha\n",
    "for alpha in alphas:\n",
    "    lasso.alpha = alpha\n",
    "    lasso.fit(x_train, y_train)\n",
    "    lasso_coefs.loc[alpha] = lasso.coef_\n",
    "\n",
    "## Plot alpha vs. the value of each coefficients\n",
    "plt.figure(figsize(10,6))\n",
    "lasso_coefs.plot(logx=True)\n",
    "legend(loc=1, ncol=2)\n",
    "xlim([alphas[-1], alphas[0]])\n",
    "title('Lasso Coefficients')\n",
    "xlabel('Regularization Parameter (lambda/alpha)')\n",
    "ylabel('Regression Coefficients')\n",
    "## Indicate best regularization parameter\n",
    "plt.axvline(lasso_alpha, linestyle='--', color='.5')"
   ]
  },
  {
   "cell_type": "markdown",
   "metadata": {},
   "source": [
    "### Ridge Regression"
   ]
  },
  {
   "cell_type": "code",
   "execution_count": 327,
   "metadata": {
    "collapsed": false
   },
   "outputs": [
    {
     "data": {
      "text/plain": [
       "<matplotlib.lines.Line2D at 0x296ee438>"
      ]
     },
     "execution_count": 327,
     "metadata": {},
     "output_type": "execute_result"
    },
    {
     "data": {
      "text/plain": [
       "<matplotlib.figure.Figure at 0x307687b8>"
      ]
     },
     "metadata": {},
     "output_type": "display_data"
    },
    {
     "data": {
      "image/png": "[encoded data removed]",
      "text/plain": [
       "<matplotlib.figure.Figure at 0x3000cfd0>"
      ]
     },
     "metadata": {},
     "output_type": "display_data"
    }
   ],
   "source": [
    "# Ridge Regression\n",
    "\n",
    "## Initialize ridge model\n",
    "ridge = linear_model.Ridge()\n",
    "## Initialize dataframe to store ridge coefficients\n",
    "ridge_coefs = df_coefs\n",
    "## Fill dataframe with regression coefficients for each value of alpha\n",
    "for alpha in alphas:\n",
    "    ridge.alpha = alpha\n",
    "    ridge.fit(x_train, y_train)\n",
    "    ridge_coefs.loc[alpha] = ridge.coef_\n",
    "\n",
    "## Plot alpha vs. the value of each coefficients\n",
    "plt.figure(figsize(10,6))\n",
    "ridge_coefs.plot(logx=True)\n",
    "legend(loc=1, ncol=2)\n",
    "xlim([alphas[-1], alphas[0]])\n",
    "title('Ridge Regression Coefficients')\n",
    "xlabel('Regularization Parameter (alpha/lambda)')\n",
    "ylabel('Regression Coefficients')\n",
    "## Indicate best regularization parameter\n",
    "plt.axvline(ridge_alpha, linestyle='--', color='.5')"
   ]
  },
  {
   "cell_type": "markdown",
   "metadata": {},
   "source": [
    "### Observations:\n",
    "\n",
    "The ridge and lasso regressions have several similar attributes. At low values of the regularization parameter, regression coefficients are far from zero. At high values of the regularization parameter, all of the coefficients approach zero. The primary difference between the two approaches is that the coefficients appear to shrink toward zero sooner and quicker in the lasso regression than in the ridge regression. This means that at some values toward the middle of our regularization parameter spectrum, many coefficients that have been shrunk to zero (or close to zero) by the lasso regression are still fairly significant in the ridge regression"
   ]
  },
  {
   "cell_type": "markdown",
   "metadata": {},
   "source": [
    "## 3."
   ]
  },
  {
   "cell_type": "code",
   "execution_count": 318,
   "metadata": {
    "collapsed": false
   },
   "outputs": [
    {
     "name": "stdout",
     "output_type": "stream",
     "text": [
      "Test Mean Squared Errors: \n",
      "\n",
      "Linear Regression : 159740.826016\n",
      "Lasso Regression  : 171668.626512\n",
      "Ridge Regression  : 164735.317126\n"
     ]
    }
   ],
   "source": [
    "# Least Squares\n",
    "linear = linear_model.LinearRegression()\n",
    "linear.fit(x_train, y_train)\n",
    "linear_pred = linear.predict(x_test)\n",
    "linear_MSE = np.mean((linear_pred - y_test)**2)\n",
    "\n",
    "# Lasso\n",
    "lasso = linear_model.Lasso(alpha = lasso_alpha)\n",
    "lasso.fit(x_train, y_train)\n",
    "lasso_pred = lasso.predict(x_test)\n",
    "lasso_MSE = np.mean((lasso_pred - y_test)**2)\n",
    "\n",
    "# Ridge\n",
    "ridge = linear_model.Ridge(alpha = ridge_alpha)\n",
    "ridge.fit(x_train, y_train)\n",
    "ridge_pred = ridge.predict(x_test)\n",
    "ridge_MSE = np.mean((ridge_pred - y_test)**2)\n",
    "\n",
    "print 'Test Mean Squared Errors: '\n",
    "print\n",
    "print 'Linear Regression :', linear_MSE\n",
    "print 'Lasso Regression  :', lasso_MSE\n",
    "print 'Ridge Regression  :', ridge_MSE"
   ]
  },
  {
   "cell_type": "markdown",
   "metadata": {},
   "source": [
    "## 4."
   ]
  },
  {
   "cell_type": "code",
   "execution_count": 324,
   "metadata": {
    "collapsed": false
   },
   "outputs": [
    {
     "name": "stdout",
     "output_type": "stream",
     "text": [
      "Best Regularization Parameter (based on cross-validation): 4311.12468383 (10^3.634591)\n"
     ]
    }
   ],
   "source": [
    "lassoCV = linear_model.LassoCV(alphas=None, cv=10, max_iter=10000)\n",
    "lassoCV.fit(x_train, y_train)\n",
    "lassoCV_pred = lassoCV.predict(x_test)\n",
    "lassoCV_MSE = np.mean((lassoCV_pred - y_test)**2)\n",
    "\n",
    "print 'Best Regularization Parameter (based on cross-validation):', lassoCV.alpha_, '(10^%f)' % math.log10(lassoCV.alpha_)"
   ]
  },
  {
   "cell_type": "code",
   "execution_count": 291,
   "metadata": {
    "collapsed": false
   },
   "outputs": [
    {
     "data": {
      "text/plain": [
       "AtBat      0.654392\n",
       "Hits       0.000000\n",
       "HmRun      0.000000\n",
       "Runs       0.000000\n",
       "RBI        0.000000\n",
       "Walks      0.000000\n",
       "Years     -0.000000\n",
       "CAtBat     0.000000\n",
       "CHits      0.119242\n",
       "CHmRun     0.000000\n",
       "CRuns      0.206727\n",
       "CRBI       0.206906\n",
       "CWalks     0.000000\n",
       "PutOuts    0.309638\n",
       "Assists   -0.000000\n",
       "Errors    -0.000000\n",
       "dtype: float64"
      ]
     },
     "execution_count": 291,
     "metadata": {},
     "output_type": "execute_result"
    }
   ],
   "source": [
    "bestLasso_coefs = pd.Series(lassoCV.coef_, index = df_coefs.columns.values)\n",
    "bestLasso_coefs"
   ]
  },
  {
   "cell_type": "markdown",
   "metadata": {},
   "source": [
    "###  Observations:\n",
    "\n",
    "The best regularization parameter based on the cross-validation results is approximately $10^{3.63}$. The corresponding lasso regression coefficients are shown above. When this shrinkage parameter is used, the majority of the coefficients are shrunk to zero (or very close to zero). In fact, only five coefficients remain significant: AtBat, CHits, CRuns, CRBI, and PutOuts."
   ]
  },
  {
   "cell_type": "markdown",
   "metadata": {},
   "source": [
    "# Question 6: Shiny app using R (10 points)\n",
    "\n",
    "In this problem, you'll build a Shiny application. Shiny is an R\n",
    "package which lets you publish web applications from R easily. For\n",
    "more information on Shiny, see http://shiny.rstudio.com. The problem\n",
    "statement is as follows:\n",
    "\n",
    "We are going to use the \"WorldPhones\" dataset available in\n",
    "\"datasets\" package. This dataset shows the number of\n",
    "telephones (in thousands) in various regions of the world in\n",
    "different years. The dataset will be loaded into a variable named\n",
    "\"WorldPhones\" once you include the datasets\n",
    "package (library(datasets)). Your goal is to build a Shiny\n",
    "app which allows the user to visualize the distribution of the\n",
    "number of telephones by region and by year (using bar graph). The\n",
    "requirements are as follows:\n",
    "\n",
    "\n",
    "1. You will give the user the option to choose between \"Region\" and\n",
    "\"Year\". Use [check-box](http://shiny.rstudio.com/reference/shiny/latest/checkboxGroupInput.html) to get the user option. The default\n",
    "option should be \"Region\".\n",
    "2. You will also give the user the ability to choose between different regions and years. (Hint: You can make use of drop-down lists)\n",
    "3. Plot a bargraph of the feature chosen by the user. For example, if the user\n",
    "selects \"Region\" using the check-box, and then selects\n",
    "\"Asia\" from the drop-down list of \"Region\",\n",
    "you need to plot a bar graph showing the number of telephones in\n",
    "Asia in various years. Similarly, if the user selects\n",
    "\"Year\" using the check-box, and then selects\n",
    "\"1951\" from the drop-down list of \"Year\", you\n",
    "need to plot a bar graph showing the number of telephones in 1951 in\n",
    "various regions. Note that if the user selects both Region and Year\n",
    "(using the check-boxes), the app will work as if only the Region has\n",
    "been selected.\n",
    "\n",
    "\n",
    "We have made available sample screenshots of our Shiny app that\n",
    "supports the above requirements, namely $shiny1.png$ and\n",
    "$shiny2.png$ (available on canvas). Your interface should look\n",
    "similar to the screenshots.\n",
    "\n",
    "\n",
    "The tutorials listed below should provide you the needed background\n",
    "to solve this problem:\n",
    "\n",
    "1. http://shiny.rstudio.com/tutorial/lesson1\n",
    "2. http://shiny.rstudio.com/gallery/\n",
    "3. http://shiny.rstudio.com/reference/shiny/latest/checkboxGroupInput.html\n",
    "\n",
    "You can submit the code and results via a PDF or other format. Just please make a reference to it in your notebook. "
   ]
  }
 ],
 "metadata": {
  "kernelspec": {
   "display_name": "Python 2",
   "language": "python",
   "name": "python2"
  },
  "language_info": {
   "codemirror_mode": {
    "name": "ipython",
    "version": 2
   },
   "file_extension": ".py",
   "mimetype": "text/x-python",
   "name": "python",
   "nbconvert_exporter": "python",
   "pygments_lexer": "ipython2",
   "version": "2.7.12"
  }
 },
 "nbformat": 4,
 "nbformat_minor": 0
}
